{
  "cells": [
    {
      "cell_type": "markdown",
      "source": [
        "# **`M.0.Overview.and.Library.installation.instructions`**"
      ],
      "metadata": {
        "id": "el9sjRdm9gjv"
      },
      "id": "el9sjRdm9gjv"
    },
    {
      "cell_type": "markdown",
      "source": [
        "## **`I. how.To use course codebook`**\n",
        "1. Notebook works in both Jupyter_Notebooks & Colab.\n",
        "2. Google built [colab](https://colab.research.google.com/) on top of Notebooks to add more features.\n",
        "3. Cosc.526 was configured in Colab with expand/collapse sectioning.\n",
        "4. There are 9 parent sections for each course module.\n",
        "5. Modules contain either exercise and assignment or both.\n",
        "6. **ALL** additional links and resources are to quality resources and tools.\n",
        "=> Consider bookmarking them for future analysis activities!\n",
        "7. You're `coding.` Consider flipping a monitor on your desk vertically.\n",
        "8. A minimum of two monitors is recommended.\n",
        "9. Try opening 2 workbooks at the same time on different monitors!\n",
        "10. **p.s.** colab offers screen companions like sparks and corgis.\n",
        "\n",
        "## **`II. What qualifies as a task's answer?`**\n",
        "- `Answer:` answers are outcomes generated from code that executes.\n",
        "- when you generate a .pdf, simply dont delete answer beneath ur code run.\n",
        "- ***What if your task's code isn't running?***\n",
        "- Add one textbox beneath the code block titled ***Enter solution here***\n",
        "- Add title: \"Professor: explanation of my current state.\"\n",
        "- Succinctly explain work done (for grading points).\n",
        "\n",
        "## **`III. Umbrella instructions`**\n",
        "1. ### **`How do I solve homework exercises and assignment tasks?`**\n",
        "`Answer:`\n",
        "a. by writing code.\n",
        "b. by modifying the code provided.\n",
        "c. by answering specified questions concisely.\n",
        "d. as necessary, reference any resource that helped accomplish work.\n",
        "\n",
        "2. ### **`What are the submission requirements?`**\n",
        "d. `Answer:` upload a **.pdf** copy after renaming it to...\n",
        "e. => weeks 1,2: last.first.exercise.and.assignment.M.#.pdf\n",
        "f. => weeks 3-9: last.first.assignment.M.#.pdf\n",
        "\n",
        "3. ### **`How do I generate a .pdf to submit work?`**\n",
        "g. `Answer:` Jupyter Notebook has File\\Save As\\ adobe.pdf\n",
        "h. **What do you do if .pdf generation fails?**\n",
        "i. 3.3.1: when in doubt, always submit a **.ipynb** file!\n",
        "j. 3.3.2: inform professor requesting permission to submit **.ipynb**\n",
        "k. 3.3.3: research and engineer the fix; Youtube and [Jupyter.forum](https://discourse.jupyter.org/).\n",
        "\n",
        "4. ### **`What are the Expected Outcome sections?`**\n",
        "l. `Answer:` It's a solution to a provided task to help guide your efforts.\n",
        "m. They're located directly beneath codeblock=> **Enter solution here**\n",
        "n. They're only provided some of the time.\n",
        "\n",
        "5. ### **`How many code blocks should my output answer be?`**\n",
        "o. `Answer` as few as possible, which means ideally \"1\"\n",
        "=> Plan and organize outcomes. Brevity is key!\n",
        "=> `Points will be detracted` for unorganized and unprofessional codeblocks.\n",
        "\n",
        "## **`IV. cosc.526 Python required libraries`**\n",
        "1. Use `Library engineering` to help get you running now.\n",
        "2. Confirm library code executes completely in `V. Library Resources\n",
        "3. If issue: research and solve it right away! [Jupyter.forum](https://discourse.jupyter.org/)\n",
        "4. Errors occur for many reasons and can be challenging to fix.\n",
        "=> Consult Python source library documents for assistance and [pypi.org](https://pypi.org/)\n",
        "=> Use the Discourse channel, on Canvas, for peer support.\n",
        "\n",
        "1. Library engineering assistance is next to help get you running now.\n",
        "2. Confirm library code executes completly in `V. Library Resources`\n",
        "3. If issue: `research and solve right away!`\n",
        "=> [Jupyter.forum](https://discourse.jupyter.org/)\n",
        "4. Errors occur for many reasons and might be challenging to resolve.\n",
        "=> Consult Python source library documents for assistance and [pypi.org](https://pypi.org/)\n",
        "=> use Discourse channel, on canvas, for peer support."
      ],
      "metadata": {
        "id": "3RMqlKER-Hv1"
      },
      "id": "3RMqlKER-Hv1"
    },
    {
      "cell_type": "markdown",
      "source": [
        "# **`V. Libraries and Resources`**\n",
        "1. Python coding companion => [Python reference.library.Cosc.526.pdf](https://github.com/cosc-526/cosc.526.home.page/blob/main/reference.library.COSC.526.pdf) <=`print.ME`\n",
        "2. https://pandas.pydata.org/docs/reference/\n",
        "3. Use [Python Docs,](https://docs.python.org/3/) **`they're simply the best\n",
        " `**\n",
        "\n",
        " [TinaTurner](https://www.youtube.com/watch?v=GC5E8ie2pdM) we love you!\n",
        "![tina](https://upload.wikimedia.org/wikipedia/commons/thumb/1/10/Tina_turner_21021985_01_350.jpg/150px-Tina_turner_21021985_01_350.jpg \"pic tina\")\n"
      ],
      "metadata": {
        "id": "R34rZNc2oE7T"
      },
      "id": "R34rZNc2oE7T"
    },
    {
      "cell_type": "markdown",
      "source": [
        "Essential reference links to bookmark\n",
        "- https://docs.python.org/3/library/stdtypes.html\n",
        "- custom course Pthon [reference library](https://github.com/cosc-526/home.page/blob/main/reference.library.data.containers.conditionals.iterators.functions.libraries.transformers.classes.pdf)\n",
        "\n",
        "=> Quality training and refernce website examples\n",
        "- https://scikit-learn.org/stable/install.html\n",
        "- https://spark.apache.org/docs/latest/api/python/getting_started/install.html\n",
        "\n"
      ],
      "metadata": {
        "id": "P3ajSx21iMmG"
      },
      "id": "P3ajSx21iMmG"
    },
    {
      "cell_type": "markdown",
      "source": [
        "## `Library installation errors are numerous!`\n",
        "- #### research and fix right away with quality key word searchers including\n",
        "- #### `git`, `docs`, `colab`, `error`, & `paste actual error into search bar`\n",
        "=> recommendation.1: avoid \"news\" and \"signup\" websites\n",
        "=> recommendation.2: google provides optimized data science search outcomes"
      ],
      "metadata": {
        "id": "5yljl9o-_JkC"
      },
      "id": "5yljl9o-_JkC"
    },
    {
      "cell_type": "markdown",
      "source": [
        "Libraries include\n",
        "- **`numpy as np`**  badass scientific for multi-dimensional arrays and math functions.\n",
        "- **`matplotlib.pyplot as plt`** for plotting and visualization.\n",
        "- **`pandas as pd`**  spreadsheet like data manipulation and analysis.\n",
        "- **`pyspark`** API for Apache Spark for processing large-scale datasets in parallel.\n",
        "- **`os`** talk to your op system and nav directories, files, and sys commands.\n",
        "- **`java`** web language; required to run pyspark library\n",
        "- **`keras`** neural networks API on top TensorFlow for deep learning w images and NLP.\n",
        "- `plotly` advanced graphing; PySpark exercises may require v.5.14.10"
      ],
      "metadata": {
        "id": "yuSoFuh-rWoj"
      },
      "id": "yuSoFuh-rWoj"
    },
    {
      "cell_type": "markdown",
      "source": [
        "## `Non-Pyspark library installation assistance`"
      ],
      "metadata": {
        "id": "6OcCyQtLo9XL"
      },
      "id": "6OcCyQtLo9XL"
    },
    {
      "cell_type": "code",
      "source": [
        "#=> why provided?\n",
        "#=> you so you can focus on reading all LMS links and resources\n",
        "\n",
        "# Are libraries installed?\n",
        "# terminal:  pip show  <library.name>\n",
        "# terminal:  pip show scikit-learn\n",
        "# colab:     !pip show scikit-learn\n",
        "\n",
        "# how.To Install library\n",
        "# Recommend installations via Terminal\n",
        "# on.jupyter:  !pip install  <library.name> [method not recommeded!]\n",
        "# on.terminal:  pip install scikit-learn\n",
        "# => package manager => https://pypi.org\n",
        "\n",
        "#=> Quality resource examples\n",
        "#https://scikit-learn.org/stable/install.html\n",
        "#https://spark.apache.org/docs/latest/api/python/getting_started/install.html\n",
        "#https://dvgodoy.github.io/handyspark/includeme.html#:~:text=HandySpark%20is%20a%20package%20designed,returning%20pandas%20objects%20straight%20away.\n",
        "\n",
        "#=> how.To update all installed libraries ?\n",
        "#thanks! rbergeron@snhu.edu\n",
        "#python3 -m pip list --outdated --format=json | jq -r '.[] | \"\\(.name)==\\(.latest_version)\"' | xargs -n1 pip3 install -U\n",
        "\n",
        "#misc\n",
        "# python -m pip freeze          # what are all installed packages in virtualenv"
      ],
      "metadata": {
        "id": "1wR997SH3w_d"
      },
      "id": "1wR997SH3w_d",
      "execution_count": null,
      "outputs": []
    },
    {
      "cell_type": "markdown",
      "source": [
        "```\n",
        "New to data mining? install all!\n",
        "-------------------------------------------------------\n",
        "[open terminal, aka command prompt, aka anaconda prompt\n",
        "-------------------------------------------------------\n",
        "C:\\Users\\your_name> pip install numpy\n",
        "C:\\Users\\your_name> pip install pandas\n",
        "C:\\Users\\your_name> pip install matplotlib\n",
        "C:\\Users\\your_name> pip install requests\n",
        "C:\\Users\\your_name> pip install csv\n",
        "C:\\Users\\your_name> pip install scikit-learn\n",
        "C:\\Users\\your_name> pip isntall tensorflow\n",
        "C:\\Users\\your_name> pip install keras\n",
        "C:\\Users\\your_name> pip install pyspark\n",
        "C:\\Users\\your_name> pip install open.ai\n",
        "```"
      ],
      "metadata": {
        "id": "zAJflnzQYvF4"
      },
      "id": "zAJflnzQYvF4"
    },
    {
      "cell_type": "markdown",
      "source": [
        "### Test import for course required libraries\n"
      ],
      "metadata": {
        "id": "bG7KZ6pUZwZE"
      },
      "id": "bG7KZ6pUZwZE"
    },
    {
      "cell_type": "code",
      "source": [
        "#Stage.1 - Data Preparation\n",
        "import pandas as pd\n",
        "import numpy as np\n",
        "import os\n",
        "import requests\n",
        "import csv\n",
        "#more data grab\n",
        "import requests  #library for downloading and parsing files; helps w git files\n",
        "\n",
        "#Stage.2 - Feature Extraction and Engineering\n",
        "from sklearn.preprocessing import OneHotEncoder\n",
        "from sklearn.preprocessing import StandardScaler\n",
        "\n",
        "#Stage.3 - unsupervised algorithms\n",
        "import sklearn\n",
        "from sklearn.cluster import KMeans, AgglomerativeClustering, DBSCAN\n",
        "from sklearn.preprocessing import StandardScaler #kind of important\n",
        "from sklearn.ensemble import IsolationForest\n",
        "from sklearn.neighbors import LocalOutlierFactor\n",
        "from sklearn.decomposition import PCA\n",
        "from sklearn.preprocessing import StandardScaler\n",
        "from sklearn.decomposition import TruncatedSVD\n",
        "from sklearn.manifold import TSNE\n",
        "\n",
        "#Stage.3 - supervised algorithms\n",
        "from sklearn.linear_model import Perceptron\n",
        "from sklearn.preprocessing import LabelEncoder\n",
        "from sklearn.linear_model import LinearRegression\n",
        "from sklearn.model_selection import train_test_split\n",
        "from sklearn.metrics import mean_squared_error\n",
        "from sklearn.linear_model import LogisticRegression\n",
        "from sklearn.naive_bayes import GaussianNB\n",
        "from sklearn.neighbors import KNeighborsClassifier\n",
        "from sklearn.tree import DecisionTreeClassifier\n",
        "from sklearn.ensemble import RandomForestClassifier\n",
        "from sklearn.preprocessing import LabelEncoder\n",
        "from sklearn.svm import SVC\n",
        "\n",
        "#Stage.3 - additional algorithm libraries\n",
        "import keras\n",
        "from keras.models import Sequential\n",
        "from keras.layers import Dense\n",
        "from keras.layers import Conv2D, MaxPooling2D, Flatten, Dense\n",
        "\n",
        "#Stage.4 - Model evaluation\n",
        "#train/test data split; confusion matrix; accuracy\n",
        "from sklearn.model_selection import train_test_split\n",
        "from sklearn.metrics import accuracy_score\n",
        "from sklearn.impute import SimpleImputer\n",
        "\n",
        "# Stage.5 - visualization libraries\n",
        "import matplotlib.pyplot as plt\n",
        "import plotly                #SVM hyperplane graphing\n",
        "import plotly.express as px  #SVM hyperplane graphing\n",
        "\n",
        "print(\"library.wheels.up\")"
      ],
      "metadata": {
        "id": "VBeXo-I2X-j_",
        "colab": {
          "base_uri": "https://localhost:8080/"
        },
        "outputId": "8c82a69e-423d-4d7d-95a8-89b02120e513"
      },
      "id": "VBeXo-I2X-j_",
      "execution_count": null,
      "outputs": [
        {
          "output_type": "stream",
          "name": "stdout",
          "text": [
            "library.wheels.up\n"
          ]
        }
      ]
    },
    {
      "cell_type": "markdown",
      "source": [
        "## **`Library.Weeks.4.5.6 - PySpark Installation`**"
      ],
      "metadata": {
        "id": "7ZFwo-53495W"
      },
      "id": "7ZFwo-53495W"
    },
    {
      "cell_type": "markdown",
      "source": [
        "#### Jupyter Notebooks `requires java` to run `PySpark`"
      ],
      "metadata": {
        "id": "7o91Ig5QKVif"
      },
      "id": "7o91Ig5QKVif"
    },
    {
      "cell_type": "code",
      "source": [
        "#confirm libraries\n",
        "!pip show pyspark    #remove !, if running on terminal\n",
        "!java -version\n",
        "#!pip install pyspark"
      ],
      "metadata": {
        "colab": {
          "base_uri": "https://localhost:8080/"
        },
        "id": "dz0lPt0nIw4H",
        "outputId": "c83ab33f-0b25-4169-acd4-dbb9f19ab0e9"
      },
      "id": "dz0lPt0nIw4H",
      "execution_count": null,
      "outputs": [
        {
          "output_type": "stream",
          "name": "stdout",
          "text": [
            "Looking in indexes: https://pypi.org/simple, https://us-python.pkg.dev/colab-wheels/public/simple/\n",
            "Collecting pyspark\n",
            "  Downloading pyspark-3.4.0.tar.gz (310.8 MB)\n",
            "\u001b[2K     \u001b[90m━━━━━━━━━━━━━━━━━━━━━━━━━━━━━━━━━━━━━━━\u001b[0m \u001b[32m310.8/310.8 MB\u001b[0m \u001b[31m3.5 MB/s\u001b[0m eta \u001b[36m0:00:00\u001b[0m\n",
            "\u001b[?25h  Preparing metadata (setup.py) ... \u001b[?25l\u001b[?25hdone\n",
            "Requirement already satisfied: py4j==0.10.9.7 in /usr/local/lib/python3.10/dist-packages (from pyspark) (0.10.9.7)\n",
            "Building wheels for collected packages: pyspark\n",
            "  Building wheel for pyspark (setup.py) ... \u001b[?25l\u001b[?25hdone\n",
            "  Created wheel for pyspark: filename=pyspark-3.4.0-py2.py3-none-any.whl size=311317130 sha256=b63634a3b5b39e8b999479fc1a0d1249313208cb8d1837af3ea8d1d72cde2253\n",
            "  Stored in directory: /root/.cache/pip/wheels/7b/1b/4b/3363a1d04368e7ff0d408e57ff57966fcdf00583774e761327\n",
            "Successfully built pyspark\n",
            "Installing collected packages: pyspark\n",
            "Successfully installed pyspark-3.4.0\n"
          ]
        }
      ]
    },
    {
      "cell_type": "markdown",
      "source": [
        " `Thank you! for preparing` for weeks.4.5.6 with PySpark ahead of time.\n",
        "1. Download Java Development Kit version 8 or 11 by operating systems\n",
        "=> `java.home` https://www.oracle.com/java/technologies/downloads/#jepp\n",
        "=> [java.instructions](https://www.java.com/en/download/manual.jsp) and [java.windows.10.instructions](https://www.java.com/en/download/help/windows_manual_download.html)\n",
        "2. Most setup code and documentation follows:\n",
        "=> `spark.docs` https://spark.apache.org/docs/latest/api/python/getting_started/install.html\n",
        "3. Colab builds include java"
      ],
      "metadata": {
        "id": "EfHrwRxpMY6I"
      },
      "id": "EfHrwRxpMY6I"
    },
    {
      "cell_type": "code",
      "source": [
        "#=> install PySpark\n",
        "# https://spark.apache.org/docs/latest/api/python/getting_started/install.html#installation\n",
        "\n",
        "!pip install pyspark"
      ],
      "metadata": {
        "id": "FlFH2L0PXe-q"
      },
      "id": "FlFH2L0PXe-q",
      "execution_count": null,
      "outputs": []
    },
    {
      "cell_type": "code",
      "source": [
        "#=> Option A\n",
        "import tensorflow as tf\n",
        "from pyspark.sql import SparkSession\n",
        "spark = SparkSession.builder.master(\"local\").getOrCreate() #create spark session\n",
        "#\"local\" argument passed to master; run spark in local mode on Colab runtime.\n",
        "\n",
        "from pyspark.sql import SparkSession #note: if run notebooks, need Java\n",
        "import pyspark.sql.functions as F\n",
        "import matplotlib.pyplot as plt\n",
        "from pyspark.sql.types import *\n",
        "from pyspark.ml.classification import LogisticRegression\n",
        "from pyspark.ml.classification import LogisticRegressionTrainingSummary\n",
        "from pyspark.ml.classification import LogisticRegressionModel, LogisticRegressionSummary\n",
        "from pyspark.ml.feature import VectorAssembler, StringIndexer, VectorIndexer\n",
        "from pyspark.ml.feature import PCA\n",
        "from pyspark.ml.linalg import Vectors\n",
        "from pyspark.ml.classification import NaiveBayes  #Perceptron,\n",
        "from pyspark.ml.classification import DecisionTreeClassifier, LinearSVC\n",
        "from pyspark.ml.classification import RandomForestClassifier, GBTClassifier\n",
        "from pyspark.ml.classification import MultilayerPerceptronClassifier\n",
        "from pyspark.ml.clustering import KMeans\n",
        "from pyspark.ml.regression import LinearRegression\n",
        "from pyspark.ml.evaluation import RegressionEvaluator, BinaryClassificationEvaluator\n",
        "from pyspark.ml.evaluation import MulticlassClassificationEvaluator\n",
        "print(\"spark.library.wheels.up\")\n",
        "\n",
        "#=> when done with spark goto end of assignment & close spark; run\n",
        "#spark.stop()  <optional:  run sc.stop()>"
      ],
      "metadata": {
        "colab": {
          "base_uri": "https://localhost:8080/"
        },
        "id": "q4qW1snx9H7U",
        "outputId": "d4802541-220a-4c08-8bca-d512ff3c4df9"
      },
      "id": "q4qW1snx9H7U",
      "execution_count": null,
      "outputs": [
        {
          "output_type": "stream",
          "name": "stdout",
          "text": [
            "spark.library.wheels.up\n"
          ]
        }
      ]
    },
    {
      "cell_type": "markdown",
      "source": [
        "#### `PySpark Optional - Jupyter Notebook discrete option settings`"
      ],
      "metadata": {
        "id": "KWMpLbplJkc8"
      },
      "id": "KWMpLbplJkc8"
    },
    {
      "cell_type": "markdown",
      "source": [
        "1. import handyspark: additional functionalities on top of PySpark like (?)\n",
        "2. import findspark: locates the Spark install sets environment variables.\n",
        "3. findspark.init(): ibid\n",
        "4. from pyspark import SparkContext, SparkConf\n",
        "=> pyspark classes create a SparkContext object; Colab does automatically\n",
        "`note:` Jupyter Notebook requires `Java;` Colab prebuilt with\n",
        "```\n",
        "#=> Option B: Notebook discrete performance settings\n",
        "import handyspark, findspark\n",
        "findspark.init()\n",
        "from pyspark import SparkContext, SparkConf\n",
        "sc = SparkContext(master=\"local[4]\")        # .o.n.l.y. run ONCE\n",
        ">>> sc => example how to create a SparkContext with a local master and 4 cores.\n",
        "```"
      ],
      "metadata": {
        "id": "-9o5WKR1N32v"
      },
      "id": "-9o5WKR1N32v"
    },
    {
      "cell_type": "markdown",
      "source": [
        "## **`API data pull setup - optional`**"
      ],
      "metadata": {
        "id": "MqZm_iFTPI7f"
      },
      "id": "MqZm_iFTPI7f"
    },
    {
      "cell_type": "markdown",
      "source": [
        "`Why use REST-APIs` to grab information?\n",
        "`Answer:` seamless integration\n",
        "=> Sources typically trusted and confirmed by provider.\n",
        "=> Illustrates sophistication to employers.\n",
        "==> Refer to source doc sites for setup details, like [kaggle.api](https://www.kaggle.com/docs/api?utm_me=)"
      ],
      "metadata": {
        "id": "u9o0vTXWQPgz"
      },
      "id": "u9o0vTXWQPgz"
    },
    {
      "cell_type": "code",
      "source": [
        "#=>Kaggle data API part I of II\n",
        "\"\"\" if you don't have your kaggle.json in Files\\root\\kaggle folder\n",
        "    you need to find this folder. see picture below. Only way this works!\"\"\"\n",
        "!cp /content/drive/MyDrive/Colab Notebooks/kaggle.json ~/.kaggle/\n",
        "import kaggle\n",
        "kaggle.api.authenticate()             #authenticae your key\n",
        "!chmod 600 /root/.kaggle/kaggle.json  #hide your key\n",
        "print(\"==> api key connect success <==\")\n",
        "!kaggle datasets download -d gpreda/covid19-variants  #read the dataset\n",
        "print(\"==> data import success <==\")\n",
        "\n",
        "#test is all packages installed\n",
        "#!pip install kaggle,  #!mkdir ~/.kaggle)\n",
        "#!pip freeze | grep kaggle"
      ],
      "metadata": {
        "colab": {
          "base_uri": "https://localhost:8080/"
        },
        "id": "jdE1h8feLamY",
        "outputId": "73773cd4-bfc4-4278-c716-14f41750e888"
      },
      "execution_count": null,
      "outputs": [
        {
          "output_type": "stream",
          "name": "stdout",
          "text": [
            "cp: cannot stat '/content/drive/MyDrive/Colab': No such file or directory\n",
            "cp: cannot stat 'Notebooks/kaggle.json': No such file or directory\n",
            "Warning: Your Kaggle API key is readable by other users on this system! To fix this, you can run 'chmod 600 /root/.kaggle/kaggle.json'\n",
            "Warning: Your Kaggle API key is readable by other users on this system! To fix this, you can run 'chmod 600 /root/.kaggle/kaggle.json'\n",
            "==> api key connect success <==\n",
            "Downloading covid19-variants.zip to /content\n",
            "  0% 0.00/432k [00:00<?, ?B/s]\n",
            "100% 432k/432k [00:00<00:00, 112MB/s]\n",
            "==> data import success <==\n"
          ]
        }
      ],
      "id": "jdE1h8feLamY"
    },
    {
      "cell_type": "markdown",
      "source": [
        "![g.kaggle.json.location.JPG](data:image/jpeg;base64,/9j/4AAQSkZJRgABAQEBIAEgAAD/4RDaRXhpZgAATU0AKgAAAAgABAE7AAIAAAAFAAAISodpAAQAAAABAAAIUJydAAEAAAAKAAAQyOocAAcAAAgMAAAAPgAAAAAc6gAAAAgAAAAAAAAAAAAAAAAAAAAAAAAAAAAAAAAAAAAAAAAAAAAAAAAAAAAAAAAAAAAAAAAAAAAAAAAAAAAAAAAAAAAAAAAAAAAAAAAAAAAAAAAAAAAAAAAAAAAAAAAAAAAAAAAAAAAAAAAAAAAAAAAAAAAAAAAAAAAAAAAAAAAAAAAAAAAAAAAAAAAAAAAAAAAAAAAAAAAAAAAAAAAAAAAAAAAAAAAAAAAAAAAAAAAAAAAAAAAAAAAAAAAAAAAAAAAAAAAAAAAAAAAAAAAAAAAAAAAAAAAAAAAAAAAAAAAAAAAAAAAAAAAAAAAAAAAAAAAAAAAAAAAAAAAAAAAAAAAAAAAAAAAAAAAAAAAAAAAAAAAAAAAAAAAAAAAAAAAAAAAAAAAAAAAAAAAAAAAAAAAAAAAAAAAAAAAAAAAAAAAAAAAAAAAAAAAAAAAAAAAAAAAAAAAAAAAAAAAAAAAAAAAAAAAAAAAAAAAAAAAAAAAAAAAAAAAAAAAAAAAAAAAAAAAAAAAAAAAAAAAAAAAAAAAAAAAAAAAAAAAAAAAAAAAAAAAAAAAAAAAAAAAAAAAAAAAAAAAAAAAAAAAAAAAAAAAAAAAAAAAAAAAAAAAAAAAAAAAAAAAAAAAAAAAAAAAAAAAAAAAAAAAAAAAAAAAAAAAAAAAAAAAAAAAAAAAAAAAAAAAAAAAAAAAAAAAAAAAAAAAAAAAAAAAAAAAAAAAAAAAAAAAAAAAAAAAAAAAAAAAAAAAAAAAAAAAAAAAAAAAAAAAAAAAAAAAAAAAAAAAAAAAAAAAAAAAAAAAAAAAAAAAAAAAAAAAAAAAAAAAAAAAAAAAAAAAAAAAAAAAAAAAAAAAAAAAAAAAAAAAAAAAAAAAAAAAAAAAAAAAAAAAAAAAAAAAAAAAAAAAAAAAAAAAAAAAAAAAAAAAAAAAAAAAAAAAAAAAAAAAAAAAAAAAAAAAAAAAAAAAAAAAAAAAAAAAAAAAAAAAAAAAAAAAAAAAAAAAAAAAAAAAAAAAAAAAAAAAAAAAAAAAAAAAAAAAAAAAAAAAAAAAAAAAAAAAAAAAAAAAAAAAAAAAAAAAAAAAAAAAAAAAAAAAAAAAAAAAAAAAAAAAAAAAAAAAAAAAAAAAAAAAAAAAAAAAAAAAAAAAAAAAAAAAAAAAAAAAAAAAAAAAAAAAAAAAAAAAAAAAAAAAAAAAAAAAAAAAAAAAAAAAAAAAAAAAAAAAAAAAAAAAAAAAAAAAAAAAAAAAAAAAAAAAAAAAAAAAAAAAAAAAAAAAAAAAAAAAAAAAAAAAAAAAAAAAAAAAAAAAAAAAAAAAAAAAAAAAAAAAAAAAAAAAAAAAAAAAAAAAAAAAAAAAAAAAAAAAAAAAAAAAAAAAAAAAAAAAAAAAAAAAAAAAAAAAAAAAAAAAAAAAAAAAAAAAAAAAAAAAAAAAAAAAAAAAAAAAAAAAAAAAAAAAAAAAAAAAAAAAAAAAAAAAAAAAAAAAAAAAAAAAAAAAAAAAAAAAAAAAAAAAAAAAAAAAAAAAAAAAAAAAAAAAAAAAAAAAAAAAAAAAAAAAAAAAAAAAAAAAAAAAAAAAAAAAAAAAAAAAAAAAAAAAAAAAAAAAAAAAAAAAAAAAAAAAAAAAAAAAAAAAAAAAAAAAAAAAAAAAAAAAAAAAAAAAAAAAAAAAAAAAAAAAAAAAAAAAAAAAAAAAAAAAAAAAAAAAAAAAAAAAAAAAAAAAAAAAAAAAAAAAAAAAAAAAAAAAAAAAAAAAAAAAAAAAAAAAAAAAAAAAAAAAAAAAAAAAAAAAAAAAAAAAAAAAAAAAAAAAAAAAAAAAAAAAAAAAAAAAAAAAAAAAAAAAAAAAAAAAAAAAAAAAAAAAAAAAAAAAAAAAAAAAAAAAAAAAAAAAAAAAAAAAAAAAAAAAAAAAAAAAAAAAAAAAAAAAAAAAAAAAAAAAAAAAAAAAAAAAAAAAAAAAAAAAAAAAAAAAAAAAAAAAAAAAAAAAAAAAAAAAAAAAAAAAAAAAAAAAAAAAAAAAAAAAAAAAAAAAAAAAAAAAAAAAAAAAAAAAAAAAAAAAAAAAAAAAAAAAAAAAAAAAAAAAAAAAAAAAAAAAAAAAAAAAAAAAAAAAAAAAAAAAAAAAAAAAAAAAAAAAAAAAAAAAAAAAAAAAAAAAAAAAAAAAAAAAAAAAAAAAAAAAAAAAAAAAAAAAAAAAAAAAAAAAAAAAAAAAAAAAAAAAAAAAAAAAAAAAAAAAAAAAAAAAAAAAAAAAAAAAAAAAAAAAAAAAAAAAAAAAAAAAAAAAAAAAAAAAAAAAAAAAAAAAAAAAAAAAAAAAAAAAAAAAAAAAAAAAAAAAAAAAAAAAAAAAAAAAAAAAAAAAAAAAAAAAAAAAAAAAAAAAAAAAAAAAAAAAAAAAAAAAAAAAAAAAAAAAAAAAAAAAAAAAAAAAAAAAAAAAAAAAAAAAAAAAAAAAAAAAAAAAAAAAAAAAAAAAAAAAAAAAAAAAAAAAAAAAAAAAAAAAAAAAAAAAAAAAAAAAAAAAAAAAAAAAAAAAAAAAAAAAAAAAAAAAAAAAAAAAAAAAAAAAAAAAAAAAAAAAAAAAAAAAAAAAAAAAAAAAAAAAAAAAAAAAAAAAAAAAAAAAAAAAAAAAAAAAAAAAAAAAAAAAAAAAAAAAAAAAAAAAAAAAAAAAAAAAAAAAAAAAAAAAAAAAAAAAAAAAAAAAAAAAAAAAAAAAAAAAAAAAAAAAAAAAAAAAAAAAAAAAAAAAAAAAAAEJCIEUAAAAFkAMAAgAAABQAABCekAQAAgAAABQAABCykpEAAgAAAAM3OQAAkpIAAgAAAAM3OQAA6hwABwAACAwAAAiSAAAAABzqAAAACAAAAAAAAAAAAAAAAAAAAAAAAAAAAAAAAAAAAAAAAAAAAAAAAAAAAAAAAAAAAAAAAAAAAAAAAAAAAAAAAAAAAAAAAAAAAAAAAAAAAAAAAAAAAAAAAAAAAAAAAAAAAAAAAAAAAAAAAAAAAAAAAAAAAAAAAAAAAAAAAAAAAAAAAAAAAAAAAAAAAAAAAAAAAAAAAAAAAAAAAAAAAAAAAAAAAAAAAAAAAAAAAAAAAAAAAAAAAAAAAAAAAAAAAAAAAAAAAAAAAAAAAAAAAAAAAAAAAAAAAAAAAAAAAAAAAAAAAAAAAAAAAAAAAAAAAAAAAAAAAAAAAAAAAAAAAAAAAAAAAAAAAAAAAAAAAAAAAAAAAAAAAAAAAAAAAAAAAAAAAAAAAAAAAAAAAAAAAAAAAAAAAAAAAAAAAAAAAAAAAAAAAAAAAAAAAAAAAAAAAAAAAAAAAAAAAAAAAAAAAAAAAAAAAAAAAAAAAAAAAAAAAAAAAAAAAAAAAAAAAAAAAAAAAAAAAAAAAAAAAAAAAAAAAAAAAAAAAAAAAAAAAAAAAAAAAAAAAAAAAAAAAAAAAAAAAAAAAAAAAAAAAAAAAAAAAAAAAAAAAAAAAAAAAAAAAAAAAAAAAAAAAAAAAAAAAAAAAAAAAAAAAAAAAAAAAAAAAAAAAAAAAAAAAAAAAAAAAAAAAAAAAAAAAAAAAAAAAAAAAAAAAAAAAAAAAAAAAAAAAAAAAAAAAAAAAAAAAAAAAAAAAAAAAAAAAAAAAAAAAAAAAAAAAAAAAAAAAAAAAAAAAAAAAAAAAAAAAAAAAAAAAAAAAAAAAAAAAAAAAAAAAAAAAAAAAAAAAAAAAAAAAAAAAAAAAAAAAAAAAAAAAAAAAAAAAAAAAAAAAAAAAAAAAAAAAAAAAAAAAAAAAAAAAAAAAAAAAAAAAAAAAAAAAAAAAAAAAAAAAAAAAAAAAAAAAAAAAAAAAAAAAAAAAAAAAAAAAAAAAAAAAAAAAAAAAAAAAAAAAAAAAAAAAAAAAAAAAAAAAAAAAAAAAAAAAAAAAAAAAAAAAAAAAAAAAAAAAAAAAAAAAAAAAAAAAAAAAAAAAAAAAAAAAAAAAAAAAAAAAAAAAAAAAAAAAAAAAAAAAAAAAAAAAAAAAAAAAAAAAAAAAAAAAAAAAAAAAAAAAAAAAAAAAAAAAAAAAAAAAAAAAAAAAAAAAAAAAAAAAAAAAAAAAAAAAAAAAAAAAAAAAAAAAAAAAAAAAAAAAAAAAAAAAAAAAAAAAAAAAAAAAAAAAAAAAAAAAAAAAAAAAAAAAAAAAAAAAAAAAAAAAAAAAAAAAAAAAAAAAAAAAAAAAAAAAAAAAAAAAAAAAAAAAAAAAAAAAAAAAAAAAAAAAAAAAAAAAAAAAAAAAAAAAAAAAAAAAAAAAAAAAAAAAAAAAAAAAAAAAAAAAAAAAAAAAAAAAAAAAAAAAAAAAAAAAAAAAAAAAAAAAAAAAAAAAAAAAAAAAAAAAAAAAAAAAAAAAAAAAAAAAAAAAAAAAAAAAAAAAAAAAAAAAAAAAAAAAAAAAAAAAAAAAAAAAAAAAAAAAAAAAAAAAAAAAAAAAAAAAAAAAAAAAAAAAAAAAAAAAAAAAAAAAAAAAAAAAAAAAAAAAAAAAAAAAAAAAAAAAAAAAAAAAAAAAAAAAAAAAAAAAAAAAAAAAAAAAAAAAAAAAAAAAAAAAAAAAAAAAAAAAAAAAAAAAAAAAAAAAAAAAAAAAAAAAAAAAAAAAAAAAAAAAAAAAAAAAAAAAAAAAAAAAAAAAAAAAAAAAAAAAAAAAAAAAAAAAAAAAAAAAAAAAAAAAAAAAAAAAAAAAAAAAAAAAAAAAAAAAAAAAAAAAAAAAAAAAAAAAAAAAAAAAAAAAAAAAAAAAAAAAAAAAAAAAAAAAAAAAAAAAAAAAAAAAAAAAAAAAAAAAAAAAAAAAAAAAAAAAAAAAAAAAAAAAAAAAAAAAAAAAAAAAAAAAAAAAAAAAAAAAAAAAAAAAAAAAAAAAAAAAAAAAAAAAAAAAAAAAAAAAAAAAAAAAAAAAAAAAAAAAAAAAAAAAAAAAAAAAAAAAAAAAAAAAAAAAAAAAAAAAAAAAAAAAAAAAAAAAAAAAAAAAAAAAAAAAAAAAAAAAAAAAAAAAAAAAAAAAAAAAAAAAAAAAAAAAAAAAAAAAAAAAAAAAAAAAAAAAAAAAAAAAAAAAAAAAAAAAAAAAAAAAAAAAAAAAAAAAAAAAAAAAAAAAAAAAAAAAAAAAAAAAAAAAAAAAAAAAAAAAAAAAAAAAAAAAAAAAAAAAAAAAAAAAAAAAAAAAAAAAAAAAAAAAAAAAAAAAAAAAAAAAAAAAAAAAAAAAAAAAAAAAAAAAAAAAAAAAAAAAAAAAAAAAAAAAAAAAAAAAAAAAAAAAAAAAAAAAAAAAAAAAAAAAAAAAAAAAAAAAAAAAAAAAAAAAAAAAAAAAAAAAAAAAAAAAAAAAAAAAAAAAAAAAAAAAAAAAAAAAAAAAAAAAAAAAAAAAAAAAAAAAAAAAAAAAAAAAAAAAAAAAAAAAAAAAAAAAAAAAAAAAAAAAAAAAAAAAAAAAAAAAAAAAAAAAAAAAAAAAAAAAAAAAAAAAAAAAAAAAAAAAAAAAAAAAAAAAAAAAAAAAAAAAAAAAAAAAAAAAAAAAAAAAAAAAAAAAAAAAAAAAAAAAAAAAAAAAAAAAAAAAAAAAAAAAAAAAAAAAAAAAAAAAAAAAAAAAAAAAAAAAAAAAAAAAAAAMjAyMzowNToyNyAxODoyMzowNgAyMDIzOjA1OjI3IDE4OjIzOjA2AAAAQgBCACAARQAAAP/hCxdodHRwOi8vbnMuYWRvYmUuY29tL3hhcC8xLjAvADw/eHBhY2tldCBiZWdpbj0n77u/JyBpZD0nVzVNME1wQ2VoaUh6cmVTek5UY3prYzlkJz8+DQo8eDp4bXBtZXRhIHhtbG5zOng9ImFkb2JlOm5zOm1ldGEvIj48cmRmOlJERiB4bWxuczpyZGY9Imh0dHA6Ly93d3cudzMub3JnLzE5OTkvMDIvMjItcmRmLXN5bnRheC1ucyMiPjxyZGY6RGVzY3JpcHRpb24gcmRmOmFib3V0PSJ1dWlkOmZhZjViZGQ1LWJhM2QtMTFkYS1hZDMxLWQzM2Q3NTE4MmYxYiIgeG1sbnM6ZGM9Imh0dHA6Ly9wdXJsLm9yZy9kYy9lbGVtZW50cy8xLjEvIi8+PHJkZjpEZXNjcmlwdGlvbiByZGY6YWJvdXQ9InV1aWQ6ZmFmNWJkZDUtYmEzZC0xMWRhLWFkMzEtZDMzZDc1MTgyZjFiIiB4bWxuczp4bXA9Imh0dHA6Ly9ucy5hZG9iZS5jb20veGFwLzEuMC8iPjx4bXA6Q3JlYXRlRGF0ZT4yMDIzLTA1LTI3VDE4OjIzOjA2Ljc4NjwveG1wOkNyZWF0ZURhdGU+PC9yZGY6RGVzY3JpcHRpb24+PHJkZjpEZXNjcmlwdGlvbiByZGY6YWJvdXQ9InV1aWQ6ZmFmNWJkZDUtYmEzZC0xMWRhLWFkMzEtZDMzZDc1MTgyZjFiIiB4bWxuczpkYz0iaHR0cDovL3B1cmwub3JnL2RjL2VsZW1lbnRzLzEuMS8iPjxkYzpjcmVhdG9yPjxyZGY6U2VxIHhtbG5zOnJkZj0iaHR0cDovL3d3dy53My5vcmcvMTk5OS8wMi8yMi1yZGYtc3ludGF4LW5zIyI+PHJkZjpsaT5CQiBFPC9yZGY6bGk+PC9yZGY6U2VxPg0KCQkJPC9kYzpjcmVhdG9yPjwvcmRmOkRlc2NyaXB0aW9uPjwvcmRmOlJERj48L3g6eG1wbWV0YT4NCiAgICAgICAgICAgICAgICAgICAgICAgICAgICAgICAgICAgICAgICAgICAgICAgICAgICAgICAgICAgICAgICAgICAgICAgICAgICAgICAgICAgICAgICAgICAgICAgICAgICAKICAgICAgICAgICAgICAgICAgICAgICAgICAgICAgICAgICAgICAgICAgICAgICAgICAgICAgICAgICAgICAgICAgICAgICAgICAgICAgICAgICAgICAgICAgICAgICAgICAgIAogICAgICAgICAgICAgICAgICAgICAgICAgICAgICAgICAgICAgICAgICAgICAgICAgICAgICAgICAgICAgICAgICAgICAgICAgICAgICAgICAgICAgICAgICAgICAgICAgICAgCiAgICAgICAgICAgICAgICAgICAgICAgICAgICAgICAgICAgICAgICAgICAgICAgICAgICAgICAgICAgICAgICAgICAgICAgICAgICAgICAgICAgICAgICAgICAgICAgICAgICAKICAgICAgICAgICAgICAgICAgICAgICAgICAgICAgICAgICAgICAgICAgICAgICAgICAgICAgICAgICAgICAgICAgICAgICAgICAgICAgICAgICAgICAgICAgICAgICAgICAgIAogICAgICAgICAgICAgICAgICAgICAgICAgICAgICAgICAgICAgICAgICAgICAgICAgICAgICAgICAgICAgICAgICAgICAgICAgICAgICAgICAgICAgICAgICAgICAgICAgICAgCiAgICAgICAgICAgICAgICAgICAgICAgICAgICAgICAgICAgICAgICAgICAgICAgICAgICAgICAgICAgICAgICAgICAgICAgICAgICAgICAgICAgICAgICAgICAgICAgICAgICAKICAgICAgICAgICAgICAgICAgICAgICAgICAgICAgICAgICAgICAgICAgICAgICAgICAgICAgICAgICAgICAgICAgICAgICAgICAgICAgICAgICAgICAgICAgICAgICAgICAgIAogICAgICAgICAgICAgICAgICAgICAgICAgICAgICAgICAgICAgICAgICAgICAgICAgICAgICAgICAgICAgICAgICAgICAgICAgICAgICAgICAgICAgICAgICAgICAgICAgICAgCiAgICAgICAgICAgICAgICAgICAgICAgICAgICAgICAgICAgICAgICAgICAgICAgICAgICAgICAgICAgICAgICAgICAgICAgICAgICAgICAgICAgICAgICAgICAgICAgICAgICAKICAgICAgICAgICAgICAgICAgICAgICAgICAgICAgICAgICAgICAgICAgICAgICAgICAgICAgICAgICAgICAgICAgICAgICAgICAgICAgICAgICAgICAgICAgICAgICAgICAgIAogICAgICAgICAgICAgICAgICAgICAgICAgICAgICAgICAgICAgICAgICAgICAgICAgICAgICAgICAgICAgICAgICAgICAgICAgICAgICAgICAgICAgICAgICAgICAgICAgICAgCiAgICAgICAgICAgICAgICAgICAgICAgICAgICAgICAgICAgICAgICAgICAgICAgICAgICAgICAgICAgICAgICAgICAgICAgICAgICAgICAgICAgICAgICAgICAgICAgICAgICAKICAgICAgICAgICAgICAgICAgICAgICAgICAgICAgICAgICAgICAgICAgICAgICAgICAgICAgICAgICAgICAgICAgICAgICAgICAgICAgICAgICAgICAgICAgICAgICAgICAgIAogICAgICAgICAgICAgICAgICAgICAgICAgICAgICAgICAgICAgICAgICAgICAgICAgICAgICAgICAgICAgICAgICAgICAgICAgICAgICAgICAgICAgICAgICAgICAgICAgICAgCiAgICAgICAgICAgICAgICAgICAgICAgICAgICAgICAgICAgICAgICAgICAgICAgICAgICAgICAgICAgICAgICAgICAgICAgICAgICAgICAgICAgICAgICAgICAgICAgICAgICAKICAgICAgICAgICAgICAgICAgICAgICAgICAgICAgICAgICAgICAgICAgICAgICAgICAgICAgICAgICAgICAgICAgICAgICAgICAgICAgICAgICAgICAgICAgICAgICAgICAgIAogICAgICAgICAgICAgICAgICAgICAgICAgICAgICAgICAgICAgICAgICAgICAgICAgICAgICAgICAgICAgICAgICAgICAgICAgICAgICAgICAgICAgICAgICAgICAgICAgICAgCiAgICAgICAgICAgICAgICAgICAgICAgICAgICAgICAgICAgICAgICAgICAgICAgICAgICAgICAgICAgICAgICAgICAgICAgICAgICAgICAgICAgICAgICAgICAgICAgICAgICAKICAgICAgICAgICAgICAgICAgICAgICAgICAgICAgICAgICAgICAgICAgICAgICAgICAgICAgICAgICAgICAgICAgICAgICAgICAgICAgICAgICAgICAgICAgICAgICAgICAgIAogICAgICAgICAgICAgICAgICAgICAgICAgICAgPD94cGFja2V0IGVuZD0ndyc/Pv/bAEMABwUFBgUEBwYFBggHBwgKEQsKCQkKFQ8QDBEYFRoZGBUYFxseJyEbHSUdFxgiLiIlKCkrLCsaIC8zLyoyJyorKv/bAEMBBwgICgkKFAsLFCocGBwqKioqKioqKioqKioqKioqKioqKioqKioqKioqKioqKioqKioqKioqKioqKioqKioqKv/AABEIAqsBHAMBIgACEQEDEQH/xAAfAAABBQEBAQEBAQAAAAAAAAAAAQIDBAUGBwgJCgv/xAC1EAACAQMDAgQDBQUEBAAAAX0BAgMABBEFEiExQQYTUWEHInEUMoGRoQgjQrHBFVLR8CQzYnKCCQoWFxgZGiUmJygpKjQ1Njc4OTpDREVGR0hJSlNUVVZXWFlaY2RlZmdoaWpzdHV2d3h5eoOEhYaHiImKkpOUlZaXmJmaoqOkpaanqKmqsrO0tba3uLm6wsPExcbHyMnK0tPU1dbX2Nna4eLj5OXm5+jp6vHy8/T19vf4+fr/xAAfAQADAQEBAQEBAQEBAAAAAAAAAQIDBAUGBwgJCgv/xAC1EQACAQIEBAMEBwUEBAABAncAAQIDEQQFITEGEkFRB2FxEyIygQgUQpGhscEJIzNS8BVictEKFiQ04SXxFxgZGiYnKCkqNTY3ODk6Q0RFRkdISUpTVFVWV1hZWmNkZWZnaGlqc3R1dnd4eXqCg4SFhoeIiYqSk5SVlpeYmZqio6Slpqeoqaqys7S1tre4ubrCw8TFxsfIycrS09TV1tfY2dri4+Tl5ufo6ery8/T19vf4+fr/2gAMAwEAAhEDEQA/APfv+Ea0L/oC6f8A+Aqf4Uf8I1oX/QF0/wD8BU/wrToq+efcd2Zn/CNaF/0BdP8A/AVP8KP+Ea0L/oC6f/4Cp/hWnRRzz7hdmZ/wjWhf9AXT/wDwFT/Cj/hGtC/6Aun/APgKn+FadFHPPuF2Zn/CNaF/0BdP/wDAVP8ACj/hGtC/6Aun/wDgKn+FadZuta9YaDBDLqMuwTyiKMDqWP8AT3qZVZRV2xOfKrtif8I1oX/QF0//AMBU/wAKP+Ea0L/oC6f/AOAqf4VYsdRhvw/lBlK9Vbr9at1NLEKtBTpyumXJSg7S3Mz/AIRrQv8AoC6f/wCAqf4Uf8I1oX/QF0//AMBU/wAK06K0559ybszP+Ea0L/oC6f8A+Aqf4Uf8I1oX/QF0/wD8BU/wqbV9WttE0uS/vt/kxsitsXJyzBRx9WFXaPaS7hdmZ/wjWhf9AXT/APwFT/Cj/hGtC/6Aun/+Aqf4Vp0Uc8+4XZmf8I1oX/QF0/8A8BU/wo/4RrQv+gLp/wD4Cp/hWnVXUNSs9Lt1n1CdYInlSFWfoXdgqr9SxA/Gjnn3C7K3/CNaF/0BdP8A/AVP8KP+Ea0L/oC6f/4Cp/hWnVJtWtk16PSDv+1SWzXK/L8uxWVTz65YUc872uF3uQ/8I1oX/QF0/wD8BU/wo/4RrQv+gLp//gKn+FadFHPPuF2Zn/CNaF/0BdP/APAVP8KP+Ea0L/oC6f8A+Aqf4Vp1S0jVrbW9NW+sd5haSSMb1wco5RuPqpo559wuyH/hGtC/6Aun/wDgKn+FH/CNaF/0BdP/APAVP8K06KOefcLszP8AhGtC/wCgLp//AICp/hTZPD/h+GJ5ZtI02ONAWZ2towFA6knHFatcL8R9VdIrfS4jgSjzZQO4zhR9Mgn8BWFfEyo03Ns68Hh54qtGknudP/wjehf9AXTv/AVP8KP+Ea0L/oC6f/4Cp/hXGReOmtfB9tbwyGbVAGid2H+qAOFY5+8SuPxzn0Njw744tNP0eNNfub6e7uLmYQLDZT3UjqoQsQIkYhRvAycDnFZ08cqk1CLd7XN62X4ihSdWeydvXz9Dq/8AhGtC/wCgLp//AICp/hR/wjWhf9AXT/8AwFT/AAqre+MdIsNJtb+4N4FvGKW1sLCc3MzDOQINnmcAE8rwOelXdJ1zT9b0z7fp0++BWZX8xGjaJl+8rqwDIR3BANdfPPuebdjP+Ea0L/oC6f8A+Aqf4Uf8I1oX/QF0/wD8BU/wqxpeqWmtaZDqGmyma1nXdFIUK7xnGQCAcHsehHI4q3Rzz7sOZmZ/wjWhf9AXT/8AwFT/AAo/4RrQv+gLp/8A4Cp/hUPh7xVpfij7d/ZErv8AYLlrabehX5h3XPVT2PQ4NbNHPPuF2Zev69a+H7ET3Ry0jbI0B5Y/4Dua5ga14h1DM9oJDEOR5EWV/PBzVD4p+b9u0/d/qvLfb/vZGf0213mi/Zv7DsvsO37P5K7Nvpj+dfM4inWx+LnRVVwjC22jdz2Ixp4bCwrcvM5X32Rz6eKry10kNeRo9zISIsjbwOCzD68duhqkNX8SPH9qXzjDjO4QDbj8unvR4i2/8Jcv2v8A1G6PP+5xn+td0uNo2Y244x0xXn4ahisdVqUZYiSVL3VbdvuyqtSlQhGapp82vp5I53w74sh1e6awuNqXka7vl6P649x6V0deT2Plf8LWX+ytvlfamxt6Ywd+Pb71esV72V1qlWi41Hdxdr97HNmNCFGpFw0UknbsFeJ+Or86h8R1ttfSaHTrNgqxxjLNH1JHTlvXt+Fe2VRvdE0vUbgT6hp1tcyquwPNEGIGScZP1NevBQc17TbrY8HGYd4iCgnbW/qcRY+MtMk12FdIguiZXCLCYwCc9uvT+VbXxAu5bfTNMg+1yWNle6lDbX11FKY2ihYN0ccpuYIm4EEbuCOtbltoWk2Vws9nptrBMudskcKqwyMdQKtXNrb3trJbXkEdxBKpWSKVAyuD1BB4IrP6vhaLf1WLSbu03fW/TsmdkZ1pL9603toed+JILHwhpOoQ+HdbvLVpGtFvIGv2m+xQSThJLld5ZkOwtyDjjOMjNTXVrF4T8WaLb+FLm6nfUIrg3NlNfS3KyRpCzLNiRmwfMCLuGM78HPFdjpnhzRNFtJrXR9HsLC3n/wBbFbWyRrJxj5gAAePWk0jwzoXh9pW0LRdP01pseYbO1SIvjpnaBmq6W/r+kH9f1/X/AAfKdUsdMm+E9h4jn1u9fVr+S0M8z30jLcTNMm+EwltoAO4bQoK7fY1PqEeta5rHim6uBbBtMunignm8SXFgdOiVAUcRJEy8g79zE7s46DFelDwh4bGpTah/wj+l/bZ8+bcfY4/MkycnLYyeQPyp+peFvD+sX8V7q2h6dfXcOBHPc2iSOmDkYYgkc0mru/8AS229LeW/3i0X9ak+iPdSeH9PfUZoJ7traMzy2zZjkfaNzKcDKk8jjpXHvokfiX4geJbfV73UHs7WG08i1hvZYUjdkYlxsYc8D+ddBe/8Jb9tl/s3+xfsuf3Xn+bvx744/KtOxtfKQ3F1BapfzooupLdMCQqMDk8kDJxnpRP3tUJXjZHlvhK6m8Yx+G9P8U6hdNbyaEtzHGl28JvphIUcuyEM5RQhxnGXyR6UfEdvHqHhnUrKS+vbvS9J8T2VvZ3JvpQRG0kHmIZAwL7GZlDMSVI4IIzXq934X0C/0qHTL3RNOuLCA5itZbVGijP+ypGB+FTDRNKGjf2QNMs/7M2eX9i8hfJ2/wB3Zjbj2xVX1v53/wDJr/8AA/qxTt0/4bS3/BPM9RstS1PxtqukpbpeWOk21uLKK68S3Vk6RlMmfKI7SHduXzGYkbMepMNjbDWPFXhOy8U64lxJcaHcqXsL5wl+RMhUecuxm+UZOMbiDxjIr0e88H+GtRtbW21Dw/pd1BZoEto5rON1gX+6gI+UcdBU9/4d0TVIRDqej2F5EsflKk9sjgJkHaAR0yAcewpLR/12a/UUtV936f5Hm1xfT2DahoVpq92vh6PXbaye/N2xktY5It0kImJ3ACTYm7OV8zGRgYn8RzT+CtSvrTwbc3T7tDury4tpbiS6Fq6FBHMA5YqTuk+Xo23pxXo0GiaVbaR/ZVvptnFp2wobNIFEJU9RsxjB+lM0jw9o3h+GSLQtJsdNjlO6RLS3SIOfU7QM0v6/C3/B/wCDqP8Ar8b/APA/qxxNxY2Hh648NX/hvV725u9SvYomEuoyXC6hCwPmOVZivyr8+5QMYx0OKxPBuo6k2oaPaayJ9N0Fr+9Sykgnx9tuhcSELMV5VMbtqfxFTu7A+m6d4W8P6Pfy32k6Hp1jdzZEk9taJG75OTlgATzU82kWD6abNdOs2hV/NjgeBTGJN28NtxjO75s9c89aq9tf6/pbrzI5b/1/Xz8i8chTjk9q8t8Ppot/oFn4i8Q+I7uy1yS4zcTjU3jFvKJMG38onywoI2bSvPXrzXYQf8Jn9oj+0/2D5O4eZ5fnbtuecZ4ziuW+IPw98Pa3ezXOpaPbu12q77tIwkqsuMfvAMjoOp5561lUm6a5jpoU1WlyGbc3Wm3fhfXvEniDV76HVrW+uYI/s+oyRCx2OwhCorBcFArnIO4Mc5zivO5dR1vxKkvijXhNczQWCNJaxag1rNYMA3zogwpB+8MkH6813J8NeG9IsLe4v7GG5+wqqre3sX2iZADwS5BbAJ69FHoBUF8/hXxVFcXCwafq0tpGAt0YBKqE5wqyEYJyM4ByO/WvOq1nJX6L9P8AP+mz3MNhVTly6cz/AFe3y+f5W4qCa28Uavcy395cSQi3hmtU+0PEWRlyZTtIJOeMnpjtXovhLQYbj+wTZeM7izvmsLmSDy4opZJ4XkQFlkkVkJHlJn5S2D26nlbzSdMvEhS+0+1nSIbYhLCrBPYZHFeq+HrTw/4m8G21jrem6dex6eNpguoEdYgPusFbOBt78dDWGAqRdX5f8D+v6a7M5o1I4ZaJ66vr5fJbL5ejqWPjxbLwmtzq7xanqf26ew0/yAqHUWRyodeyjAyzfdGCemBWVrFhdQeGbPSZtWghn8VawRq+oWxDRQboyxiTPZhGkQJ65z1OK6/VbDwRd2dvb6zZaDdW9kh+zwXEEMghXHIRCDjoOAOwqnZ3Hw/TTZdFs7PSoNPumzLaCwEUEjccsuwLngcn0Feu6tJP3pK/rvt+Z8xHDV5K8YO2vRu2/wCRJ4Rvr+HxBrHhy7vRqdvpSQNDe+SkbLvDZhcRgJuUKDwq8OvHrc8d6xcaL4PvJdOUvqNxttLGMYy88p2J19Cc/QGsW51/SvDyQ6N4ItdLtQZRu2QbbZdw5x5XVs46A10FhZ6vdXCt4nt9HmWBhLbG2R2aOTkbhv6HBIyOeaaqQq3UXe2/6kzo1aFpTja+qOJ8Pi78K+MdEhm0G50jTr2xXSXea4ikEk8QLwsdjtgkeaCT1JWrvgnwtaa/4Tt9S1281S+u5pZ8yNqdxHtUTOFUBHAwAPrXfXNnbXqxreW0NwsciyoJYwwV1OVYZ6EHkHtS21rb2VusFnBFbwrkrHEgVRk5OAOOSSfxrR+9q/P8df68jC1np/X9Ioa/oNrr9iILoYZG3xuByp/wPcVzC6L4hsMwWZkER6eTMAv5ZGK7uivKxuVUcZNVG3GS6xdjuo4ypRjyaNdmcbL4T1C90IxzTxw3iEmFidxAPJVj9ecjOMmuZXw741ih+wR/aRbkY2rdLsx6fe6e1esUVl/YuGSSi2tLXT1fqdFPNK0LppPrqtvQ5Pwf4MGgk3l8yy3rrtAX7sQ7gHufeusoor06FCnh6ap01ZHBXr1K83UqO7CkLBcbiBk4GT1rk/idH53gG6j8mOffc2i+VMcJJm5j+VuDweh4P0NUP7NXQ7jRFTw7oWiyXOrBHTTVWUOot5iDuMMZVs9wM4zzyRW19G/66GVtL+v4HcW9xDd28dxazRzwyKGSSNgyuD0II4IqSvINM17xBH4f02w0NLtRZaFb3SG3+yBJHbcP3xndSIxsAPl88nJHAr1u3d5bWKSVPLkZAzICDtJHIyOtU1ZsT0diSiuY+JI3fDbXBtDZtWG1uh6cGshrKfw9ZQLZaJofhebUbyC0a80krKwRtxJO6BBnICrkMMt07Fdbf1qHS/8AWh3Md1bzPIkU8btG/luquCUfAO0+hwQcehqWvMrJbhNcazGoNNLL4kmha9MELSqRp+dy5QqrggchR0IxgkV0vw4gkg+H+liW7mui0W4NKEBQZ+6Nqjge+T70dF6L8UHW3r+bX6HUUUV5w0R+2nwDg+W2o/atuf8AmH584j6eZ+6+ho62Dpc9GDBhlSCM44NLXl0Wva0WttM0uO6i86bUpmfTIbNJGMd0yKMTlUxg5YgFjwcjk1LN4s8TxwpauY11Oa3g1IRosciiBIyZ41K5By8e0HJI84YPAo6X/r+lZjas2u39fiemUVi+FtSm1nS5dTebzbe6uZGtMKABAG2pjHUHbuyc/eraoFuFFebaLLqdxrI0mw1WXTYJ7nV55XhhjdyyXahcF1YD757Hg+uCIpfFOuyaPZapJqZht4dNjuLs2UUEhjfcwaSeKQhzEQvAiIbIb2oWqXn/AF+g2rNrsenUV55F4j8R3fiaZ7aK6Npb6qLJ4s2iW3lZALEs4n8zB3DAweAFPWqgj1fVtF8JalqHiK8M11qSNtigt1VMxyYxmMnOB3P8R46YFrbzt+Nv8xPr5X/C/wDkenUEBlIYZB4IPeiuP+KKq/gd1eGGdWvbQGK4OI3H2iP5WODhT34PHY0DWpU+IVm1rDZXVkvkoXaOTysLkkAr069GrzSxikiSVZMqC/AqB/GT2+szR6fpdjoWnvdWiTWFmN6YDEmVflUAtuxkKD8gGafq13cXWseTZ3gigN7JAHhjQ4RYEYAEgjO5jyc+leFio88pOD0ev3W2+8+0y7ESoUoUq0db2Xzvv9zRaAw374qQcbakByMjkVy9ut3e6pBPLdSO0FtdhwETawSVUyfl78Z9+mKRbvUF0meaO6MH2SwgmSJYUCsTHuIIx0OOgxXC8O+/9XsemsbG9uV/h2T7+Z1XTrSAgjI5Fc1qN9f2ck1qJ5Lkv5BVysasm9mBA+6v8Ixu7nnNamiT3k1rML9XDxylFMjRlyuAfm2HaDkkdu1ZypOMea5tDExlU5LP+r/5HZ+Brk2/iu3URRv5wZCWXJTgnKnseMfQmvWq8c8KWX23xPZg7gkLid2BxtCfNk+2QB+NdK3hfw1/wsFpoPD2kyr/AGV9qQJZxkNJ5uQ4+X7x/vda9rLZP2Vntd/lc+Tz+K+sKUd7L87HfUV5nL4s1rTPD1hrY1JdTk1TT57prJoUEdqyRGTKbAH2KRsbcWOSORS67reraFdQQJ45tGE0Cz5vraEsdxPK7No2ccZyevJr06k40leen9eR4FOEqjtDU9LoqLbcf89Yv+/Z/wDiqNtx/wA9Yv8Av2f/AIqqIJaKi23H/PWL/v2f/iqNtx/z1i/79n/4qgCWiottx/z1i/79n/4qjbcf89Yv+/Z/+KoALi1gvIfJu4I54iytslQMuQQQcHuCAR7illtoJ2iaeGOVoX3xl0BKNgjcM9DgkZ9CaTbcf89Yv+/Z/wDiqNtx/wA9Yv8Av2f/AIqgCnP4e0W6itYrnSLCaOz/AOPZJLZGEH+4CPl6DpWjUW24/wCesX/fs/8AxVG24/56xf8Afs//ABVABdWlvfWslrewRXNvKu2SKZA6OPQg8EVmW/hHw3Zwzw2nh7SoIrlNk6RWUarKvXDAL8w9jWntuP8AnrF/37P/AMVRtuP+esX/AH7P/wAVQBXttF0uySJLPTbO3WF/MiWKBVCNt2bhgcHb8uR246VLZ2Fnp8bx2FpBapJIZHWCMIGc9WIHUnuaftuP+esX/fs//FUbbj/nrF/37P8A8VQBLUX2W3+2fa/Ii+0+X5XnbBv2Zzt3dcZ5xRtuP+esX/fs/wDxVG24/wCesX/fs/8AxVAFS60DR76zFpe6TY3NsJDKIZrZHQOSSW2kYySSSeuSatCytRMkotoRJHGYkfyxlUOMqD2HA46cCl23H/PWL/v2f/iqNtx/z1i/79n/AOKoAW3t4bS2jt7SGOCCJQkcUahVRR0AA4AqSottx/z1i/79n/4qjbcf89Yv+/Z/+KoAji06ygnE0FnbxyjfiRIlDDewZ+QP4mAJ9SMmq8vh3Rbg2pn0ewlNn/x7F7VD5Hf5Mj5fwq5tuP8AnrF/37P/AMVRtuP+esX/AH7P/wAVQBXfRtLk1VNTk020bUEXat20CmVR6B8ZA/Gll0jTZ9PSwn0+1ks0IKW7wKY1IORhSMDB5qfbcf8APWL/AL9n/wCKo23H/PWL/v2f/iqAJaxvFumyav4UvrO3himlkjyiSoGBIIPAIxu44PY4PHWtTbcf89Yv+/Z/+Ko23H/PWL/v2f8A4qlJcyaLhJwkpLoeWeBvAEd/eXF74n0jMKKI4obuHHmHOSSp5KjA4PByfSuw1XwHolxprR6ZplpYzxgtCbeFY1DYx0AxzgAnrj6V0e24/wCesX/fs/8AxVG24/56xf8Afs//ABVYRw8I0/Z9Drq46rUr+32a2PE9D0uzn8Q2cFxDbx5lZFZ4Q2xnBHA9Sx5+td7J8NdMlVxILfbIgR1W3wGUDABAboBxitO98IWt7rUWptKYp45FkIiXCuynIJ59u2K3Ntx/z1i/79n/AOKrmw+D5YuNXXXQ78bmbqTjUw75XbXY4KX4ZRTb98Vo3mKEfLMdy+hyvI5PHvXEazY2vhXWJNJjjWGKMKf3YGwEgHjAGOvpXum24/56xf8Afs//ABVc/qPgiw1XxDFq96RJLHt3QlP3chAwCwzk44744GR1yVsDCUbQQ8Jm9SFRyrO6t+J53b+G9ZuyPJ0u6yeB5kZj9+rYFegeEPCR0B5ru8aN7yVRGDHkhEznGe+T/Kuk23H/AD1i/wC/Z/8AiqNtx/z1i/79n/4qroYGnRlzrVmOMzevioezaSXkV7XRtLsry4u7LTbS3ubk5nmigVHl/wB5gMt+NQ2/hrQrRGW10XToFZi7CO0RQWPUnA61e23H/PWL/v2f/iqNtx/z1i/79n/4qu9NrY8ZpPclooBz05opDCiiigAooooAKKKKACiiigAooooAKKKKACiiigAooooAKKKKACiiigAooooAKKKKACiiigAoopk7mK3kkXGVQsM+woAfRXFaLZ+Kda0Sz1I+LXt/tcKy+UunQkJkZwCRk1xmpeIPiXpVxdPI11JZ2rtmZ7CMIyKfvEheARz1oA9oopkDmW3jkbGWQMce4rB1jX7nQNZik1KFP7DnVYzdIDutpc9ZP9k5Az2PWgDoaK5yDxHPq/iRbPQY459PtGP269blN2OI4yOrZwSegro6AOCbSdP/ALLsE/4QnUXSOJgsK3IzAPMY7STIMkklu/DVc8PadZ2+tRSQeE77TXCti5muAyrx0wJD16dK0j4VJtbeA69rf7hSvmC8+aTLFssccnnH0AqfT/D39n3q3H9sardbQR5Vzc70ORjkYoA2KqasxTRb1kJVlt5CCDgg7TVuo7mBbq1lt5CQkqFGK9QCMcVM03FpFRaUk2eSeCRYnwxBfSaR4oS9/sdppL66u5vs8zeT8xU+aQN2SVO0Y6jGKlt/GA8NyHUmW4mh/wCEd0429pJcM+ZZZHUZY59RlsE4HQ9K9HtNCtrPwrFoEUkxtYrMWauxHmFAmzJOMZx7fhWQ/wAPNGltmhlku2U2FvYq3mhWjWBi0cikAEOGOc9OBxVyfvtrb/8Aa/zREV7tn/Wsf8mYth8Sb+Ww1fzNKhv7uwtBdRf2c0rRTAttKnfGGDLwTgHI5HpXQeC/Ek/iTT55ribSZjE4UPpl00q8jOGVlDIw6YNLD4QYWV7DeeItcu5buNY/tDXQjeALyDGI1VQc9SQSehyOKn0HwvFod9e37395qN9fCNZrm7KbiqAhVARVUAZPbJz1o0DU3KKKKQwooooAKKKKACiiigAooooAKKKKACiiigAooooAKKKKACiiigAqK6BazmCgkmNgAO/FS0UAcH4Y8deG9M8K6bZX+qJBc29skcsTRvlGAwQeKPE/jrw3qfhXUrKw1RJ7m4tnjiiWN8uxGABxXeUUARWoK2cIYEERqCD24rnfEg1PW7w+HdPhe3tZog19fumVWM5GyPPVjg89hXT0UAcjodlfeENTi0WOGS80S5ZjazquXtW5YpJjqp5Ib8K66iigAooooAKKKKACiis7WddsNBtY59SkZFlkEcapGzs7YzgAAnoDQBo0VzUXj/QJLmGF557czOER7i2kjTceg3MABXS0AFFFFABRUM93bWuPtNxFDu6eY4XP50+KaOeMSQSJIh6MjAg/iKAH0UUUAFFFRz3MFsoa5mjhUnAMjBQfzoAkoqKC5guVLW00cwBwTG4bH5VLQAUUUUAFFFFABRRRQAUUUUAFFFFABRRRQAUUUUAFFFFABRRRQAUVw+jaZbeJdLudX1q/u0vvOmRzHePELDYxAUKCAMAAksDnOa3/AAjf3Wp+E7G7vm3zSIcybdvmAMQr4/2gA340AbNFFFABXMeLv+Qx4Y/7Cg/9FvXT1y3jYywS6HfLbXFxDZ6gJJhbxGRlXYwzgc9SKAIfGVlpPi+SLwvJq6Wt/HILry1XcxAVhjqBnDZxnOBnGKk8Bm8t7XUtKvbx70aZdm2hmkGGKbFIB+ma5H7N4c/4TH+1/wCydX+z+Tu8v7FPv+0ebv8AM3fTjHpXYeCjLPLrl81tcW8N5qBlhFxEY2ZdijODz1BoA6miiigDzvxB4SsfF/xIuLfU57mNLbTonTyHUHl29QauQ+AdM8OafIYfE+s6baKd7n7bHGgPTJ+THpV7UrHXbLxhLq+jWVrex3FmkDJLceUUKsxz0ORyKraiddvDYXWs6CjQWN4Jnt7WcTmRSjru2kDJVipx3/CgB/hK5Ca/fWlvr76xZSQJNbPNdJNICCRJ90DAyy8GuwrlfD9jaz+LL/WbXSr228yHyzc3pdGlJYEqsbdFG1eePQV1VABXkHxwZvtejLk7dkpxnjOVr1+uA+JvgvU/FT6fLpPks1uHV0kfb97bgj8jQB5/8OdN1G4uL29hvrqx0y1jD3j203llx6A9MgZb8McZzXYQSa9oPxU06wk1e7vtJvwzQGeXeHXYTjPTIOOR2x60/wAOeH/FGieHjo15oljf2jTGV1+2CPzAR91vlORkA/hjpWtaaFqVx4h0m4fQrHSLSwd5HMVz5zv8hVVX5Rgc/wCcUAdtRRRQBzvjnxI/hbwvLfwReZOziKHIyqsc8t7AA/jgd68jlubRtBtdf8Xpea5c6lNKkMX2oxJCqYBOQDzk8AcYr3TU9NtdX02aw1CIS2867XU/z9iDzmvP4/h7r2jJJZ6LeaVqGmNJ5qW+rwb/ACm6ZGFPOO/H0oA5608SXXgXxRZ29pc3N3od9DDcLbTnfJEkgzgejD0HX9a9rrhtD+Hrx+IDr/ii9XUtRDBo0jTbFER0IHfHGOABXc0AFFFFABRRRQAUUUUAFFFFABRRRQAUUUUAY194R0HUb5ry802KSd8b2yVEmP7wBAb8QaTRtGudEvp4be5EmkSAvDbyZ32z5+6p7p147dq2qKACiikZQ6lTnB9CQfzFAC0VF9mT+9L/AN/W/wAaPsyf3pf+/rf40AS0VF9mT+9L/wB/W/xo+zJ/el/7+t/jQBLRUX2ZP70v/f1v8aPsyf3pf+/rf40AS0VF9mT+9L/39b/Gj7Mn96X/AL+t/jQBLRUX2ZP70v8A39b/ABo+zJ/el/7+t/jQBLRUX2ZP70v/AH9b/Gj7Mn96X/v63+NAEtFRfZk/vS/9/W/xo+zJ/el/7+t/jQBLRUX2ZP70v/f1v8aPsyf3pf8Av63+NAEtFRfZk/vS/wDf1v8AGj7Mn96X/v63+NAEtFRfZk/vS/8Af1v8aPsyf3pf+/rf40AS0VF9mT+9L/39b/Gj7Mn96X/v63+NAEtFRfZk/vS/9/W/xo+zJ/el/wC/rf40AS0VF9mT+9L/AN/W/wAaPsyf3pf+/rf40AS0VF9mT+9L/wB/W/xo+zJ/el/7+t/jQBLRUX2ZP70v/f1v8aPsyf3pf+/rf40AS0VGsCowYGTI9ZGI/ImpKACiiigAooooAKK5fwJ/bf8AZM/9tbfI89vsO7/WeVk4z7dNvfHtiuooA5l/iL4Ujv2s31dFmWTyiDFJtDZx97btxnvnFbqanYyyKkd7bu7HAVZVJJ/Ovl/Vv+Q1e/8AXxJ/6EaNIONasSOD9oj/APQhQB9O6vqcOi6LeandLI8NnC00ixgFiqjJxkgZ49amnukt7cTOkrqWVcRRNI3zEAcKCcc8nsMk1keN7ea78Ba5b2sMk80thMkcUSlmdihwAByTXFXWlCWedvDeh3llaYsRdRtZPD5063cbFtpGXKoH3SDIIP3jjgWskhvRJ/10PUqK850zw59kk0vUo9Lki1L/AISC7M1x5LCQW7ST9T1EZBU4+7yD1Oa9Go6f15f5iejt/W7X6BRRRQAUUUUAFFFFABRRRQAUUUUAFFFFABRRRQAUUUUAFFFFABRRRQAUUUUAFFFFAHI2HiS7sPh/aa9qkct60qLNcMpVfLVmAyAAOACOOvvVi41fUBq2iyvBNZQ3l09s9tKVbzE8pnV+OVbI6Z9c1S0zQrnXvBtlYaleXEFulkLa4tGh2v5qgjcWPJA4OOh2g5qa90u4F34a0yd5tS+z3BnuZpIvkwsbBS3YfMVwOvH40AdbRRRQAUVU03U7XVrMXNjKJI9xRvVGHBU+hFW6AOWuPhr4SurmS4m0gGSVy7kXEqgknJ4DYH4UW/w18JWtzHcQ6QBJE4dCbiVgCDkcFsH8a4K7+MutWuszw/YLBraKdk27X3lQ2PvbsZx3x+Fb1n8ZtNu76C3Ol3UYmkVN29TtycZxQB6RRWP4vv7nS/BesX9jJ5VzbWUssT7Q21lUkHByDz61S/4Ta0t1mXUbDULK4jjjkihmjQvdB22L5YVjyWIGG2kZGQKA2V/6/rU6WiudPjO1SCQXGn38F+k6QDTXWMzu7gsgXa5QggMd27A2tkjBqjc+OLg6npNrYaLeM1xftZ3sUvlCS2YRNJt/1oGcBXyNylc4OSBRuw6XOwooooAKKKKACiiigAooooAKKKKACiiigAooooAKKKKACiiigAooooAKKKKACiiigAooooAKKKKAMLwt4Xt/DVrceWxkubyUzXEmeCxJwAPQZ/H9Bu0UUAfNmreFPEJ1m9K6FqLqZ3IZLV2UjceQQMEUaT4U8QjWbItoWooonQlntXVQNw5JIwBX0nRQBn6/pX9ueHdQ0rzvI+22zwebs3bNykZxkZxnpmsK48F3eozSXOq6wst5HHEllLBaeWIPLkEgZlLNvJZVz90YGAB1rraKOtw3VmcpJ4Ou7iV9RutWjbWvPiniuY7TbDH5auqp5RckqRJJn58/NwRgYVfB9yJ7e/bVI21RdR+3zTG1PlSHyTDsWPflRsOAdxIIyc9K6qijb+v67B/X9feFFFFABRRRQAUUUUAFFFFABRRRQAUUUUAFFFFABRRRQAUUUUAFFFFABRRRQAUUUUAFFcnZ+NLq5eJn8N6ktvINwmjiZxgjggBeR+Na0HiK1muooJLa+tmmbZG1xavGrNgnGSOuAfyrlhi6FT4ZfmvzOmeErQ+KP6/ka1FFFdRzGF4W8UW/iW1uPLUx3NnKYbiPHAYE4IPocfh+p3aqabplrpNmLaxiEce4u3q7HksT3Jq3QB836j4w8Rwa/dSRa3fr5dy5VPtDbBhjgbc4x7YxW7pvxZ8TTapaxTPavHJMiuvk4yCQDzmreofBvXrjU7meC904xyys6b5JA2CSRkBDz+NGn/BvXrfU7aee904RxSq77JJC2AQTgFBz+NAHrGv6qND8O3+qGIzfZIGlEYONxA4Ge31rDu9V8TaXHDb3h0q4ub+eKC1uIopI44mYMW3xlyWChcghl3E4wvWuongiureS3uY1lhlUpJG4yrKRggjuKxk8GaElpNbm0lkWbZukmupZJF2HKbZGYsm08jaRg9MUdQ6GK/ibX/7Uh0NDpv8AaA1A2k10YJPKKfZjMrrHvyD0BUsenXnilDr+vXWv6TcT3lrFDbjUIry3ht5Ns5t5ArMMy4GQBtyDtJPLZ46+08NaTY/Zzb2zb7aZrhJJJnkcyMhQuzMxLnacZYnjHoKB4Z0kTQSrbMklvcS3MbJPIp3ysWkzhuVYnlTlfbih36B/X5/8A4mL4h67JpT3q6esizWguYS+mXdvFbsXQCN5ZAFlyHOGTH3TwQRU3iLV/E6+fpo1GwgurW+05hcW9rKoeOacKEK+dngqd3OGU4wucjqIvBmhQwywpaSeTKoTymupWSNdwbbGpbEYyo4QAcCrN/4c0vU2umvLZna7WJZXWZ0Y+UxaMgqQVKsSQVwael0/63uCuaabgi7yC2PmIGAT9KWkRQiKoyQowMkk/metLSAKKKKACiiigAooooAKKKKACiiigAooooAKKKKACiiigAooooAKKKKAOc0XxBpVvoGnwT3iJLHaxo6kHKkKAR0puparZanfaRFYTieRL9ZGVFPChHyenTkV0tFcnsajgoOSsrdO3zOr21NTc1F3169/kMmYpbyMvBVSQfwrI/tC5/56/wDjo/wrWuf+PWX/AHD/ACrArrOUs/2hc/8APX/x0f4Uf2hc/wDPX/x0f4Vy3hD+1f7Nm/tXHk+a32TP3/LycZ9umPb8K6CgDJb4kaMl4bV9XQSq/lnMLbQc4+9txj3zitdNfWRwiX8DMxwAGQk187aj/wAhS7/67P8A+hGjTTjVbQj/AJ7p/wChCgD6R/tC5/56/wDjo/wqoviGRtYfTQ7+ckCzlti7dpYqB65yp7Vn+Ioby48M6jDphYXb2zrDsba27acYPY+9cPJZW0bahJoXhy6hsnsbeJ4mspoQWExLkxgK0mFOWA++OMnNLrb+tmPp/XdHpd1rrWXk/abjZ58qwx/Jnc56Dge1TnULkD/W/wDjoryW20NZLNnv9FW4tLXWYZYY00d4lSFo03mOBtzKpbqB3BJAq3Da3h8cWl3FpjW0n9ozLcOunzGQxFJApe6ZtrocKQgGF+UcY5On9dl/mJ/1+P8Akei6V4hk1fSbXULZnWK5iWVFkRQwBGecZ5osvEMl/NeRQs6tZz+RJuReW2q2R7YYfrXk2o6bft4Xsbc6RILuDRkFvJJp09zIJgGJWPawW3kBA+Y8nI64xWlNp3mXupE6PeHWZtShksr02j4RQkO5hLjCLw2QSN3IwelXZczX9bhLT+vI9S/tC5/56/8Ajo/wo/tC5/56/wDjo/wqtRUgWf7Quf8Anr/46P8ACj+0Ln/nr/46P8KrUUAWf7Quf+ev/jo/wo/tC5/56/8Ajo/wqtRQBZ/tC5/56/8Ajo/wo/tC5/56/wDjo/wqtRQBZ/tC5/56/wDjo/wo/tC5/wCev/jo/wAKrUUAWf7Quf8Anr/46P8ACj+0Ln/nr/46P8KrUUAWf7Quf+ev/jo/wo/tC5/56/8Ajo/wqtRQBZ/tC5/56/8Ajo/wo/tC5/56/wDjo/wqtRQBZ/tC5/56/wDjo/wo/tC5/wCev/jo/wAKrUUAWf7Quf8Anr/46P8ACj+0Ln/nr/46P8KrUUATSapPDE8ks4REUszEDAA6mqejeK4PEOmJqGjXy3Vq7FRIqY5BwRggEU6ff9nk8vZv2nb5n3c47+1YPgT7R/wiNt9r/srfufH9kbfIxuPTbxn1x3oA9FooooAjuATbSgDJKHAH0rE+zT/88ZP++DW/RQBgfZp/+eMn/fBo+zT/APPGT/vg1tW1zDd26T20iyROMqy96loA8/m+HehXE8k0ujuXkYsxEkoBJ68BsCiH4d6FbzxzRaO4eNgykySkAjpwWwaz7n41Q22rS2z6I5himMbSi5G7aDjO3b19s/jW7bfFbwxdXcVvHPcK8rhFLQEAEnAzQBqfZp/+eMn/AHwaPs0//PGT/vg1t3FxDaW0txcyLFDEheSRzgKoGSSfTFcxb+OrCfWLsNKYdNtrCO5MtxaywyFnkZRhXAJBwNuF5J4zR1sHS5c+zT/88ZP++DR9mn/54yf98GrNj4n0nUZYYra4cTTSPEsU1vJE4dFDMrK6gqdpDYYAkcjIq9YX9tqdkl3YyebBJnY+0jdgkZ57ZHXv1oAyPs0//PGT/vg0fZp/+eMn/fBrfooAwPs0/wDzxk/74NH2af8A54yf98Gt+igDA+zT/wDPGT/vg0fZp/8AnjJ/3wa36KAMD7NP/wA8ZP8Avg0fZp/+eMn/AHwa36KAMD7NP/zxk/74NH2af/njJ/3wa36KAMD7NP8A88ZP++DR9mn/AOeMn/fBrfooAwPs0/8Azxk/74NH2af/AJ4yf98Gt+igDA+zT/8APGT/AL4NH2af/njJ/wB8Gt+igDA+zT/88ZP++DR9mn/54yf98Gt+igDA+zT/APPGT/vg0fZp/wDnjJ/3wa36KAMD7NP/AM8ZP++DR9mn/wCeMn/fBrfooA56SykmieOW3d0dSrKUOCD1FUtG8N2vh7TE0/RtPa1tUYsI1DNyTknJyTXXUUAFFFFABRRRQBzng3w3N4dsbr7TcvLLeTtO0W7KQ5J4Hv6nv+FdHRRQB8r6yjR65fK6lWFxICCMEfMaNGRpNcsVRSzG4jAAGSfmFfVFFAGd4g0r+3PDt/pfm+Sbu3eISYztJGAcd65TU/CGu+IZLm41VrC0mNvbpClpdTEF4ZjLkuFRkDZx8vK9cmu8oo63DpY4ZvBV+fD919j8jT9ae6S5gmfULi+CMq7MtJL8xyhccAAAjrjNdjp9lDpum21jartgtolijX0VRgfyqxRQAUUUUAFFFFABRRRQAUUUUAFFFFABRRRQAUUUUAFFFFABRRRQAUUUUAFFFFABRRRQAUUUUAFFFFAGXoXiCy8QWkktlIPMhcxTxE/NE4OMH244PetSsvQvD9l4ftJIrKMeZM5lnlI+aVyc5PtzwO1alAHgl98UPFdtrlwE1BDDFcMBCbePbtDfdzjdjHvn3rdsPjRfXOo20Euk24SWVUYrK2QCccVgan8MvFsurXckOliSN5nZHFzEAwLEg8sD+dGmfDLxbFq1pJNpYjjSZGdzcxEKAwJPDE/lQB7hrGqQaJot5ql5u8izhaaQKOSFGcCuCvPiRe6hpN2mhLpDX9u1tIWtdVW5jEUkoQgssRw+eCuMANkMcYr0K/sbfU9PuLG9j8y3uI2jkTJG5SMHkdKyH8KC40i5sL/WtUvFnCBJZnj3wbG3KV2oFJBAOWDE45zS6j6Edv4j1K71CWO10aOe0tbhbS7mjvPnSUhSxRCg3ou4ZJZTwcKa6OsJPC0ceom5j1XUo0klSe4t45EWO4lUAb2wgYE7VyqsqnHI5NbtV0J6hRRRSGFFFFABRRRQAUVk+J9fh8L+G7vV7mJ5ktwP3acFiWCgZ7ckc1keBfiBY+N7WbyoTZ3sHMls0m/5T0YHAyO3Tg/hWbqwU1BvVnZDA4ieGliowvCLs32f5nW0UUVocYUUUUAFFFFABRRTXbZGzegJoAdRXzVoXxP8T2vieK7udSmu4J5x51rIcoVJ5Cj+H2xivpWubD4iNdNx6Ht5tk1fKpwjVafMtLeW4UUUV0niBRRRQAUUUUAFFFFABRRRQAUVzPgfVtV1XTLk6tbFEguHit7hjzOgJGce2MZ7/ga6agDOPiLRRd/ZTrFgLjf5fk/ak37s427c5zntWjXytq3/ACGr3/r4k/8AQjVzSNX1JdbsSNQus/aI/wDls394e9AH0rf39tpenXF9fSeVbW0bSyvtLbVAyTgZJ49KnBDKCOhGRWB4+/5J34g/7B0//oBrl9Ya90K+vrSx1LUjaSWlnPcySXDzPAjXBSaRC2SnyZJ24C4yAMUdbDeiv/XT/M9IorzCO5+3eIrHTtI1q/uvD82oqkdzFqEjmQ/ZZ2kjWfcWdQVjP3jgk4IxxPYJdWTWl0uqalNLH4gk09RPeySIbfe6hGUnDEYHzsC3HWjrb+ui/VCeiv8A11/yPSKK8x8EajrF74itTfahb/aykv8Aalm2qzTSqe2bYxBINrYAwQCO7da9Oo6B1aCiiigAooooAr39jbanp89lfRLNbzoUkRuhBr5x0d5fh/8AF1Ld5WWG3vPs8jNxvhc43H/gJDfhX0tXzx8cII4fiErxrhprKN3PqcsufyUflXm49WjGqt0z7ThKp7StVwU/gqRf3/8ADN/gfQ9FU9Hme40OwmkJZ5LaN2J7kqCauV6Kd1c+NnFwk4voFFFFMkKKKKACkdd8bL03DFLRQB8d2ziy1OJ51JEEwLqOvytyP0r600TXLDxFpMWo6VMJreUcHGCp7qR2Ir5j8X6T/ZnxA1PT52EEf2xirEZCxudyn/vlhXW/A7V7m28XzaYshNrdwM7Rk8B15DD3xkf/AKq8DB1XRqum+rsfrfEmBhmOXxxkHrCPN5NOzZ7/AEUUV75+SBRRRQAUUUUAFFFFABRRRQAiIsaKkahVUYVVGAB6UtIjrIivGwZWGVZTkEetLQBwN38HfD13eTXLXWoxtNIzlUlTaCTnAyhOPxotPg74etLyG5W61GRoZFcK8qbSQc4OEBx+NPm+L/h2DUns5Yb8eXKYmm8pdgwcFvvZx+Gfat2Dxx4ZubiOGHWbVpJGCou7GSegoA3qKo63qX9j6BqGp+V532O2kn8vdt37FLYzg4zjrism88Z2tjdWsd2kUEMt0LeWeW6jVYR9nM+48nHTGG2nnPTGQdv69DpKKhtLy21C0jurC4iubeUZjmhcOjj1BHBqagQUUUUAFFcj8UpriD4Z6vJaSvFIEjBZDg7TIoYZ9wTXKfAS/lm0XVbKSVnjtpo3jRjnZvDZx6DK1zyrpVlStuj2KWVyqZbUzBS0jK1remt/mj1G+1Gy0yAT6leW9pEWCiS4lWNc+mSeteL/ABO+Jl9PrP8AY3hS/eKCH5Zbi1bDyyZ+6rDnA6cdTmo/j5PMdf0q3LnyFtmdVzxuLEE/kBXl7wXVh9luGV4TMnnwODglQ5XcPT5kP5V5uMxc+Z0o6W6n2vDeQYf2VPHVnzOSdova/wCr0/qx6L8OPGviO28e22kavf3d3DcStBNDdyGRo3APILZIII6fWovjm27x/CMfdsIx/wCPuf61jeGJ3f4wWU8hLPLqm4nPXc55/Wtf44/8lAj/AOvGP/0J6wcm8LJN3sz1Y0KdPPaU4RUeam27d7nvOjDGhWA/6do//QRWdrHjfw5oGoJZavqsNvcvj93hmK56btoO38cVoWNxFD4ftrmVgkSWqyMx/hUICT+VfNdjp9z8SPiNOkTmH7fPJO8jDd5MfJ6d8DAH4V6mIrypKMYK7Z8JlGVUcfUrVcTJxp0022vn69n0PYvF3xc0zwtri6YllLfyIFa4eOQKIwwyAODuOCD2HPWu40+/t9U023v7N99vcxLLG2MZUjIrw343aFYaRe6PPZRFZ7iBo5nLZ8wRhFQkeuOM/Surg8SyeFPgLp99CwF28AhtiecOzHB/BQT+FRDETjVnGpslc6sTlGGq5fha2DT56j5Xfq9VfyV1925oeMvixp/hLXY9LWye/lUBrkxyhfJB6DoctjnHHUc13kEyXFvHNHnZIgdcjHBGa+U4NAvtU8M6r4nup/3NtKqF5Dlp5XZcj8A2Sfp749Y+At9LNoGp2kkzOtvOjIjHOwMp6egytZ4fFzqVeWa0ex05zkGFwuA9th5XlTdp76t2+61+nfXU9XoorwP4meM9fvfHM+haPeXNtBBIsEcVs5RppCBnJHJ5OAOnArtr140I8zPm8qyupmdd0oNRsrtvoib476LND4gstZSI/Z7iAQO4HAkUk8/VSMf7prlPhhqC6d8SNIlkOEklMBz6upUfqRUuo6B4/XSrk6tHqv2FE8ycXNwTHheckFscdq5fTrn7FqlrdHP7iZJOOvDA/wBK8CrO1dVLW1vqfrWBwyllbwXtFO0XG8ezWnzPsSio7eeK6tori3cSRSoHRx0ZSMg/lUlfTH4g007MKKKKBBRRRQAUUUUAFFFFAHM+B9J1XStMuRq1yXSe4eW3t2HMCEk4z75zjt+ddNRRQB8rat/yGr3/AK+JP/QjRpP/ACGrL/r4j/8AQhX0rL4Z0GeZ5Z9E06SR2LO72kZZiepJI5NEXhnQYJklg0TTo5EYMjpaRhlI6EEDg0AJ4os59R8IavZWcfmXFzYzRRJuA3MyEAZPA5PeuSuNA1i31+PUE0g3sUOrRXflrNEGZFsPKLDcwGRJwASORngc16FRQtHcd9Lev4mF4TsLqysb2W9tvsb3t9LdLa7lYwK2MKSpK5OCxwSMseT1rdoooEFFFFAGD45hSfwDrqSDIFhM4+qoWH6gV5R8A5mXxFqsAPyvaq5GepVwB/6Ea9wubaK8tJra5QPDMjRyKf4lIwR+Rr5s1TT9a+FPjhZ7QkojE20zKfLuIj1VsfkR2PPoa83F3p1YVraLc+24f5cZgMTlylactY362/4Zfn0HfF3UJb74k36SNmO1WOCIf3QFDH/x5mNY+v6lZajoegLas32mztGtrhGXGMSFlIPcHefyNaGkWt58R/iQstzbjbd3AluxCCFjiGN3PbgYB9TWf4z8Lz+EfE1xps254vv28pH+sjPQ/XsfcGvKqc8uaqtm/wDgn3+D9hRdDAydqlOKdl6cr/z/ABNH4Y2Fxq3xJ01kVnEEpuZnx90KM5P44H4iui+PNsU8X2Fz/DLZBPxV2/8AihXo3wo0qysfAGn3VtbRJcXcZeeZV+aQ7mxk+w7Vl/GbwneeINDtL/S4WnuNPZ98KDLPG2MkDuQVHHoTXf8AVnHBu2rep8l/bVOrxFFy92Ebw1+evzZrWN/F4t+Ec0ekTrPcyaWbZ0Q4KTeTgofQ5P614l4C8ZDwLrF1dTaZ9seaLySpl8to/mBP8J9OnHSvUfgdpl7YeG9QkvraW3We5BiEqFSwC4JAPbPGfauw1XwN4Z1q7N1qWjW0s7HLSAFGY+pKkZP1rV0qleEKsXaSOCOPwWWYjE4CtFzpSfR6+m6/NbHgfjbxjd/EXXLFLXTzCIx5Nvbq/mM7MRk5wOuBx7V2HxU0qXQvhj4Z0x23fZnCSkdC/lnOPbJavUdH8HeHtAn8/SNJt7ebGPNC7nA9mOSKoeP/AAb/AMJr4fjsUuhazQzCaOQruUnBBBHpg/pSeEqck5Sd5Mcc/wAI8VhqdGHJQptvXV6p69dr+Z4NqeuQH4Z6JodrKDKLme5u0Xsc7Uz+BP6VY+Gfir/hEfF0bXpMdjeKIbjcMbQeVf8AA/oTXcaJ8B1g1GObXdUS5toyCYIIyvmexYngfT9K0fil8NDrcK6v4egUX0EYSW2QAecijA2/7QHGO447AVyrD4iK9rbWNtPQ96ec5RVbwHNeFTmblsk5O63X49LLzt6grB1DIQykZBByCK+bvHD/ANifGi4u5gSkN7DddOowj8fyq94I+JHiLw/qFl4fvYDd23nLAIJkImiBOMKevGeAc+nFeteLvh3onjGRJ9QWaC7jXYtxbsAxX0IIII/DPvXXUf1yl+73TPAwlP8A1cxzWM1p1ItJrtda2/rfS5xvj34m+H9c8BX9lot8zXdwETynhZTt3gtyRjoCOteMvZMmkQX2Dslnkhz2yqof/Z69V174D3EUYk8N6kLgjrDdgK34MOPwIH1rdtvhMz/C3+wryWJdUE7XiSocqkpAXaT3BUAH355xXLVoYivNua1SPcwOaZPleHjHC1G4ynrfdXVr7LRWR0/wzuhd/DfRnEgkKQeUSD02krj8ABXU1812vhH4j6I72+m22q2qh+RaXBVGPr8rYPQV9CaAuop4esF1tg2oCBBcEY+/jnpxn6cV6OFrSnHklFqyPj8+y+lh6rxFKtGanJuyeqvr0NCiiiuw+aCiiigAooooAKKKKAMvQvEFl4gtJJbKQeZC5iniJ+aJwcYPtxwe9alZeheH7Lw/aSRWUY8yZzLPKR80rk5yfbngdq1KAPBL74oeK7bXLgJqCGGK4YCE28e3aG+7nG7GPfPvW7YfGi+udRtoJdJtwksqoxWVsgE44rA1P4ZeLZdWu5IdLEkbzOyOLmIBgWJB5YH86NM+GXi2LVrSSbSxHGkyM7m5iIUBgSeGJ/KgD2XxfPLbeCdbntpXhmi0+d45I2KsjCNiCCOQQe9cpd69qja/ZW+nmaeWLVkgMMt0I45Q2nmTBITIUEhiDvORkdgO51TT4tX0e8065Z1hvIHgkaMgMFZSpIyCM4PpWLc+CbOe6+1RX1/a3Au1u0lhdMpIsHkDAKEEbecEHJ9uKFo3/XUelrev4pWKs+s6hqekPOZrnRvsNxJBqCafb/bZ/MXG0Rfum3KQwJOzOMdOaoPqmt3Pg+21mfXVsE+yAx/Y4o5JLu4LEIjKysOfkG1MHcWGRittfB0MNvELTVdStryOWSVr+N4zLK0mN+8MhjOcL/BxtGMVDJ4GgD6e1hrOp2H9no4iEXkSAu5JeUiWJ/nOT8wxwSBgE0raf12F/X46HQ2LXL6dbNfoqXTRKZlT7qvgbgPbOanqK2ieC1jiluJLl0UK00oUNIfU7QFz9AB7VLVPcS0QVDd2Vrf25gvraG5hbrHNGHU/geKmopblJuLuivZ6fZadD5Wn2kFrGf4IIlQfkBXh/wAe7nf4p022/wCednv/AO+nYf8Aste8V87/ABvYt8QgD0WzjA/Nj/WvPx+lCyPruEk6maqUndpN/p+p6J8Eb03Xw98ljn7JdyRAegOH/m5r0SvJ/gG5Ph3VU7C6Uj8U/wDrV6xW+Ed6ETzOIKap5pXS73+/X9QooorpPDCiiigAooooAia1t3uEuHgiaZBhJCgLL9D1FS0UUDbb3CiiigQUUUUAFFFFABRRRQAUUUUAFFFFABRXOeDfEk3iKxuvtNs8UtnO0DS7cJNgnke/qO3410dABRXy1qdxMniK8uEldZluncSBjuDBjzn1rd0vx74nfWLNZNZuHRp0DK2CGBYZB4oA+hZ54ra3knuZUhhiUvJJIwVUUDJJJ4AA70xry2R4ke4iVpm2RKXAMjbS2F9TtBOB2GayfG3/ACIOv/8AYNuP/RbVxNy8tz4ptIEu0sGXXIo0uIoYw4zphPUrhmJJALbsZA6AChauw7aX9fwsepUV5ld3Oq69JY6HPfWtxCNSurd7q8h3R3YiUFFeOMoHPzMCoKgmMnHGKzfFviOTV/h7Pp8tndWlrHY3HnS6fYzvbytEzxoiOilUjJTedxGF2jkE0L+vzBK7t/W9j1+iq9hcJd6fBPEsipJGGUSxNGwGO6sAwPsQKsU3oyU7q4dKrWWpWOpK7adeW92sbbXMEquFPocHg03VbEapo95YNK0IuoHhMidU3KRkfnXzr4Ga88M/Fy306K4wUvXsp9vCyqGKnI+oyPfFclau6U4q2jPfyzKYZhh601O06aulbdep9K14N8d9Mkh8UWOpBD5Nza+WW7b0Y5H5Mte81j+J/DNh4s0V9N1RW8ssHSRDho3HRh+ZH408TRdak4rczyPMI5djo15/Ds/R/wCW5598Av8AkBav/wBfKf8AoNes1zvgzwbZeCtKls7GWWdppPMlllxljjAGB0AH9a6Kqw8JU6UYy3M85xVPGY+pXpfC3p9yQUUUVueSFFMlljghaWeRY40GWd2wFHqSayf+Ey8Mf9DHpP8A4HRf/FVLlFbs1p0atTWEW/RXNmivAF8b+J/FHxVgi0PUJo7c3eyC2jlxCYVJJLDo2VBJJz7dq9l17xfoXhlV/trUYrd2GViALuw9dqgnHv0rCliYVE5bJdT1sdkuJwc6dJ+9Oavyq7a+X9dTaorh7X4weDrqcRNqEsGTgNNAwU/iAcfjXaxSxzwpLBIskcihkdGyrA9CCOorWFSE/hdzz8Rg8Thbe3puN+6aH0UUVocgUUUUAFFFFABRRRQAUUUUAFFFFAEVtbQ2lukFtGscSDCqo6VLRRQB5ZffBRbvULi4TXjGs0rOENnuK5OcZ3jP5UWPwUW01C3uH14yLDKrlBZ7S2DnGd5x+Vda/wARfCkd+1m+rosyyeUQYpNobOPvbduM984rdTU7GWRUjvbd3Y4CrKpJP50ATTwRXNvJBcxJNDKpSSORQyupGCCDwQR2qncaFpF4rrd6XZTq7b3EtujBm2bMnI5Oz5c+nHSpdU1CLSNHvNRuVdobOB55FjALFVUsQMkDOB61UfxDax3tnatDdB7y4+zxsYSq7vJMucnAI2qRlc88etG49f6/Emk0LSJtJXS5tLspNPQALaNboYlx0wmMfpVhrG0ewNi1rC1oY/KNuYx5ZTGNu3pjHGKnrJvvFGkadqIsru5dZsqHKwSPHEWOFEkiqVjz23EZoEawGBgcCish/FWjx6sNNa6cTmUQbvIkMQkIyIzLt2B/9ndn2rXo8w8gr5t+JULeHfizcXlp8rGWK9j56NwT/wCPA19JV87/ABvUj4hAn+KzjI/Nq87MV+6T7M+y4Ol/woSg9pRd/vR9AzXttbWf2u6uI7e3ChjLM4RVB9SeBS2l5bX9stxY3EVzA/3ZYXDq30I4r5v+InjdvFFxaWFkzDTrCMKvP+ukxhnI9Ow9snvXW/ALUJ/P1fTixNuFSdVP8LZKkj6jH5CnDGqdb2aWncnE8MVMNlrxlSVpLXlt0bt9/X8D2mkZgqlmIAAyST0pa+bvG2r6142+INxo8Ds0cV29raWofanykjcc8ZOM5P0rfEV1Rina7Z5OT5TLM6so86hGKu2+i/A+kQQQCDkHoRRXhXwT8UXlt4hfw5dyu9rcI7Qxuc+VIoyQPQEA5HqB717rVUKyrQ50ZZtls8sxTw83fS6fdM8V+O/iC4W7sdAgkZIDF9pnCniQliFB+m0nHuPSsmw+CGtahpVpepqNlF9ohWUxSB8puGQDgHnmm/HUEePbYkddPjx/33JXtnhW/h1Pwlpd5bbvLktkwGGCCBgj8wa8+NKFfEzVTofYVcfiMpybCzwllzXu7X13/r0PP9F+Hi/DnRtV8Rz3q3mp2tlK1vtTEcR2nnnkk9O3BNeceDPCd58RfEVz9r1Ex7B51zcSZd2yccep+p4/SvePiKSPhzre3r9lYfyryP4PeJNG8Myaxda7fJaJIsKR5RnZjlycBQT6dqmtSpRrQpPSO5plmOxtfLsTjo+9Wuoqyu7aaJW82/xN3WvgPDHpbvoOpTS3qDIiuQoWT2BAG0/XI/nWP8JvFmpaJ4rj8Maizm0nleHyZOtvKM9PTJGCPU5+vsmk+LNA1ybytJ1a1uZcZ8pZMOR/unmvBrE+d8eyYhwddkIx6CU/0p1oU6M4To9XYjLsVi8xwuJwuYq/LHmV1Zp6+nyPpGiiivYPzkKKKKACiiigAooooAKKKKACiiigDl/An9t/2TP/AG1t8jz2+w7v9Z5WTjPt0298e2K6iiigD5W1b/kNXv8A18Sf+hGjSDjWrEjg/aI//QhX0BcfDXwldXMlxNpAMkrl3IuJVBJOTwGwPwot/hr4StbmO4h0gCSJw6E3ErAEHI4LYP40AaPi+CW58E63BbRPNNLp86RxxqWZ2MbAAAckk9q4bUdKc64JdU0e8u9PGsxSzIlo8oaMabsLFQDuUP8AKRg5PGCeK9RooWlx30t6/ieT3OjahLpKR6FpV/aj7TdSQIEaAppxxvt/mX5GkPKIcFeD8u3Fa/iLfdWS6dpOmanaqVha3tI7D/Rr9cJhJ32ZiC7dpDOhwOjDivQaKFp/X9f1fuL/AIP4/wBfl2OIvNQt7vxWunXGnahaafZXazfudIuHW9uc7g/mJGUEasQck5Zhk4A+bt6KKOlg63CvDPj5p5j13StQA4nt2hJ90bP/ALPXudef/GfR/wC0vAElyi5l0+VZxjrtPysP/Hs/hXJjIc9CS+Z9Bw5iVhs0pSezfL9+i/Gx4t4Qt45ItfuJUDG20edoyRnDMVj/AJOa7r4AxZ1TWpf7sMS/mzH+lcL4RDPbeIok5L6NKceyyRuf0U1vfB7xQ2h+LBppgSSHVnjidycNGw3bSO2CW5H0/Hx8NKMalNvzP0jOqVWtg8XCnq7R+5Wb/U+i6+Ub1tRn8f3r6N5/29r+Zofs+fM3b2PGOc19XV4V42+FPiGLxRdar4aj+0wXMxnURTBJIWY5I5I4yTjB6V6OPpznGLir27HxfCWMw+HrVYVpKPMtObb0Zb+FHw/1uy8ULr2u20lmlur+Usx/eSOylScdQME8nvXr8eq6dNfGyiv7V7sLuMCzKZAPXbnOK+ef+Fa/EDVH/wBMs52BPL3N4h/mxNLH8M/Heg6ta3OnWbfaFcNHPbTqQh98ngY654INY0a06MeWNN2/ryPUzLL8LmVd1a2NhzWskrWVvPmZ1Hx+07E2jakkZwVkt5H9MYZR+r11Pwa1tdU8Bx2pULLp0hgbH8Sn5lP64/Cun1vw9b+JvDTaVrmHMiKXki4KSD+Jc9Of04qr4M8GWPgrS5bSxllnaaTzJZZcZY4wBgdAB/WuqNGccS6i2aPn6uZ4erkkcFUv7SEtO1rvW/o2vuLvifTn1bwnqlhCMy3FpIkY/wBoqdv64r5b0a30qa+ktvEFzcWEZUhLiKLzPKcH+JOCR16c5xX1zXC+J/hJ4f8AEl9LfAz2F3Kd0j25G12/vFSOv0xmpxmGlValHdG/DudUcBGpQrtqMtU1un/Xk/Q8NvfD2lLKo0nxTYXqHgmWKW3YH6MuMe+a7b4WeCY18WW+qXOsaXOLTLR29rdLJI7EEAkDoBnP1FaU37P8ZX/R/ETBvR7PIP5PxWBq3wS8S6apm0ya31EJyBE5jk474bj8jmuCOHq0pKbp7dn/AMOfXVc2wONoSw1PGWcla8o23+UUfQdFfN+m+PfGngrVIrXWHvHiTBez1BSSyZx8rNyOhwQcfWvoqzuor6xgu7Zt0NxGssbeqsMj9DXrUMRGteys0fnua5NWyxxlOSlGWzWxNRRRXSeIFFFFABRRRQAUUUUAFFFFAFTTdTtdWsxc2Mokj3FG9UYcFT6EVbrC8LeF7fw1a3HlsZLm8lM1xJngsScAD0Gfx/QbtAHjN38ZdatdZnh+wWDW0U7Jt2vvKhsfe3Yzjvj8K3rP4zabd30FudLuoxNIqbt6nbk4zivNNW8KeITrN6V0LUXUzuQyWrspG48ggYIo0nwp4hGs2RbQtRRROhLPauqgbhySRgCgD6H1fU4dF0W81O6WR4bOF5pFjALFVGSACQM8etYM3jpIJriGTw/rIlt4BdOnlw58g5/e58zGPlPy53/7NbWv6X/bnh3UNL87yPttu8Hm7d2zcpGcZGevTNVLzw79rv725+1bPtWm/YNvl52cud+c8/f6e3Wpd+n9aP8AWw9NP67fpcgk8a6et1sitrye0WSKKa/jRfJgeUKUVssGOd6ZKqQNwyRWffeMZrjVNKi0u2vIrObUntnvZIozDcBIpdyr82/h0HJC52nBIqGP4aWcOrR3gXS5wxhadrzSUmn3Roq/u5S3yAhBwQ2DnBFW4/Bd3HdWcY1dDptjeyXlvb/ZP3gLrICrSb8EAytj5QfUnrVS8hR21/rcWPxvHb+H7HUbmw1C7gksY7y6vIbZY44EYZ3MGk+pKoXIHXtnrAQQCOhrzzUvhWNQ0mCwk1G0mSLTI7ASXmmid4SikeZDlwIic5PDE4HI616Ei7Y1XOcDGaqVru3cXYWqup2EOq6Vdafc/wCpuoWifHXDDH9atUVDV1Zlxk4SUo7o8k8A/CjUdA8SXlzrklvLZm3kt0WNiTMH4JIxwNuePes/Svgzq+lePLS6juoW0u1ukuEm34kKq24KVx97jHp39q9rork+p0Ukrban0L4lzB1Jzcl765Xppp1XnqwooorsPnAooooAKKKKACiiigAooooA4D4o/D+48ZWtrc6U8SX9pldspwJUPbPYg8j6mtzwFoeoeHfBtnpurXAmuYt2drFhGCchAT1wK6OisVRgqjqLdnozzLEVMHHBSacIu60169e2oUUUVsecFFFFABRRRQAUUUUAFFFFABRWF4W8UW/iW1uPLUx3NnKYbiPHAYE4IPocfh+p3aACivm/UfGHiODX7qSLW79fLuXKp9obYMMcDbnGPbGK3dN+LPiabVLWKZ7V45JkV18nGQSAec0Ae50Vl+J9Tm0Xwpqmp2ixvPZ2kk0ayAlSyqSAcEHHHrXOXmt+K7W9v7XztGLWunjUVf7LLgrlwYseb1+X/WZ/4BSbS3HZ/wBfL/NHb0VwQ8Ya5NFe6lCmnpp9neW0DQPE7TSJKkLHD7wFKmY/wnOMcdTq+CpNWkGs/wBs38N55epSxxeXC8ewDGQN0j/L0wOMc9c1Vnez7X/L/Mm+l/66/wCR1FFFFIYUUUUAFFFFABRRRQAUUUUAFFFFABRXnfxl8RX+heF7WPSrqS0nu7jY0sTbXCBSSARyOdvIrU+Fup6hq/w/s7vVp2uJmeRVlflmVWIGT3PBGawVaLqul1tc9WWWVY5fHHtrlcuW3Xrr+DOwooorc8oKKKKACiiigAooooAKKKKACiiigAooooAqabplrpNmLaxiEce4u3q7HksT3Jq3RRQB4vqHwb1641O5ngvdOMcsrOm+SQNgkkZAQ8/jRp/wb1631O2nnvdOEcUqu+ySQtgEE4BQc/jXoT/EXwpHftZvq6LMsnlEGKTaGzj723bjPfOK3U1OxlkVI723d2OAqyqST+dAC39jbapp1xY30fm21zG0Uqbiu5SMEZGCOPSoptHsbi4nmlg3SXFt9kkbew3RZJ29ePvHnrzV2ilZMLmUnhnSI7Ke0S0xBcSRyyp5j/M0YQIc5yMCNOnpz1NWbLSrPT7q7uLNHje8k82Yea5UvjG4KTtUnvgDPfNSXt/badFHJeSeWkkyQodpOXdgqjj1JAzVinvr/X9bB5BRRRQAUUUUAFFFFABRRRQAUUUUAFFFIzBVLMQABkk9qAPDvj3qqTaxpelxnLW0LzSYPdyAB+SZ/GvT/h9p76X8PtHtZV2uLcSMvoXJfH/j1eFfN8RPi93aC8vPygT+XyL+dfS4AVQFAAAwAO1ebhf3ladb5f1+B9tn6WCy7C5d1S5n6u/6uX3C0UUV6R8SFFFFABRRRQAUUUUAFFFFABRRRQAUUUUAcv4E/tv+yZ/7a2+R57fYd3+s8rJxn26be+PbFdRRRQB8rat/yGr3/r4k/wDQjRpBxrViRwftEf8A6EK+gLj4a+Erq5kuJtIBklcu5FxKoJJyeA2B+FFv8NfCVrcx3EOkASROHQm4lYAg5HBbB/GgDV8TQ31z4W1OHSGZb6S1kWAo+1t5U4wex96851mys49KvpNC0W703STbW8d3A9o9sZ5/tMeMKwBZwu8Fx13D5jjj1qq9/YW2p2jWt7H5sLMrFdxHKsGHI56gGl1uHS39f1oeX6j4e068W9ubHwxINEhvbCRLSTSnU7ll/wBIeOBk3YKFAcL8208HrXq6bRGuwbVwMDGMD6dqWiq6W/rZL9A63CiiikAUUUUAFFFFABRRRQAUUUUAFcZ8VteOg+AbswttnvSLSMg9NwO4/wDfIb8cV2deRfH6crpei2/aSaVz/wABVR/7NXNipuFGTR7WQ4eOIzOjTlte/wByv+hV+A/h8Fr/AF+Zfu/6LAT+DOf/AEEfnXs9cV8IbcQfDHTW7ytLIf8Av4w/kBXa0YSChRil6/eVn+JliczrSl0bivSOgUUUV0nhhRRRQAUUUUAFFFFABRRRQAUUUUAFFFFAEVtcw3duk9tIskTjKsvepa5zwb4bm8O2N19puXllvJ2naLdlIck8D39T3/CujoA8vufjVDbatLbPojmGKYxtKLkbtoOM7dvX2z+Nbtt8VvDF1dxW8c9wryuEUtAQAScDNeFayjR65fK6lWFxICCMEfMaNGRpNcsVRSzG4jAAGSfmFAH1BqF/baXptxf38nlW1tG0ssm0naqjJOBknj0rHPjjw+tvcTy3skKW5jEgmtZo2xI21GCsoLKzcBgCPejx9/yTvxB/2Dp//QDWReeGdc1y9iv9Q/s+3eA2qQxwTO4dI7hJnZiUGGIQAKAQO7HPAtWl0G9Ff+uhtzeMdEt5Yo57maNpESRt1pMBCr/dMp24iz/t7am/4SfSDrH9mC5b7R5nk58iTyvMxny/N27N+P4d2fasbWfDWr3M2uW2nNZGx19VW4lndlltj5QiYooUiTKqCAWXBz1qxpGi6xo901jb/YJdKa9ku/tEzu0+HYuU2bdudx4ff0/hoX9f1/VxPRaHT0UUUAFFFFABRRRQAUUUUAFFFFABXjP7QROPD47f6T/7Sr2avGP2gWG7w+ueQLkkf9+q48d/u8vl+Z9Jwt/yN6P/AG9/6Szu/hd/yTPRv+uT/wDoxq6yuU+GKbPhpowP/PFj+bsa6ut6P8KPojy8z/36t/jl+bCiiitTzwooooAKKKKACiiigAooooAKKKKACiiigAorL0LxBZeILSSWykHmQuYp4ifmicHGD7ccHvWpQAUV4JffFDxXba5cBNQQwxXDAQm3j27Q33c43Yx75963bD40X1zqNtBLpNuEllVGKytkAnHFAHr1FZ+v6r/Yfh3UNV8nz/sVu8/lb9u/apOM4OM464rBn8Z32m3Xkaxo0du2IZQ0N55qiB5BGznKLhkLKSvTByGOKN3YHornXUVw9x4p1q88TWMOm2ltHpck93A0kl0Q8whGGcL5Rxhg2MN82OcVW8P+NbzTPCmlS+IrJjDJoxvI7tbrzppzEiFt6lRhm3ZB3Nnvg0LVf15/5D62PQaK5C88aX+kwzLq2hpFeCGOe3ggvfMWZGlSMgsUXa6l1yMEc8N1xatfGNvb3l3Z+KXsNFubeSNU336tHMHUldrMqEtwQVx270E3Olorij8REj1q40+e2shKkVw8cMOppLcKYlLYmjUfu9wBIIZvfB4qnrnjbXrfw1dSx6VbWF5PpUmoWMv23zQFQKX3AxYDrvUhcFW/vCha7f1v/kykru39f1qeg0VBZPcSWML3sccVwyAyJFIZFU+zFVJHvgVPRsSndXCiiigYUUUUAFfPXxo1f+1/Hcem2oLiwiWHC87pG+Y4/NR9Qa951fUodG0a71G6P7q1haVh64GcfU9K+fPhtp0/i74oLqN8PMEMrX9w2OC2cqP++iOPQGvOx0nLloreTPs+F6caDrZjU+GnF29X/wADT5nv3h/Tf7H8N6dpxxutbaOJiO7BQCfzzWjRRXoJJKyPj6k5VJuct3qFFFFMgKKKKACiiigAooooAKKKKACiisPxf4otfCPh2bU7ob2HyQRZ/wBbIRwv6En2BqZSUU5PY1o0alepGlTV5N2SNDU9X0/RrQ3Oq3kNpCP45XC59h6n2FcdefGbwfauViuri6x3ht2x/wCPYryDS9H8S/FTxHcXDzCRl5muJiRHApPCqBn3wo/xNejWPwE0dIh/aWr308mOTbqkQz9CGrzliMRW1ox07s+znk+T5daGYVm6nWMen4P816FfQfit4J8PwSQWVhqm6aQyT3BgjzKxOcn58454Hat2L41+EZMb5LyLnHz2/T34JqH/AIUb4V2483Us46+ev/xNVpfgN4eP+p1LU04/jeNv/ZBT/wBtXYz5eGJaXmv6+Z47qN/azapdSwy743mdlbaRkEkg8ik0/Uba31O1mlkwkcyOx2ngAgmvSD8JPCIu/sp8ZRi43+X5Pmxb92cbduc5z2rUT4B6SG/eaxesvoqID/Wnz43+Vf18xfV+GE7+2qfd/wDajPFnxd8Nat4U1XTLIXrzXdpJDGxhAXcykDJJzjn0rm7v4maOLbUFSz1XV5r20NmJdSniTyYjn5VEa9MnJJyxwMtwK7OH4FeGIx+8u9TlOOczIB+iVq2fwh8G2jBm017hh0M87n9AQP0pcuNlpdIftOGaVnyTnb/gea7Hjb/EvVY7PR7fTre3tf7JUpHJzI0oZdrh88Hd1JABz0IqhP461i40uy0+Q2/2eysmsY18rrEyqrZPqQo5/KvpK28JeHbNQLbQtOjx3Fqmfzxmrtomnq8sdgtsGgby5FhC5jYgNtIHQ4IOPQim8NiJX5qm4LOsnpWVLBJ27v8A4DPmabWvGmtyCSQ6hdusKwhktskIrBwOF/vBST1OBnOKuRal8SI7i4vYk1wSTBVmmFq/zbc7QTt7ZP519L0UfUpveoxf6zYdaQwVNL0X+R8rv4g8U6bb20N21xFBarNHFHPb7VXzFKv1AySGPXpmtzw74+sZIZbLxol9eQy2LafHPFIv+iwsAGCoFBJOFyxLH5R9K+i2VXQq6hlYYIIyDXD+KPhN4e8QxvJawLpd6eRNbKApP+0nQ/hg+9T9XxFLWnO/qXDN8mxj5MXhVT/vR6eeiX6+h03h7UbHUtFt5dM1T+1IlQKbhiu9j/tBQoDe2B9K06+ar/wt40+HOoPeWZuEiX/l8siWjZf9sY4HswxXSaB8d72DZF4j05LpBwZ7U7H+pU8E/TbVxxyvy1lysxxHC1SUPbZdNVYeqv8A5fk/I9xorgdR+MPhu28OHU9PlN7NvEa2WfLkDEE856DAPIyOg71v+DvF1n4y0MahZoYXVjHNAzZaJvr3BHINdUa1OUuWLuzwK2WY2hRderTcYp217+m/z2N+iiitjzjgfjPem0+HFxEpwbqeKHj67/8A2Ssj4C6esXhrUtQKgPcXQi3dyqKD/NzUXx8vlTRNJsN3zS3DTbfZF25/8frofg9ZNZ/DWyZxhrmSSbB9CxA/RQa834sb6L+vzPtH+44YX/Tyf32//ZO5ooor0j4sKKKKACiiigAooooAKKKKACiiigArwn486o83iLT9LVj5VvbecV7b3Yj+Sj8692r5u+LLG6+LF7A5wq+RGD6Axqf/AGavPzCTVG3dn1/B9KM8y539mLf5L9T2/wABaDD4e8F6faQxhZZIlmuDjlpGALZ+nT6AVu3Pn/ZpPshjE+Pk80Ern0OOf896kACqAowAMADtS13RioRUV0PlsRWnXqyqz3k2/vOc8N6n4l1K5uP7c0qDTYIHKDDFmlPqvbb79+3t0dFFUYnytq3/ACGr3/r4k/8AQjVzSNX1JdbsSNQus/aI/wDls394e9ev3fwd8PXd5NctdajG00jOVSVNoJOcDKE4/Gi0+Dvh60vIblbrUZGhkVwryptJBzg4QHH40AdF42uJrXwHrk9rNJBNFYTNHLGxVkYIcEEcg1ymrtbaVqM9nrGvanYwRaekumudQlV7i4ZnMmDn964IjxEcgA8Lg16PRSY77f12/r5nlmoavfeTfSa3qV3p/iCKzgfSbCK4aJZ5TCpYLEDiYmYsrAhsADp1PQeC7a2s/FHiqLzpheNexyPBNeSSkI0ERDBXY8btwDY/h25woA7OiqvrcnpYKKKKQwooooAK5XxB8N/DPiJWa605Le4b/l4tQI3z6nHB/EGuqoqJQjNWkrm9DE1sNPnoycX5Ox43D8A1XUJTNrXmWmxvLAh2ybiDtzzjAOD747ZriNG1vXvhX4quYJrYbvuXFtLkJMoPDKfzw3ua+m6zNd8OaV4ksGtNYs47hMHaxHzxn1VuoNcNTAxVpUdGj6rC8UVpuVLMV7SnJJNaK3npb+ramd4O8caX4zsGlsCYbmLHnWshG+P39x7/AMq6SvmjXvD+v/C7xSl5YyyCFWzbXir8si/3H7Z9VP4V0Fx8b72/8KX1lcWKQalNH5cVzbkhMHhjgnIIGccnn0pU8aopxraSX4muK4XlWnGtlslKlO3XWN/zS+9dTE8e6pN46+Jn2PTT5kayrY2uDkHDYLfQsSc+mK+iNM0+LStJtNPtv9VawrCme4UYz+leOfA3wr513P4lu0+SHMFpkdXI+dvwBx+J9K9tqsFBtOtLeRhxNiKcJ08uofBRVvn/AF+LYUUUV6B8gFFFFABRRRQAUUUUAFFFFABRRRQAV82fFEbfjBfs3AMluc+3lR19J187/G60Nv8AELzscXNpHID9Mr/7LXnZiv3KfmfZcGySzGUX1g1+Kf6H0RRVXTLsX+k2d4pBFxAkoI77lB/rVqvQTurnx8ouMnF9AooopkiBgxIBBKnBweh60tYkNhf/APCYXN8JjHYmJUMZGfNbHX2xnr+HrW3QBz+teMtO0O/+yXUVzJJtDHykUgZ+pFSW/jHQp7dJft6RbhnZJwy+xFcJ8Qv+Rsf/AK4p/KuXoA98hnjuYEmgdZI5BuV1OQRUd3fWmnw+df3UNrFnG+aQIufTJrO8J/8AIp6f/wBcR/OmX8d42pWeopp0s624miNurx7zuIxIu5gvRe5Bw34UAaM2qafbNCtxfW0RuP8AUh5lXzP93J5/Clk1GyivVs3vLdbpl3LAZVEjD1C5zXJ6zpGrXFrLBZaebZJrLy1SzaDAbLHZI0g3beRjYOpPI61o21jd21xPbzaWLtbi6W4Fy0iBUAC9ed25dvGAR05FAGjo+u2er28RjngW5aISPbLMGeMH1HX8cVbtNQs7/wAz7DdwXPlttfyZQ+w+hweDXMnw7evoml2kcS280dtPFK4Yfu2eMgdOuWx0zVvw5pd1bXjXF6t8jJbrbgXDW+0gHPyiFRwOxbB56UAdHRRRQAUUUUANkjSWNklRXRhgqwyD+FfK3j2LTYPHmrRaJtFos5CqgwqtgbwvsG3AV9MeJdQOk+FtTv0ba9vaySIf9oKcfrivn74YeD7TxlrWoQ6oZPIhtSwdGwVkYgKffHzH8K8vHp1JRpR3Z95wnKOEpV8fVk+SKSt6/qtLep7F8K9T0q98BWFtpMnz2cYjuYjwySHliR6EkkH/AANdlXzNLHr3wm8bgq27byrDIju4c9D/AJ4NfROha1aeIdEttU0990Fwm4A9VPdT7g5Fb4Stzx9nJWlE8riDLPq9T65Rlz0qrun5vWz/AE/4BoUUUV2nzAUUUUAFFFFABRRRQAUUUUAFFFFABXkHx70lpLHS9XjXiJ2t5T/vDcv/AKC3516/WZ4j0SDxH4dvNKuuEuYyobGdjdVb8CAawxFP2tJwPUyjG/UcdTxD2T19Ho/wOZ+EOuprHgG2ty4Nxp5NvIvcAcofptwPwNdzXzj8N9YufBfxGOm6j+6juJTZXSE8K+7Ct+Dd/Qmvo6ssHV9pSSe60PQ4kwP1THSlD4KnvL57/j+FgooorsPmwoqjHq1s+sy6YzbLlFDqpP31I6j6elXqAKtzplheyCS8sba4cDAaWFWIHpkiof7A0f8A6BNj/wCAyf4Vx/jLxRq+l+IDa6fdCGJYlOBGrZJ75INVLf4lahHbok9pDNIow0mSu73wOKAPSY40ijWOJFRFGFVRgAegFOqnpF+dT0i2vSnlmaMMVBzg1FqOpTW11b2djbJc3U6s6rLN5aKq4ySwVj3AxigDRorDl1693MltpW+SCBZrqOWcIYwc4VcAhm+U+g6c1AviqWXzLiDT1ewjniiac3GHIkCEME2843jIJHtmgDo6K5DTtQuotTlu9URi0l/JaoI76Ro40VWb/V7QvG3rjJzWlYeILm7vrGKfTkgh1CJ5oJBcbmCqARuXaMEgjgE/WgDdooooAKKKKAON+LN19l+GWqYOGl8uIfjIuf0zXJfAC2C6frV1jmSWKMH/AHQx/wDZqsfHrVfI0DTdLQ/NdTmZsf3UGMfiXH5VtfBrS2074eQzSLte+me45644UfoufxrzX7+NX91f1+Z9pH/Z+GJX/wCXs9Plb/5Fml8Q/B0fjDwy9vGqi/t8y2jnj5u6k+jdPrg9q8n+E3jF/DHiCTQ9XdobK7k2ESceROOMn0zjafw9K+g68V+M/gbynPijS4vlchb6NR0PQSfj0Pvg9zTxdOUJKvT3W/oTw/jKWIpSynFv3J/C+0v+D08/U9qorzn4ReNz4i0U6VqMu7UbBAAzHmaLoG9yOAfwPevRq7aVSNWCnE+Zx2Dq4HESw9Xdfj2fzCiiitDjCiiigAooooAKKKKACiiigAooooA8F+OHh46f4kttctlKxX67ZCvaVBjP4rj/AL5Nes+BfEH/AAk3g2w1FmzOU8u4/wCui8N+fX8apfFDRf7b+H2oRou6a2X7VFx3Tk/+O7h+NcH8Bdb23GpaHK3DqLqEZ7jCv+hT8q81fucXbpL8/wCvzPt6n/Clw+pvWdB2/wC3f+Gt/wCAntVFFFekfEFGPSbZNZl1Nl33LqEViPuKB0H19avUUUAef+MvC+r6p4gN1p9qJomiUZ8xVwR2wSKwP+EG8Rf9A7/yPH/8VXr9FAGdoFnNYeH7O1uQFliiAcA5wfTNFzo4uWjkF9dRXETOY7iMpvVWPKYKlSvTqCeBzWjRkAgE8noKAMebw5DJjy729gLQiGZklBM6DPDFgTnk8jB561IPD1mtpPbRmRIp5o5iqkfKU24A46fIP1rUooAzf7CtdysWkbbdPd4JGC7KQQeOmGNY+kaNfR65azTR3cNrYwyRxpcTxSKN2ABHsG4qAOr89K6eKaOeJZIJFkjb7rowIP4in0AFFFFABRRRQB4F8eLkyeM7K3z8sVip/FnfP6AV7R4XthZ+EdIt1GPKsoV/HYM14X8biT8Q+e1nHj82r6BsFCabbKvRYkA/IV5uG1xFRn2mde5k+Cguqb/L/MsVHc20N5ay211GssMyFJEYcMpGCDUlFekfGJtO6PmjXdM1P4WeP457Fm8pHMtpI33ZYjwUb8OD+fcV9CeHdftPE2g22qWDfu5l+ZCeY2HVT7g/41mePvCcXi7wtPabB9shBltH7rIB0z6Hofz7V5N8GPEz6L4ok0O9YpBqB2qr8bJ16fTIyv1215cL4WvyfZlt5M+7xHLn2VvE2/f0V7396Pf836p9z3+iiivUPgwooooAKKKKACiiigAooooAKKKKAEdFkRkdQysMEEcEV82eFi3g/wCMkFrIdqQ3z2bE9CjEoD9OQa+lK+cfi7EdO+KU91CNrSJDcL9QoGfzWvNx/uqNRdGfacJv2tSvg5bVIP8ADT9WfR1FMhlWeCOVOVkUMv0IzT69I+MaadmY8Wsyf8JZPpDws6eUsqSqOE45De3ofWtimJDHHLJIiAPIRvbucDAp9Ajyn4hsT4qYEkhYUwCelZVv4l1m1t0gg1GdI4xhV3dB6V6D4i8EDXtV+2i/NuSgUp5O/p3zuFZX/Cr/APqL/wDkr/8AZ0Adb4dupr3w7ZXFy++WSIFmI6ms/wAS3slpPBLatGHS2unV9isVZUBGCQcc/n3rX0uwGmaVb2SuZBCgXeRjd74pl7pNtdafPbxxRQtLHIqyLEMoXHzN9T1PrQBz0+oarZ/6nUmvt1kL5gYo8qFZdyjao+VlLYzk8daaJrnV9X0jUBqEyW017N9mjjSPaY1jYA5KkndtPfo3HY1vLosVrp0sGkpa2U0ygSTpbD5+xJAIycZ5JP41Yj0qyjsbW0a2ilitQvkiRA2wqOCM9D70AcjZX2oaNoVhcxXLXEc0U+LVo1CqVV3Uggbs/LzknOe1WL7VNT0+3Cw6r9se4tVnWVoo/wByfMReAoAKkOcZyeOtdWtpbIsQS3iUQkmMBANmeDj06n86ih0nTreOVINPtYkmYNIqQqA5znJwOTmgCnpUt3Hq1/YXd292sKxSRySIisN+7K/KAMfLxxnnvWvTFhjWZ5VjUSOAGcKMsB0BPfGTT6ACiiigD51+Np/4uIf+vSL+tfQln/x4wf8AXNf5V85/EB/+Eg+MVzawfOHuobNQPUBUI/76zX0kBgYHSvOwmtarLz/zPtOIf3eX4Gk91G/3qIUUUV6J8WFfPvxd8NTeHPF6a9pwaK3vZBMsiceVcDk/TONw/H0r6CrM8RaDaeJdBudLv1/dzr8rAcxt2Ye4Nc2Jo+2p8vXoe3kmZvLcWqj1g9JLy/4G/wCBm+BPFsPjDwzFejat3H+7uoh/A4HUex6j8u1dLXzV4Z1i/wDhh4/lttSVhCr+RexjkOnUOvrjO4exI719JQTR3NvHPbuskUih0dTkMCMgipwtf2sLS+Jbm+f5WsBiFOjrSnrF/p8unlYfRRRXWfOhRRRQAUUUUAFFFFABRRRQAV4j8fNL2alpWqqP9bE9u59Np3L/AOhN+Ve3V558bbH7X8PTOFybO6jlJ9Acp/NxXJjI81CR9Bw5iHQzSk+7t9+n5m78OtV/tj4faTcs26RYBDIe+5Ds5+uM/jXTV5f8CL8TeEb6yLZe2uy2PRXUY/VWr1CtMPLnoxl5HJnOHWGzCtSWyk/ueq/BhRWHB/af/CZXXl4/s3yk8zd/z028bffGM+34VuVueUZWo+JdI0m6+z6heCKXaG2iNm4/AGrNvq+n3Vuk0F7C0bjKneB+h5FeafEL/kbH/wCuKfyrl6APfgQygqQQRkEd6a0wSaOIq5LgkEISox6noPxrL8KHPhPTs/8APEVn+Ig2o3NtDbRyeY9veRKsiFCW2Ad+xPQ9DQB09FcFrExvYfNNlepDHZwxP51s8WW8+PKjcBk/T8DUs1ullHe6tpOnyWtpYyRXEMDQGDewDCXajAEZVgOgyR+NAHZG6hF6toX/AH7RmQJg8qCATnp1IqauHbQXtbi2lhsgdSm06cC7WDJW5YhuXA+XqwBJHpVS30WWW2KLA3lPJbLPbxaZLbBiJVJZiztvYDOWHGO9AHodFMhhitoEht41iijUKiIMBQOwFc3468aReCNGhvZLNrySaYRRxK+wdCSS2Djp6VM5xhFylsb4fD1cTVjRoq8nsjp6pazqcWjaHe6lP/q7WFpSM/ewMgfieKx/BXjfT/GumPcWamC4hIE9s7ZaMnoc9wcda5b45a4bHwpbaVE2H1GbL/8AXNME/wDjxX8jWNStFUXUi9D0MJllapmMMFVjaV7NeW7/AAOC+EunS+IPiUNRuv3gtd95MxH3nPA/Hc2fwr6LrzX4IaF/Z/g+XU5FxLqUpKn/AKZplV/XcfxFelVlgqfJRTe71O/ifFrE5lKMfhh7q+W/43CiuT8P/Erw94l16XSdOlmFwm4xtKgVJwOpQ5yeOeQDiusrqhOM1eLueDiMNWw0+SvFxe9mFFFFWc55l8Y/BX9s6P8A27p8eb2wT98qjmWHqfxXr9M+1ZnwV8a+fAfDGoyfvIgXsnY/eXq0f4dR7Z9BXsBGRg8ivm74h+HpvAXjqK90ctBbzP8AarNl6RsD8yfgccehFeZiYuhUWIht1PuclqwzXByynEP3lrB9mun9dLn0jRWb4d1mHxD4dstVt+Euog5X+63Rl/Agj8K0q9JNSV0fE1KcqU3Cas07P1QUUUUyAooooAKKKKACiiigArJ8U6T/AG74U1LTVAL3Fuyx5/v4yv6gVrUUpJSTTNKVSVKpGpHdNNfI+fvgjrB07xpPpk3yrqEJUA8fvEyw/TeK+ga+avF8L+C/i9LdW6lUiu0vYgOAysQxUe2dy/hX0lFKk8KSxMGjkUMrDuCMg15+BbUZUn9ln13FdONSrRx1ParFP5r/AIDX3D6Kr/2hZ/8AP3B/38FWK9E+NMrUfDWkatdfaNQsxLLtC7vMZeB9CKqf8IN4d/6B3/keT/4qsrxV4zv9E1o2dnBbMixqxaVWJJP0IqG3+JsP2dPtWnv52PnMbjaT7Z5oA7a2tobO1jt7ZBHFGoVFHYUxrG3bUEvWVjOiGNWLthQeuFzgE+uM0mnXyalpsF5CrKkyBgrdRVDVtW/szVrMTS7LV4ZmkULkuw2BQO+ctgAdc0AaV1aw3sHk3Kb49ytjJHKkEdPcCm3djBfKi3Ss6I4cKHYAkdMgH5h7HIqjd6+tlGJJ9OvhGsYkncIu2BT/AHju5I7hd2Kjm8T20VyUFpdSQC4W2N0ip5fmMQNvLbuCeTjHvmgDaorDHieGaWKOO0u0S5Z0trllTy5Cqkkj5s4+U9QM9uKgs/E6x6TayXUNzdSLaRz3c0KLthDDO5uR6E4UE47UAdHXF/FrT47/AOGuol0DSW2yeMn+EhgCf++Sw/GuzBDKCpyCMg1X1Kwh1XSrqwuhmG6iaJ8ejDH9azqR54OPc68FX+rYqnW/lkn9zPmP4e+J/wDhFPGFteysRaSfubkD/nm3f8Dg/hXT/He5aXxjYRg5iXT1dCDkHc78j8hXEeJvDOoeFNZk0/U4yCDmKUD5Zk7Mp/zipPEGt/21p+ieaxa4srL7JIT3CuxT/wAdIH4V857SUaUqMj9oeEpVsfRzGjqmmm12tdP8180fS/hsWuleB9KEkscNvDYxFpHYKo+QZJJ9+a5TxJ8Z9A0hXh0jdq10OB5XyxA+7nr+AP1rybR/CvjDx1BG8IuLi0hAjjmu5iIkAGAFz1x/sg16N4e+BWn2wWXxJeveydTBbkpGPYt94/htr0o1sRVilSjZd3/X+Z8TWyzKMBVlUzCvzyu3yx/X/h4nE/CzSb3XfiNDqdvAILa1la4neNSETOcIPqTjHpn0r6Oqtp+m2ek2SWem20Vrbx/djiXaB7/X3qzXZhqHsIct7s+dzrNf7UxKqqPLFKyXl5hRRRXSeIFcB8ZNE/tXwFLdRrmbTpBOMDnZ91h9MHP/AAGu/qG8tIr+xntLld0NxG0Ug9VYYP6Gs6sFUg4PqdmBxTwmKp4hfZaf+f4HlfwH1zz9Hv8ARZWy1rIJ4gf7j8EfgRn/AIFXrVfNfgS+fwV8VEtb9tiCZ7C4PQYJwD9NwU/SvpSuXAz5qXK91oe9xVhVRzB1ofDUSkv1/wA/mFFFFdx8qFFFFABRRRQAUUUUAFFFFAHinx90zbdaRqqj76PbOfTB3L/6E1eg/DTU/wC1fh1pMxOXih+zt6gxkqP0AP41l/GbTvt3w6nmAy1lPHOPXGdh/R8/hWN8BdS87w9qenM2WtrlZVHs64/mh/OvNj+7xrX8y/r8j7Wr/tfDUZdaU7fJ/wD7S+49D/4R3TP7c/tb7OPtOP8AgO7+9j+97/1rUoor0j4o808daRqN14laa1sLmeNolAeKJnHH0Fc3/YGsf9Am+/8AAZ/8K9vooAy/DUEtr4asYbiNo5EiAZGGCPrUd9oC6pcwy6jMsohEqqFi2ld5G0g5OGXHX+Va7MqKWdgqgZJJwBUUd3bSuEiuInY9FVwSaAOc1TwfLqwJvL62ndoBE0k9kJGRhn54/mwhOeeDnHaqt5YXZ1JNOtDcfZzqEdyyPZNtADB2YTZ27cg/Ljdn2rs6KAOMtbC8l1jT7KM3H2OwkmIE1k0flKUZQPMztk+9xt7dasv4Ht2NuSbGdkt47eRruwWckIMBkyfkP13DpxXVUUAIqhVCqMADAAFLRRQBx3xQ8NJ4j8E3W1C13ZKbm3KjJJUcr+IyMeuPSvB/BvgrUvGepmCxAjtoiDcXL/djB/m3XA/lX1TTIoIoFIgiSMMxYhFAyT3471xVsHGtUU38/M+nyziOvl2Dnhqau27xb+z306/5jLS1isbKG0tl2QwRrGijsoGBU1FFdux8y25O7CiiigQUUUUAFFFFAHhXxy8NfY9ZttftkxFejypyB0lUcH8VH/jpr0z4c+JP+En8FWl1K+66hH2e59d6jr+Iwfxqfx7oq6/4H1OyK7pBCZYeOd6fMuPrjH4mvK/gPqzQeINQ0p2/d3MAmUH++hxx9Qx/KvM/g4vTaf5/1+Z9vf8AtPh983x0H/5L/wAN/wCknu1FFFemfEBRRRQAUUUUAFFFFABRRRQBR1vTU1jQb7TpMbbqB4snsSCAfwPNeCfCDVG0L4if2feZiF4j2rq38MgOVz75Ur/wKvomvnH4q6e3hz4nPe2J8prjy76IgfdfJyf++lJ/GvNxqcHCsujPtOGJRxMMRls9qkbr1X9J/I+jqKr2F2L/AE22u0GFuIUlA9AwB/rVivSTvqfGSi4txfQKKKKBGB4548GX3/bP/wBGLXmeh31nYzzPfRzEsn7mSAgPE4IIYE16l4ts7jUPC15bWcZlmcIVQdTh1J/QGvMf+ET13/oGT/kKAPVPDmoyat4ftb2fHmSBgxAxnDFc47Zxmsm71GWz8ZXEFsi+bdRW8ayyqTHHzJy2McnoBkZNaHhKzuNP8LWdteRmKZA5ZD1GXYj9CKu3GlWV21w1xBvNwixyncRkKSV6HggknI5oAxZPElzDr0duTDLbPcm3KxW0p2nB5M3+rzkcp1HrVd/E+pW9tZ39wlq9peRSzLCkbCSNUjLgFixBJwMnAx79a2x4e01bxbkQyeYsvnKPPk2K/wDeCbtoJycnHPesq38MTDVluJYrWKKES+WqTSyLIXGP9U3yxjk5Ck59qAKesajqht3stSa0dZbZLkNBEyFT5yDbyxz168Z9BVxPEt7LrTQw2zvbLdm2ZFsZ2OAcGTzgPLAB/h9O+eKXTPCu28ll1KGJYzAsCQxXc0wIDhs5fBUZAwo4HrWwdFsTqBvBE6ylt7BZnCM3TcUB2lvfGaAKWp311bavKtjbieZbAyIhZvmPmAYxnHfPTJ6ZqpBr2oTrFaxyWjXk1yYRI9tLEIwELkvCx3A8YA3YPXNXv7CWXUpPtMaNYraC2jQys7t824lieRggYOSe/FTDw7potmhMMjBpBIZWuJDLuAwD5hbeCBx16UAZcWtavdal/ZsBsYriITCaZ4nZCUKYKqGBwQ/Qng9zjnb0e+bUtGtbyRAjzRB2VTwD3xSWuj2NnJG9tBteNHRWLsSQxBbJJ5JIBycmrFraw2VrHbWqbIYl2ouScD6mgCWiiigAooooAKKKKADrXzb4AP8AZHxmtrdOFS6ntiPUYdR+uK+kq+bbQ/Zfj3hen9uuo+jSkf1rzcbpKnLzPtOGPfoYyl3h+j/zPpKiiivSPiwooooAKKKKACiiigAooooAK8O+P1ts1jR7rH+sgkjz/usD/wCz17jXl/x2043HhKyv1GWtLra3srqQf1Va48bHmoSPouGaypZrSb63X3p2/E6/wBc/a/h7okuc4s0j/wC+Rt/pXQ15J8EL/UbrTntkZTYWmVkVzyGJLKV9+fyH0r1utqEualF+R5+a0XQx9am+kn917r8DK1HxLpGk3X2fULwRS7Q20Rs3H4A1Zt9X0+6t0mgvYWjcZU7wP0PIrzT4hf8AI2P/ANcU/lXL1seae/AhlBUggjII71Xlvo4tQt7NlYyXCO6kAYAXGc/99CqPhQ58J6dn/niKz9ft73VL61OmrNFsiuEdmjZN2Cny7v4d2CA3pyKAOnorgLzTp7rUd8ds9pE8cIsc6XJLJbAAZVWV1WIhs53DB9SOKtT6WIdMu5n0vzZrjUZPOeS2kl/d72IJjXDSJ0+Ucc5oA7WivPBp0h0mJb2zmdYZ7gQxNpckkG0kFcQhi8f+y2cLzzXdab5n9l2vnRNDJ5K7o2cuUOOhY9cetAFmiiigAooooAKKKKACiiigAooooAKKKKACvm5F3fH0g/8AQeJ/KavpGvm3TsS/HonnB12Vh/39Y152O3h6n2nC2kcU/wC4/wBT6Sooor0T4sKKKKACiiigAooooAKKKKACsrxPoqeIvDF/pUhA+0xFUY9FccqfwYA1q0UpJSVmaUqkqVSNSDs07r1R86fCvxE3hHxvLpuq5ggvG+zTh+PKlUkKT9Dlf+BZ7V9F14/8WvhvcX9y/iLw/A00zAfa7aMZZscb1Hc46j8fWuX8P/GXxDoVrHZX0MOpRQjaDPlZQB23Dr+IJryqVb6o3Sq7dGffZhl64ghHH4Frntacb21X9dd1Y9z1Hw1pGrXX2jULMSy7Qu7zGXgfQiqn/CDeHf8AoHf+R5P/AIquR0r46eH7vauqWl3p7nqwAlQfiMH/AMdrqrT4h+Er1QYfEFkuf+e0nlf+h4rvjiKU/hkj5Gvk+YYd2qUZfddfero37a2hs7WO3tkEcUahUUdhUtZMfivw7Nnyte0x8ddt5GcfrT/+El0L/oNad/4Fp/jWvPHucTw1dbwf3M06KqLq2muwVNQtWY9AJlJP61ZR0kUNGyup6FTkU009jKUJR+JWHUUUUyQooooAKKKKACiiigAooooAKKKKACiiigAr5u0Ztvx5yf8AoNTD/wAiNX0Pqep2ej6bNf6lOkFtCu53c/p7k9h3r55+HUUniL4vQ32whfPmvZO+0ckf+PMo/GvNxjvOnFb3PteGouGFxlaS93kav52Z9IUUUV6R8UFFFFABRRRQAUUUUAFFFFABRRRQAVl6p4Y0PWsnVdKtLpj/AMtJIhv/AO+uo/OtSik4qSszSnUnSlzU20/LQ841T4IeGL0lrB7vT27COTen5Nk/rXM3PwAulf8A0TXoXX/prbFSPyY17bRXLLB0JbxPcocSZrQVo1m152f4tXPA5PgN4hC/utS0xjnozyD/ANkNR/8ACh/E/wDz/aT/AN/pf/jdfQFFZ/2fQ7HauLs0X2l9x89y/AzxVGPkuNMl4zhJ3/qgqk/wt8d6QTNZWjEjkvaXShvyyCfwr6RoqXl9HpdGkeMcxWk1GS81/kz5vW1+KlvJgHxISBj/AFsrj+ZFCX3xTibKp4lJ6fNbysP1WvpCij6j2myv9ar/ABYWm/kfNreIPiarFWfXQQcEG2fj/wAdo/4TD4lWgAe41VOcjzbPOfzSvpKil9Sn0qMf+s1B/Fg4fcv8j5u/4Wt48tSWuL8kZxiWyjUD8lFX7P45+JoGH2q20+5XvmJlb8w2P0r6C61nXnh7RtQUi+0mxuM/89bdG/mKPqtdfDVYf29ldTSrgYr0t/kvzPM9O+Ptk+Bq2izw+r20ok/Rtv8AOulg+MPguaLfJqUkDf3JLWQn/wAdUj9a5f4n+B/DmkaG19pulx205z80cjgf985x+leJ1zVMViMPLlk0/wCvke5gsiybN6Pt6EZwXa/+fMfR8nxm8HJjbd3Emf7ts3H54qnJ8dPCyY222pyf7sCcfm4r58rX0Wxt7tHNxHvIcAfMR/Ks1j68nZWOyXCOV0Y80uZ/Nf5I9dn+Pmkr/wAe2jXknH/LSRE/lmqcn7QKBv3XhtmX1a9x/wC0zU3hj4e+F9RkQXmmeYC7A/6RKOAuezV2Mfws8FxgBdCiOOm6WRv5tXXFYyaupL+vkfO158N4Wfs5UJt+v/2yOG/4aC/6ln/yf/8AtdIf2gjg48NYPbN//wDa672T4ZeDZGy2g24OMfKzr/I00fC/wYDn+wof+/kn/wAVVezxv86/r5GP13hn/oFn97/+TPEvEni/X/iXq1np8VttXfiCytySCx/iYnqcd+gGenNe0/D/AMA2vgrTSzMJ9SuFH2icdB32L7D9evoB0GmaBpGirjSdNtbPIwWhiCsw9z1P41oVrQwvJL2lR3kcWaZ4sRQWDwcPZ0l06v1/rfcKKKK7T5gKKKKACiiigD//2Q==)"
      ],
      "metadata": {
        "id": "pARXl3WbUHP3"
      },
      "id": "pARXl3WbUHP3"
    },
    {
      "cell_type": "markdown",
      "source": [
        "## **`Library.Week.10 - generative.ai`**"
      ],
      "metadata": {
        "id": "JfIew_dgmpCQ"
      },
      "id": "JfIew_dgmpCQ"
    },
    {
      "cell_type": "markdown",
      "source": [
        "####=> `action.1: get an openai account; get an API` - https://learn.deeplearning.ai/\n",
        "####=> `action.2: take course 'ChatGPT prompt engineerings for developers`\n",
        "####=> `action.3: perform generative.ai assignment`"
      ],
      "metadata": {
        "id": "kRoOscDyqoCO"
      },
      "id": "kRoOscDyqoCO"
    },
    {
      "cell_type": "code",
      "source": [
        "#!pip show openai\n",
        "!pip install openai"
      ],
      "metadata": {
        "colab": {
          "base_uri": "https://localhost:8080/"
        },
        "id": "EYqsMP9on_af",
        "outputId": "4f29c8a1-edc5-475b-b4cc-1195d0cd06a5"
      },
      "id": "EYqsMP9on_af",
      "execution_count": null,
      "outputs": [
        {
          "output_type": "stream",
          "name": "stdout",
          "text": [
            "Looking in indexes: https://pypi.org/simple, https://us-python.pkg.dev/colab-wheels/public/simple/\n",
            "Collecting openai\n",
            "  Downloading openai-0.27.7-py3-none-any.whl (71 kB)\n",
            "\u001b[2K     \u001b[90m━━━━━━━━━━━━━━━━━━━━━━━━━━━━━━━━━━━━━━━━\u001b[0m \u001b[32m72.0/72.0 kB\u001b[0m \u001b[31m2.9 MB/s\u001b[0m eta \u001b[36m0:00:00\u001b[0m\n",
            "\u001b[?25hRequirement already satisfied: requests>=2.20 in /usr/local/lib/python3.10/dist-packages (from openai) (2.27.1)\n",
            "Requirement already satisfied: tqdm in /usr/local/lib/python3.10/dist-packages (from openai) (4.65.0)\n",
            "Collecting aiohttp (from openai)\n",
            "  Downloading aiohttp-3.8.4-cp310-cp310-manylinux_2_17_x86_64.manylinux2014_x86_64.whl (1.0 MB)\n",
            "\u001b[2K     \u001b[90m━━━━━━━━━━━━━━━━━━━━━━━━━━━━━━━━━━━━━━━━\u001b[0m \u001b[32m1.0/1.0 MB\u001b[0m \u001b[31m23.1 MB/s\u001b[0m eta \u001b[36m0:00:00\u001b[0m\n",
            "\u001b[?25hRequirement already satisfied: urllib3<1.27,>=1.21.1 in /usr/local/lib/python3.10/dist-packages (from requests>=2.20->openai) (1.26.15)\n",
            "Requirement already satisfied: certifi>=2017.4.17 in /usr/local/lib/python3.10/dist-packages (from requests>=2.20->openai) (2022.12.7)\n",
            "Requirement already satisfied: charset-normalizer~=2.0.0 in /usr/local/lib/python3.10/dist-packages (from requests>=2.20->openai) (2.0.12)\n",
            "Requirement already satisfied: idna<4,>=2.5 in /usr/local/lib/python3.10/dist-packages (from requests>=2.20->openai) (3.4)\n",
            "Requirement already satisfied: attrs>=17.3.0 in /usr/local/lib/python3.10/dist-packages (from aiohttp->openai) (23.1.0)\n",
            "Collecting multidict<7.0,>=4.5 (from aiohttp->openai)\n",
            "  Downloading multidict-6.0.4-cp310-cp310-manylinux_2_17_x86_64.manylinux2014_x86_64.whl (114 kB)\n",
            "\u001b[2K     \u001b[90m━━━━━━━━━━━━━━━━━━━━━━━━━━━━━━━━━━━━━━\u001b[0m \u001b[32m114.5/114.5 kB\u001b[0m \u001b[31m11.6 MB/s\u001b[0m eta \u001b[36m0:00:00\u001b[0m\n",
            "\u001b[?25hCollecting async-timeout<5.0,>=4.0.0a3 (from aiohttp->openai)\n",
            "  Downloading async_timeout-4.0.2-py3-none-any.whl (5.8 kB)\n",
            "Collecting yarl<2.0,>=1.0 (from aiohttp->openai)\n",
            "  Downloading yarl-1.9.2-cp310-cp310-manylinux_2_17_x86_64.manylinux2014_x86_64.whl (268 kB)\n",
            "\u001b[2K     \u001b[90m━━━━━━━━━━━━━━━━━━━━━━━━━━━━━━━━━━━━━━\u001b[0m \u001b[32m268.8/268.8 kB\u001b[0m \u001b[31m26.6 MB/s\u001b[0m eta \u001b[36m0:00:00\u001b[0m\n",
            "\u001b[?25hCollecting frozenlist>=1.1.1 (from aiohttp->openai)\n",
            "  Downloading frozenlist-1.3.3-cp310-cp310-manylinux_2_5_x86_64.manylinux1_x86_64.manylinux_2_17_x86_64.manylinux2014_x86_64.whl (149 kB)\n",
            "\u001b[2K     \u001b[90m━━━━━━━━━━━━━━━━━━━━━━━━━━━━━━━━━━━━━━\u001b[0m \u001b[32m149.6/149.6 kB\u001b[0m \u001b[31m16.0 MB/s\u001b[0m eta \u001b[36m0:00:00\u001b[0m\n",
            "\u001b[?25hCollecting aiosignal>=1.1.2 (from aiohttp->openai)\n",
            "  Downloading aiosignal-1.3.1-py3-none-any.whl (7.6 kB)\n",
            "Installing collected packages: multidict, frozenlist, async-timeout, yarl, aiosignal, aiohttp, openai\n",
            "Successfully installed aiohttp-3.8.4 aiosignal-1.3.1 async-timeout-4.0.2 frozenlist-1.3.3 multidict-6.0.4 openai-0.27.7 yarl-1.9.2\n"
          ]
        }
      ]
    },
    {
      "cell_type": "code",
      "source": [
        "# Global functions\n",
        "import openai  #OpenAI's gpt-3.5-turbo model and the chat completions endpoint.\n",
        "import os\n",
        "from dotenv import load_dotenv, find_dotenv #helper function for prompting\n",
        "_ = load_dotenv(find_dotenv())\n",
        "openai.api_key = \"sk-DcAA6Ckvt\"             #each student to get their own\n",
        "openai.api_key  = os.getenv('OPENAI_API_KEY')\n",
        "print(\"open.ai.ready\")\n",
        "\n",
        "\n",
        "def get_completion(prompt, model=\"gpt-3.5-turbo\"):\n",
        "    messages = [{\"role\": \"user\", \"content\": prompt}]\n",
        "    response = openai.ChatCompletion.create(\n",
        "        model=model,\n",
        "        messages=messages,\n",
        "        temperature=0, # this is the degree of randomness of the model's output\n",
        "    )\n",
        "    return response.choices[0].message[\"content\"]\n",
        "\n",
        "#=> purpose:\n",
        "def get_completion(prompt, model=\"gpt-3.5-turbo\"):\n",
        "    messages = [{\"role\": \"user\", \"content\": prompt}]\n",
        "    response = openai.ChatCompletion.create(\n",
        "        model=model,\n",
        "        messages=messages,\n",
        "        temperature=0, # this is the degree of randomness of the model's output\n",
        "    )\n",
        "    return response.choices[0].message[\"content\"]"
      ],
      "metadata": {
        "id": "VdE-VvaXnGjg"
      },
      "id": "VdE-VvaXnGjg",
      "execution_count": null,
      "outputs": []
    },
    {
      "cell_type": "markdown",
      "source": [
        "# `<end.library.setup` ~ `library.setup.end>`\n",
        "--------------"
      ],
      "metadata": {
        "id": "QHWm5JLWqrAV"
      },
      "id": "QHWm5JLWqrAV"
    },
    {
      "cell_type": "markdown",
      "source": [
        "# **`M.1.Introduction to data mining`**\n"
      ],
      "metadata": {
        "id": "khVZ7DoGDiBn"
      },
      "id": "khVZ7DoGDiBn"
    },
    {
      "cell_type": "markdown",
      "source": [
        "## **`exercise.M.1`** - Python Warmup"
      ],
      "metadata": {
        "id": "X-de8q4f_q13"
      },
      "id": "X-de8q4f_q13"
    },
    {
      "cell_type": "markdown",
      "source": [
        "### **`Overview and Directions`**"
      ],
      "metadata": {
        "id": "cW6PQ4KAFhfd"
      },
      "id": "cW6PQ4KAFhfd"
    },
    {
      "cell_type": "markdown",
      "source": [
        "* Practice importing and parsing information.\n",
        "* Focus on learning and solving versus coding perfectly.\n",
        "* Perform tasks without assistance from clever sources.\n",
        "\n",
        "#### **`Desired outcomes`**\n",
        "- Experience open, read, and writing of external delimited files.\n",
        "- Navigate basic text mining preprocessing like white space stripping.\n",
        "- Refresh expereience with iterator, conditionals, and functions.\n",
        "\n",
        "####**`Additional Resources`**\n",
        "- course [Python reference.library.Cosc.526.pdf](https://github.com/cosc-526/cosc.526.home.page/blob/main/reference.library.COSC.526.pdf)\n",
        "=> contains a deep and wide index of essential Python coding.\n",
        "- Bookmark the masters of text preprocessing\n",
        "=> [Jurafsky and Martin, Speech and Language Processing](https://web.stanford.edu/~jurafsky/slp3/)\n",
        "=> additional quality textbook on classical text mining\n",
        "=> [Wiess,S.,Indurkhya,N.,Zhang,T.,(2015), Fundamentals of predictive text mining, 2nd, Springer.](https://www.amazon.com/Fundamentals-Predictive-Mining-Computer-Science/dp/144716749X/ref=sr_1_1?crid=MUA7UG21IFPD&keywords=Wiess%2CS.%2CIndurkhya%2CN.%2CZhang%2CT.%2C%282015%29%2C+Fundamentals+of+predictive+text+mining%2C+2nd%2C+Springer&qid=1685151591&sprefix=wiess%2Cs.%2Cindurkhya%2Cn.%2Czhang%2Ct.%2C+2015+%2C+fundamentals+of+predictive+text+mining%2C+2nd%2C+springer%2Caps%2C78&sr=8-1)"
      ],
      "metadata": {
        "id": "CWbFlcJXI1Id"
      },
      "id": "CWbFlcJXI1Id"
    },
    {
      "cell_type": "markdown",
      "metadata": {
        "id": "ZR2SKZ0V4l36"
      },
      "source": [
        "### **`Task.1`**  - comma-separated values (.csv)"
      ],
      "id": "ZR2SKZ0V4l36"
    },
    {
      "cell_type": "markdown",
      "source": [
        "Reading and parsing [delimiter-separated values](https://en.wikipedia.org/wiki/Delimiter-separated_values) files like [comma-separated](https://en.wikipedia.org/wiki/Comma-separated_values) and [tab-separated values](https://en.wikipedia.org/wiki/Tab-separated_values) is a regular data science preprocessing activity. It is typically acceptable to request either file format for analysis activities.\n",
        "- *.csv* files store tabular data like numbers and text in a plain text format.\n",
        "- Plain text may include text, white spaces, carriage returns, transliterals, and other artifacts.\n",
        "- Each row, or data record, contains a value or nothing. A comma separates each.\n",
        "\n",
        "**`Tasks`**\n",
        "0. Read in the Nobel prize winners name and age data: [data.M.1.exercise.csv](https://github.com/cosc-526/home.page/blob/main/data.M.1.exercise.csv)\n",
        "=> data is in class github. Read however you like!\n",
        "1. Generate a single value for the total number of rows of data.\n",
        "2. Generate a single value for the total number of columns of data.\n",
        "3. Calculate the laureates average age as a datatype float.\n",
        "4. Solution structured as a user defined function (def) but doing so not required.\n",
        "5. hint\n",
        ".> use library `import requests` to read numerics from a url\n",
        "=> mydata = requests.get(file_url)\n",
        "==> if mydata.status_code == 200:  #200 = code for a successful request\n",
        "====> do something with lines\n",
        "\n",
        "**`Useful links`**\n",
        "- [Ch.16, Importing Data, Python.Crash.Course, Matthes](https://github.com/cosc-526/cosc.526.home.page/blob/main/textbook.Python.crash.course.matthes.pdf)\n",
        "[open](https://docs.python.org/3.6/library/functions.html#open),\n",
        "[readlines](https://docs.python.org/3.6/library/codecs.html#codecs.StreamReader.readlines), [rstrip](https://docs.python.org/3.6/library/stdtypes.html#str.rstrip), [list comprehension](https://docs.python.org/3/tutorial/datastructures.html#list-comprehensions), [split](https://docs.python.org/3.6/library/stdtypes.html#str.split), [splice](https://docs.python.org/3.6/glossary.html#term-slice), [\"list.love\"](https://docs.python.org/3.6/tutorial/datastructures.html#more-on-lists), [len](https://docs.python.org/3.6/library/functions.html#len), [int](https://docs.python.org/3.6/library/functions.html#int), [format](https://docs.python.org/3.6/library/stdtypes.html#str.format)"
      ],
      "metadata": {
        "id": "cs55wtGeEV7u"
      },
      "id": "cs55wtGeEV7u"
    },
    {
      "cell_type": "code",
      "source": [
        "#=>Enter answer\n"
      ],
      "metadata": {
        "id": "Azp65ID2UV9X"
      },
      "id": "Azp65ID2UV9X",
      "execution_count": null,
      "outputs": []
    },
    {
      "cell_type": "markdown",
      "metadata": {
        "id": "fFtuKBBh4l4C"
      },
      "source": [
        "**Task.1 Expected ouput**\n",
        "```\n",
        "Number of rows of data: 8\n",
        "Number of cols: 3\n",
        "Average Age: 70.875\n",
        "```"
      ],
      "id": "fFtuKBBh4l4C"
    },
    {
      "cell_type": "markdown",
      "source": [
        "#### **`Task.1.solution`**"
      ],
      "metadata": {
        "id": "TeK-qV1_HXaS"
      },
      "id": "TeK-qV1_HXaS"
    },
    {
      "cell_type": "code",
      "source": [
        "import requests\n",
        "\n",
        "def parse_delimited_file(file_url, delimiter):\n",
        "    mydata = requests.get(file_url)\n",
        "    if mydata.status_code == 200:       #200 = code for successful request\n",
        "        lines = mydata.text.split('\\n')\n",
        "    else:\n",
        "        print('Failed git url retrieval')\n",
        "        return\n",
        "\n",
        "    lines = [line.rstrip('\\n') for line in lines if line.strip()]  # Skip empty lines\n",
        "\n",
        "    split_lines = [line.split(delimiter) for line in lines]\n",
        "\n",
        "    header = split_lines[0]\n",
        "    data_lines = split_lines[1:]\n",
        "\n",
        "    age_index = header.index(\"age\")  #find the age column\n",
        "\n",
        "    num_data_rows = len(data_lines)\n",
        "    num_data_cols = len(header)\n",
        "\n",
        "    sum_age = 0\n",
        "    for row in data_lines:\n",
        "        if len(row) > age_index:  # Check if the row has enough elements\n",
        "            sum_age += int(row[age_index])\n",
        "\n",
        "    avg_age = sum_age / num_data_rows\n",
        "\n",
        "    print(\"Number of rows of data: {}\".format(num_data_rows))\n",
        "    print(\"Number of cols: {}\".format(num_data_cols))\n",
        "    print(\"Average Age: {}\".format(avg_age))\n",
        "\n",
        "#run it\n",
        "file_url = \"https://raw.githubusercontent.com/cosc-526/home.page/main/data.M.1.exercise.csv\"\n",
        "parse_delimited_file(file_url,delimiter=\",\")"
      ],
      "metadata": {
        "colab": {
          "base_uri": "https://localhost:8080/"
        },
        "id": "FP1ry32w9_wd",
        "outputId": "c57c320e-1077-4ac3-d6d7-1a569b29573f"
      },
      "id": "FP1ry32w9_wd",
      "execution_count": null,
      "outputs": [
        {
          "output_type": "stream",
          "name": "stdout",
          "text": [
            "Number of rows of data: 8\n",
            "Number of cols: 3\n",
            "Average Age: 70.875\n"
          ]
        }
      ]
    },
    {
      "cell_type": "markdown",
      "metadata": {
        "id": "tntham6q6wui"
      },
      "source": [
        "**Task.1 Solution ouput**\n",
        "```\n",
        "Number of rows of data: 8\n",
        "Number of cols: 3\n",
        "Average Age: 70.875\n",
        "```"
      ],
      "id": "tntham6q6wui"
    },
    {
      "cell_type": "markdown",
      "metadata": {
        "id": "ybWXMZ974l4D"
      },
      "source": [
        "### **`Task.2`** - tab-separated values (.tsv)"
      ],
      "id": "ybWXMZ974l4D"
    },
    {
      "cell_type": "markdown",
      "source": [
        "A [tab-separated value (.tsv)](https://en.wikipedia.org/wiki/Tab-separated_values) format is a delimiter-separated value for storing data in a tabular structure like a database table or spreadsheet. Other characteristics include,\n",
        "- Used to exchange information between databases.\n",
        "- Each record in the table is one line of the text file.\n",
        "- Fields are distinct in a record when separated by the tab character **`\\t`**\n",
        "\n",
        "**`Tasks`**\n",
        "0. [data.exercise.M.1.tsv](https://github.com/cosc-526/home.page/blob/main/data.M.1.exercise.tsv)\n",
        "=> data is in class github. Read however you like!\n",
        "1. Repeat Task.1 using the .tsv file.\n",
        "2. The order and data in columns have changed.\n",
        "3. If you hardcoded the \"age\" column, research and describe alternative code to alleviate fixed positional indexes.\n",
        "\n",
        "**`Useful links`**\n",
        "- [Python docs - csv file reading and writing](https://docs.python.org/3/library/csv.html#module-csv)\n",
        "- Python handles .tsv files using its \"delimiter\" parameter, \"\\t\""
      ],
      "metadata": {
        "id": "XpY0qD0rIsz3"
      },
      "id": "XpY0qD0rIsz3"
    },
    {
      "cell_type": "code",
      "source": [
        "#=>Enter answer\n"
      ],
      "metadata": {
        "id": "0ODxd_9HTCy9"
      },
      "id": "0ODxd_9HTCy9",
      "execution_count": null,
      "outputs": []
    },
    {
      "cell_type": "markdown",
      "source": [
        "**Task.2 Solution output**\n",
        "```\n",
        "Number of rows of data: 8\n",
        "Number of cols: 3\n",
        "Average Age: 70.875\n",
        "```"
      ],
      "metadata": {
        "id": "_9HmDoDjTNgi"
      },
      "id": "_9HmDoDjTNgi"
    },
    {
      "cell_type": "markdown",
      "source": [
        "#### **`Task.2.solution`**"
      ],
      "metadata": {
        "id": "kVgqJhpjIHdC"
      },
      "id": "kVgqJhpjIHdC"
    },
    {
      "cell_type": "code",
      "execution_count": null,
      "metadata": {
        "id": "-ZrO7SLg4l4D",
        "outputId": "18fa8a46-788a-42f8-af2d-31b297c3a2db",
        "colab": {
          "base_uri": "https://localhost:8080/"
        }
      },
      "outputs": [
        {
          "output_type": "stream",
          "name": "stdout",
          "text": [
            "Number of rows of data: 8\n",
            "Number of cols: 3\n",
            "Average Age: 70.875\n"
          ]
        }
      ],
      "source": [
        "#task.2.solution\n",
        "import requests\n",
        "\n",
        "def parse_delimited_file(file_url,delimiter):\n",
        "    mydata = requests.get(file_url)\n",
        "    if mydata.status_code == 200:  #200 = code for successful request\n",
        "        lines = mydata.text.split('\\n')\n",
        "    else:\n",
        "        print('Failed git url retrieval')\n",
        "        return\n",
        "\n",
        "    lines = [line.rstrip('\\n') for line in lines if line.strip()]  # Skip empty lines\n",
        "\n",
        "    split_lines = [line.split(delimiter) for line in lines]\n",
        "\n",
        "    header = split_lines[0]\n",
        "    data_lines = split_lines[1:]\n",
        "\n",
        "    age_index = header.index(\"age\")  #find the age column\n",
        "\n",
        "    num_data_rows = len(data_lines)\n",
        "    num_data_cols = len(header)\n",
        "\n",
        "    sum_age = 0\n",
        "    for row in data_lines:\n",
        "        if len(row) > age_index:  # Check if the row has enough elements\n",
        "            sum_age += int(row[age_index])\n",
        "\n",
        "    avg_age = sum_age / num_data_rows\n",
        "\n",
        "    print(\"Number of rows of data: {}\".format(num_data_rows))\n",
        "    print(\"Number of cols: {}\".format(num_data_cols))\n",
        "    print(\"Average Age: {}\".format(avg_age))\n",
        "\n",
        "#run it\n",
        "file_url = \"https://raw.githubusercontent.com/cosc-526/home.page/main/data.M.1.exercise.tsv\"\n",
        "parse_delimited_file(file_url,delimiter=\"\\t\")"
      ],
      "id": "-ZrO7SLg4l4D"
    },
    {
      "cell_type": "markdown",
      "source": [
        "**Expected Ouput:**\n",
        "```\n",
        "Number of rows of data: 8\n",
        "Number of cols: 3\n",
        "Average Age: 70.875\n",
        "```"
      ],
      "metadata": {
        "id": "aI7gorIjC38U"
      },
      "id": "aI7gorIjC38U"
    },
    {
      "cell_type": "markdown",
      "metadata": {
        "id": "LSr6LhyN4l4E"
      },
      "source": [
        "### **`Task.3`** - Convert diacritics (ä, ö) to ASCII"
      ],
      "id": "LSr6LhyN4l4E"
    },
    {
      "cell_type": "markdown",
      "source": [
        "- Download [data.M.1.exercise.csv](https://github.com/cosc-526/home.page/blob/main/data.M.1.exercise.csv) and right click on the file to view in Notepad.\n",
        "=> Observe the Unicode non-English letters in laureates' names like the two dots over the letter \"o\" in \"Schrödinger.\"\n",
        "- Learn about [Unicode](https://en.wikipedia.org/wiki/Unicode) character standards for representing different types and forms of text.\n",
        "- Grok that Python 3 [natively supports](https://docs.python.org/3/howto/unicode.html) Unicode, but many tools don't.\n",
        "- Conversion of Unicode to [ASCII](https://en.wikipedia.org/wiki/ASCII) formatting is often necessary in data preprocessing.\n",
        "\n",
        "**Tasks**\n",
        "0. Read this article on diacritics conversion (e.g., \"ü\" → \"ue\"); [transliteration](https://german.stackexchange.com/questions/4992/conversion-table-for-diacritics-e-g-%C3%BC-%E2%86%92-ue).\n",
        "1. data = [data.M.1.exercise.csv](https://github.com/cosc-526/home.page/blob/main/data.M.1.exercise.csv)\n",
        "=> provided example reads directly from github\n",
        "2. Analyze and run code block with a dictionary matching Unicode character \"keys\" to their ASCII transliteration \"value.\"\n",
        "=> as a refresher, a dictionary is defined as mydict = { key:value }\n",
        "3. For labeled code sections #3.1 to 3.9, explain succinctly what the code is accomplishing and whether you are or are not familiar with it.\n",
        "4. Create your inventory mechanism to store this, and more, code blocks.\n",
        "\n",
        "***More useful links***\n",
        "- [1: replace](https://docs.python.org/3.6/library/stdtypes.html#str.replace), [2: file object methods](https://docs.python.org/3/tutorial/inputoutput.html#methods-of-file-objects),\n"
      ],
      "metadata": {
        "id": "CdUDaILLI7Ro"
      },
      "id": "CdUDaILLI7Ro"
    },
    {
      "cell_type": "code",
      "source": [
        "import requests  #library for downloading and parsing files locally\n",
        "\n",
        "translit_dict = {\n",
        "    \"ä\" : \"ae\",\n",
        "    \"ö\" : \"oe\",\n",
        "    \"ü\" : \"ue\",\n",
        "    \"Ä\" : \"Ae\",\n",
        "    \"Ö\" : \"Oe\",\n",
        "    \"Ü\" : \"Ue\",\n",
        "    \"ł\" : \"l\",\n",
        "    \"ō\" : \"o\",\n",
        "}\n",
        "#3.0\n",
        "#read data from a URL\n",
        "def parse_delimited_file(file_url, delimiter):\n",
        "    response = requests.get(file_url)\n",
        "    if response.status_code == 200:\n",
        "        lines = response.text.split('\\n')\n",
        "    else:\n",
        "        print('Failed to fetch the file from GitHub.')\n",
        "        return\n",
        "    lines = [line.rstrip('\\n') for line in lines if line.strip()]  # Skip empty lines\n",
        "    return lines\n",
        "\n",
        "file_url = \"https://raw.githubusercontent.com/cosc-526/home.page/main/data.M.1.exercise.csv\"\n",
        "lines = parse_delimited_file(file_url, delimiter=\",\")\n",
        "\n",
        "#3.1\n",
        "#with open(\"data.exercise.M.1.csv\", 'r', encoding='utf8') as csvfile:\n",
        "#    lines = csvfile.readlines()\n",
        "#3.2\n",
        "# Strip off the newline from the end of each line\n",
        "lines = [line.rstrip() for line in lines]\n",
        "\n",
        "#3.3\n",
        "# Split each line based on the delimiter (which, in this case, is the comma)\n",
        "split_lines = [line.split(\",\") for line in lines]\n",
        "\n",
        "#3.4\n",
        "# Separate the header from the data\n",
        "header = split_lines[0]\n",
        "data_lines = split_lines[1:]\n",
        "\n",
        "#3.5\n",
        "# Find \"name\" within the header\n",
        "name_index = header.index(\"name\")\n",
        "\n",
        "#3.6\n",
        "# Extract the names from the rows\n",
        "unicode_names = [line[name_index] for line in data_lines]\n",
        "\n",
        "#3.7\n",
        "# Iterate over the names\n",
        "translit_names = []\n",
        "for unicode_name in unicode_names:\n",
        "    # Perform the replacements in the translit_dict\n",
        "    # HINT: ref [1]\n",
        "    translit_name = unicode_name\n",
        "    for key, value in translit_dict.items():\n",
        "        translit_name = translit_name.replace(key, value)\n",
        "    translit_names.append(translit_name)\n",
        "\n",
        "#3.8\n",
        "# Write out the names to a file named \"data-ascii.txt\"\n",
        "# HINT: ref [2]\n",
        "with open(\"data.exercise.M.1.ascii.txt\", 'w') as outfile:\n",
        "    for name in translit_names:\n",
        "        outfile.write(name + \"\\n\")\n",
        "#3.9\n",
        "# Verify that the names were converted and written out correctly\n",
        "with open(\"data.exercise.M.1.ascii.txt\", 'r') as infile:\n",
        "    for line in infile:\n",
        "        print(line.rstrip())\n"
      ],
      "metadata": {
        "colab": {
          "base_uri": "https://localhost:8080/"
        },
        "id": "XnJm4ImJDSgW",
        "outputId": "0e497da6-c3ee-44fc-98db-f4c5056a3ced"
      },
      "id": "XnJm4ImJDSgW",
      "execution_count": null,
      "outputs": [
        {
          "output_type": "stream",
          "name": "stdout",
          "text": [
            "Richard Phillips Feynman\n",
            "Shin'ichiro Tomonaga\n",
            "Julian Schwinger\n",
            "Rudolf Ludwig Moessbauer\n",
            "Erwin Schroedinger\n",
            "Paul Dirac\n",
            "Maria Sklodowska-Curie\n",
            "Pierre Curie\n"
          ]
        }
      ]
    },
    {
      "cell_type": "code",
      "source": [
        "#=>Enter answer/reflection\n",
        "#3.1\n",
        "#3.2\n",
        "#3.3\n",
        "#3.4\n",
        "#3.5\n",
        "#3.6\n",
        "#3.7\n",
        "#3.8\n",
        "#3.9\n"
      ],
      "metadata": {
        "id": "X6tBzbFR2f_v"
      },
      "id": "X6tBzbFR2f_v",
      "execution_count": null,
      "outputs": []
    },
    {
      "cell_type": "markdown",
      "metadata": {
        "id": "zmOzzRTl4l4P"
      },
      "source": [
        "**`Expected output`**\n",
        "```\n",
        "Richard Phillips Feynman\n",
        "Shin'ichiro Tomonaga\n",
        "Julian Schwinger\n",
        "Rudolf Ludwig Moessbauer\n",
        "Erwin Schroedinger\n",
        "Paul Dirac\n",
        "Maria Sklodowska-Curie\n",
        "Pierre Curie\n",
        "```\n",
        "\n"
      ],
      "id": "zmOzzRTl4l4P"
    },
    {
      "cell_type": "markdown",
      "source": [
        "#### Task.3.solution"
      ],
      "metadata": {
        "id": "MYHIqFrTJW35"
      },
      "id": "MYHIqFrTJW35"
    },
    {
      "cell_type": "markdown",
      "source": [
        "```\n",
        "3.0 \"requests\" library provides a means to read data at a website\n",
        "3.1 Primary file open that specifies the data encoding type.\n",
        "    ==>Selecting the wrong encoders may significantly alter outcomes!\n",
        "3.2 List comprehension is removing trailing whitespace putting outcomes into a new list.\n",
        "3.3 List comprehension splitting each line element by the delimiter.\n",
        "3.4 [0] is a form of **slicing**.\n",
        "    => In this example [0] is the header row, ie row number 0.\n",
        "    => mylist[0], an iterable data object, extracts 1st item in the list object.\n",
        "    => ex: mylist[1,2,3]; mylist[0] [out]=> 1\n",
        "    ==> slice [1:] indicates to get data from row.1 til rows are empty.\n",
        "3.5 Performs a find based on a name range vs a slice; [:1]=column_1\n",
        "    ==> Also the answer to Task 2.3 in the M.1.exercise section.\n",
        "3.6 List comprehension with line as user-defined name to travail and read all lines in .csv file\n",
        "3.7 Illustrates a **for** loop that swaps a matched dictionary items with its ASCII transliteration.\n",
        "3.8 Note the **'w'** in the open statement to create the outfile with a user defined name.\n",
        "    ==> \\n is a carriage return\n",
        "3.9 The ASCII file read back in and displayed using print() function.\n",
        "```"
      ],
      "metadata": {
        "id": "i7EbD2hcJdRh"
      },
      "id": "i7EbD2hcJdRh"
    },
    {
      "cell_type": "markdown",
      "id": "5f09fcd7",
      "metadata": {
        "id": "5f09fcd7"
      },
      "source": [
        "## **`assign.M.1.assignment.1`** - Data Mining with Covid Data"
      ]
    },
    {
      "cell_type": "markdown",
      "source": [
        "### **`Overview and Directions`**"
      ],
      "metadata": {
        "id": "ujMShg_DwKdx"
      },
      "id": "ujMShg_DwKdx"
    },
    {
      "cell_type": "markdown",
      "source": [
        "Activities include\n",
        "- Import and manipulate a .csv file\n",
        "- Assess your Python Programming Skills\n",
        "- Other assignments are more challenging; use this to assess your skills.\n",
        "- Prepare questions for a class discussion to help source additional tools.\n",
        "- Perform tasks `without assistance from clever sources.`\n",
        "\n",
        "#### **`Desired outcomes`**\n",
        "- Experience Pandas `DataFrames` to `group, aggregate, find, sort, and calculate.`\n",
        "- Perform calculations to find best country, rank, and total items processed.\n",
        "- Note: Pandas is reviewed in Module 2 and quality resources provided below.\n",
        "\n",
        "#### **`Additional resources`**\n",
        "- [Daniel Chen](https://github.com/chendaniely/) is a **generous** Pandas master.\n",
        "=> quality book; not a solicitation!\n",
        "- [Chen,D.,(2022). Pandas for everyone, 2nd.Ed.](https://www.amazon.com/Pandas-Everyone-Analysis-Addison-Wesley-Analytics/dp/0137891156/ref=sr_1_1?crid=T9BF3HU24YFL&keywords=pandas+for+everyone&qid=1685205022&sprefix=pandas+for+everyone%2Caps%2C203&sr=8-1)\n",
        "=> [groupby](https://github.com/chendaniely/2017-10-26-python_crash_course/blob/gh-pages/notebooks/07-groupby.ipynb) => [missing values](https://github.com/chendaniely/2017-10-26-python_crash_course/blob/gh-pages/notebooks/03-missing.ipynb) => [many more!](https://github.com/chendaniely/2017-10-26-python_crash_course/tree/gh-pages/notebooks)\n",
        "\n"
      ],
      "metadata": {
        "id": "orcAiqUZAQ6Y"
      },
      "id": "orcAiqUZAQ6Y"
    },
    {
      "cell_type": "markdown",
      "source": [
        "### **`Task.0`**\n"
      ],
      "metadata": {
        "id": "RNiLo5Rm9SM2"
      },
      "id": "RNiLo5Rm9SM2"
    },
    {
      "cell_type": "markdown",
      "source": [
        "#### **`Dataset`**\n",
        "- source information => COVID-19 variant [sequencing](https://www.cdc.gov/coronavirus/2019-ncov/variants/genomic-surveillance.html#:~:text=Scientists%20use%20a%20process%20called%20genomic%20sequencing%20to%20identify%20SARS,test%20positive%20for%20COVID%2D19) by countries.\n",
        "Data fields\n",
        "- `location`: the country providing information.\n",
        "- `date`: data entry date.\n",
        "- `variant`: the COVID-19 variant for the entered record.\n",
        "- `num_sequences`: the number of sequences **processed** by country, variant, and date.\n",
        "- `num_sequences_total`: the number of sequences **available** by country, variant, and date.\n",
        "- `perc_sequences`: the percentage of the available sequences processed (*out of 100*)\n",
        "`note:` each dataset row represents *one* variant by *one* country on *one* day.\n",
        "\n",
        "**`Tasks`**\n",
        "1. Locate and read dataset into a pandas.DataFrame called 'df' via\n",
        "a. A Kaggle API; use existing or acquire; [Kaggle.covid.dataset](https://www.kaggle.com/yamqwe/omicron-covid19-variant-daily-cases?select=covid-variants.csv)\n",
        "or\n",
        "b. Class github URL or another .csv method like [Matthes, Ch.16](https://github.com/cosc-526/cosc.526.home.page/blob/main/textbook.Python.crash.course.matthes.pdf)\n",
        "=> filename: [data.M.1.assignment.covid.data.csv](https://raw.githubusercontent.com/cosc-526/home.page/main/data.M.1.assignment.covid.data.csv)\n",
        "=> As a refresher, some `Github URL` data reads require `path` to raw data.\n",
        "2. Display the DataFrame's first 5 rows.\n",
        "3. Display descriptive stats confirming: `100,416` data records\n",
        "4. Round DataFrame to 1 decimal place!\n",
        "\n",
        "**`Useful links`**\n",
        "[Built-in Functions](https://docs.python.org/3/library/functions.html#built-in-functions)\n",
        "[pandas.DataFrame documentation](https://pandas.pydata.org/docs/reference/api/pandas.DataFrame.html)"
      ],
      "metadata": {
        "id": "wcrKuRsWXUW1"
      },
      "id": "wcrKuRsWXUW1"
    },
    {
      "cell_type": "code",
      "source": [
        "#=>Enter answer\n"
      ],
      "metadata": {
        "id": "J6JeWBO2Cw78"
      },
      "id": "J6JeWBO2Cw78",
      "execution_count": null,
      "outputs": []
    },
    {
      "cell_type": "markdown",
      "source": [
        "#### **`Task.0 - Expected Outcome`**\n",
        "```\n",
        "DataFrame header\n",
        "  location  date        variant  num_sequences  perc_sequences  num_sequences_total\n",
        "0   Angola  2020-07-06      Alpha              0             0.0   3\n",
        "1   Angola  2020-07-06  B.1.1.277              0             0.0   3\n",
        "2   Angola  2020-07-06  B.1.1.302              0             0.0   3\n",
        "3   Angola  2020-07-06  B.1.1.519              0             0.0   3\n",
        "4   Angola  2020-07-06    B.1.160              0             0.0   3\n",
        "\n",
        "Dataframe descriptive statistics, rounded to tenths\n",
        "       num_sequences  perc_sequences  num_sequences_total\n",
        "count       100416.0        100416.0             100416.0\n",
        "mean            72.0             6.0               1510.0\n",
        "std           1669.0            22.0               8445.0\n",
        "min              0.0            -0.0                  1.0\n",
        "25%              0.0             0.0                 12.0\n",
        "50%              0.0             0.0                 59.0\n",
        "75%              0.0             0.0                394.0\n",
        "max         142280.0           100.0             146170.0\n",
        "```\n"
      ],
      "metadata": {
        "id": "4z6COkzkC2KU"
      },
      "id": "4z6COkzkC2KU"
    },
    {
      "cell_type": "markdown",
      "source": [
        "##### **`Task.0 Solution via Github URL data read`**"
      ],
      "metadata": {
        "id": "qyZeg8ibcRpR"
      },
      "id": "qyZeg8ibcRpR"
    },
    {
      "cell_type": "code",
      "source": [
        "#Task.0.solution\n",
        "#=> Read Data w URL\n",
        "import pandas as pd\n",
        "url = \"https://raw.githubusercontent.com/cosc-526/home.page/main/data.M.1.assignment.covid.data.csv\"\n",
        "df = pd.read_csv(url)\n",
        "round(df.describe(),1)"
      ],
      "metadata": {
        "id": "8XCKzy-Pfbuw",
        "colab": {
          "base_uri": "https://localhost:8080/",
          "height": 300
        },
        "outputId": "b86467f8-ceb7-4b4d-d5e2-e4614cac5183"
      },
      "id": "8XCKzy-Pfbuw",
      "execution_count": null,
      "outputs": [
        {
          "output_type": "execute_result",
          "data": {
            "text/plain": [
              "       num_sequences  perc_sequences  num_sequences_total\n",
              "count       100416.0        100416.0             100416.0\n",
              "mean            72.2             6.2               1509.6\n",
              "std           1669.3            21.9               8445.3\n",
              "min              0.0            -0.0                  1.0\n",
              "25%              0.0             0.0                 12.0\n",
              "50%              0.0             0.0                 59.0\n",
              "75%              0.0             0.0                394.0\n",
              "max         142280.0           100.0             146170.0"
            ],
            "text/html": [
              "\n",
              "  <div id=\"df-38f11101-880a-4274-b1cc-23ab12b2b99c\">\n",
              "    <div class=\"colab-df-container\">\n",
              "      <div>\n",
              "<style scoped>\n",
              "    .dataframe tbody tr th:only-of-type {\n",
              "        vertical-align: middle;\n",
              "    }\n",
              "\n",
              "    .dataframe tbody tr th {\n",
              "        vertical-align: top;\n",
              "    }\n",
              "\n",
              "    .dataframe thead th {\n",
              "        text-align: right;\n",
              "    }\n",
              "</style>\n",
              "<table border=\"1\" class=\"dataframe\">\n",
              "  <thead>\n",
              "    <tr style=\"text-align: right;\">\n",
              "      <th></th>\n",
              "      <th>num_sequences</th>\n",
              "      <th>perc_sequences</th>\n",
              "      <th>num_sequences_total</th>\n",
              "    </tr>\n",
              "  </thead>\n",
              "  <tbody>\n",
              "    <tr>\n",
              "      <th>count</th>\n",
              "      <td>100416.0</td>\n",
              "      <td>100416.0</td>\n",
              "      <td>100416.0</td>\n",
              "    </tr>\n",
              "    <tr>\n",
              "      <th>mean</th>\n",
              "      <td>72.2</td>\n",
              "      <td>6.2</td>\n",
              "      <td>1509.6</td>\n",
              "    </tr>\n",
              "    <tr>\n",
              "      <th>std</th>\n",
              "      <td>1669.3</td>\n",
              "      <td>21.9</td>\n",
              "      <td>8445.3</td>\n",
              "    </tr>\n",
              "    <tr>\n",
              "      <th>min</th>\n",
              "      <td>0.0</td>\n",
              "      <td>-0.0</td>\n",
              "      <td>1.0</td>\n",
              "    </tr>\n",
              "    <tr>\n",
              "      <th>25%</th>\n",
              "      <td>0.0</td>\n",
              "      <td>0.0</td>\n",
              "      <td>12.0</td>\n",
              "    </tr>\n",
              "    <tr>\n",
              "      <th>50%</th>\n",
              "      <td>0.0</td>\n",
              "      <td>0.0</td>\n",
              "      <td>59.0</td>\n",
              "    </tr>\n",
              "    <tr>\n",
              "      <th>75%</th>\n",
              "      <td>0.0</td>\n",
              "      <td>0.0</td>\n",
              "      <td>394.0</td>\n",
              "    </tr>\n",
              "    <tr>\n",
              "      <th>max</th>\n",
              "      <td>142280.0</td>\n",
              "      <td>100.0</td>\n",
              "      <td>146170.0</td>\n",
              "    </tr>\n",
              "  </tbody>\n",
              "</table>\n",
              "</div>\n",
              "      <button class=\"colab-df-convert\" onclick=\"convertToInteractive('df-38f11101-880a-4274-b1cc-23ab12b2b99c')\"\n",
              "              title=\"Convert this dataframe to an interactive table.\"\n",
              "              style=\"display:none;\">\n",
              "        \n",
              "  <svg xmlns=\"http://www.w3.org/2000/svg\" height=\"24px\"viewBox=\"0 0 24 24\"\n",
              "       width=\"24px\">\n",
              "    <path d=\"M0 0h24v24H0V0z\" fill=\"none\"/>\n",
              "    <path d=\"M18.56 5.44l.94 2.06.94-2.06 2.06-.94-2.06-.94-.94-2.06-.94 2.06-2.06.94zm-11 1L8.5 8.5l.94-2.06 2.06-.94-2.06-.94L8.5 2.5l-.94 2.06-2.06.94zm10 10l.94 2.06.94-2.06 2.06-.94-2.06-.94-.94-2.06-.94 2.06-2.06.94z\"/><path d=\"M17.41 7.96l-1.37-1.37c-.4-.4-.92-.59-1.43-.59-.52 0-1.04.2-1.43.59L10.3 9.45l-7.72 7.72c-.78.78-.78 2.05 0 2.83L4 21.41c.39.39.9.59 1.41.59.51 0 1.02-.2 1.41-.59l7.78-7.78 2.81-2.81c.8-.78.8-2.07 0-2.86zM5.41 20L4 18.59l7.72-7.72 1.47 1.35L5.41 20z\"/>\n",
              "  </svg>\n",
              "      </button>\n",
              "      \n",
              "  <style>\n",
              "    .colab-df-container {\n",
              "      display:flex;\n",
              "      flex-wrap:wrap;\n",
              "      gap: 12px;\n",
              "    }\n",
              "\n",
              "    .colab-df-convert {\n",
              "      background-color: #E8F0FE;\n",
              "      border: none;\n",
              "      border-radius: 50%;\n",
              "      cursor: pointer;\n",
              "      display: none;\n",
              "      fill: #1967D2;\n",
              "      height: 32px;\n",
              "      padding: 0 0 0 0;\n",
              "      width: 32px;\n",
              "    }\n",
              "\n",
              "    .colab-df-convert:hover {\n",
              "      background-color: #E2EBFA;\n",
              "      box-shadow: 0px 1px 2px rgba(60, 64, 67, 0.3), 0px 1px 3px 1px rgba(60, 64, 67, 0.15);\n",
              "      fill: #174EA6;\n",
              "    }\n",
              "\n",
              "    [theme=dark] .colab-df-convert {\n",
              "      background-color: #3B4455;\n",
              "      fill: #D2E3FC;\n",
              "    }\n",
              "\n",
              "    [theme=dark] .colab-df-convert:hover {\n",
              "      background-color: #434B5C;\n",
              "      box-shadow: 0px 1px 3px 1px rgba(0, 0, 0, 0.15);\n",
              "      filter: drop-shadow(0px 1px 2px rgba(0, 0, 0, 0.3));\n",
              "      fill: #FFFFFF;\n",
              "    }\n",
              "  </style>\n",
              "\n",
              "      <script>\n",
              "        const buttonEl =\n",
              "          document.querySelector('#df-38f11101-880a-4274-b1cc-23ab12b2b99c button.colab-df-convert');\n",
              "        buttonEl.style.display =\n",
              "          google.colab.kernel.accessAllowed ? 'block' : 'none';\n",
              "\n",
              "        async function convertToInteractive(key) {\n",
              "          const element = document.querySelector('#df-38f11101-880a-4274-b1cc-23ab12b2b99c');\n",
              "          const dataTable =\n",
              "            await google.colab.kernel.invokeFunction('convertToInteractive',\n",
              "                                                     [key], {});\n",
              "          if (!dataTable) return;\n",
              "\n",
              "          const docLinkHtml = 'Like what you see? Visit the ' +\n",
              "            '<a target=\"_blank\" href=https://colab.research.google.com/notebooks/data_table.ipynb>data table notebook</a>'\n",
              "            + ' to learn more about interactive tables.';\n",
              "          element.innerHTML = '';\n",
              "          dataTable['output_type'] = 'display_data';\n",
              "          await google.colab.output.renderOutput(dataTable, element);\n",
              "          const docLink = document.createElement('div');\n",
              "          docLink.innerHTML = docLinkHtml;\n",
              "          element.appendChild(docLink);\n",
              "        }\n",
              "      </script>\n",
              "    </div>\n",
              "  </div>\n",
              "  "
            ]
          },
          "metadata": {},
          "execution_count": 7
        }
      ]
    },
    {
      "cell_type": "markdown",
      "source": [
        "##### **`Task.0 Solution via Kaggle API`**"
      ],
      "metadata": {
        "id": "c4YKGZP0P3ZM"
      },
      "id": "c4YKGZP0P3ZM"
    },
    {
      "cell_type": "code",
      "source": [
        "#=>Kaggle data API part I of II\n",
        "import kaggle\n",
        "# Load data into a pandas DataFrame\n",
        "df = pd.read_csv('covid19-variants.zip')\n",
        "# display a view of the imported data, function = pd.head()\n",
        "print(\"------------------------------\")\n",
        "print(\"> dataframe fields w pd.head <\")\n",
        "print(\"------------------------------\")\n",
        "print(df.head())\n",
        "\n",
        "# display descriptive statistics\n",
        "print(\"------------------------------\")\n",
        "print(\"==> descriptive statistics <==\")\n",
        "print(\"------------------------------\")\n",
        "print(round(df.describe()),1)"
      ],
      "metadata": {
        "colab": {
          "base_uri": "https://localhost:8080/"
        },
        "id": "S9ouy2J0z92o",
        "outputId": "fa151b96-b079-4701-e86d-535a797e0695"
      },
      "id": "S9ouy2J0z92o",
      "execution_count": null,
      "outputs": [
        {
          "output_type": "stream",
          "name": "stdout",
          "text": [
            "------------------------------\n",
            "> dataframe fields w pd.head <\n",
            "------------------------------\n",
            "  location        date    variant  num_sequences  perc_sequences  \\\n",
            "0   Angola  2020-07-06      Alpha              0             0.0   \n",
            "1   Angola  2020-07-06  B.1.1.277              0             0.0   \n",
            "2   Angola  2020-07-06  B.1.1.302              0             0.0   \n",
            "3   Angola  2020-07-06  B.1.1.519              0             0.0   \n",
            "4   Angola  2020-07-06    B.1.160              0             0.0   \n",
            "\n",
            "   num_sequences_total  \n",
            "0                    3  \n",
            "1                    3  \n",
            "2                    3  \n",
            "3                    3  \n",
            "4                    3  \n",
            "------------------------------\n",
            "==> descriptive statistics <==\n",
            "------------------------------\n",
            "       num_sequences  perc_sequences  num_sequences_total\n",
            "count       100416.0        100416.0             100416.0\n",
            "mean            72.0             6.0               1510.0\n",
            "std           1669.0            22.0               8445.0\n",
            "min              0.0            -0.0                  1.0\n",
            "25%              0.0             0.0                 12.0\n",
            "50%              0.0             0.0                 59.0\n",
            "75%              0.0             0.0                394.0\n",
            "max         142280.0           100.0             146170.0 1\n"
          ]
        }
      ]
    },
    {
      "cell_type": "markdown",
      "id": "760c5a8f",
      "metadata": {
        "id": "760c5a8f"
      },
      "source": [
        "### **`Task.1`** - Find uncommon variants"
      ]
    },
    {
      "cell_type": "markdown",
      "source": [
        "The U.S. experienced the COVID-19 `Alpha`, `Delta`, `Omicron`\n",
        "\n",
        "**`Tasks`**\n",
        "0. In whatever object you like, e.g. list, dataframe, etc\n",
        "1. Get unique variant items for category: **`US_and_other`**\n",
        "=> where variants == [US, `non_who`, `others`]\n",
        "2. Get unique variant items for category: **`nonUS_and_other`**\n",
        "=> where variants != [US, `non_who`, `others`]\n",
        "3. Print your chosen objects to display unique variant categories.\n",
        "4. Show a total unique count for each, and total for dataset,\n",
        "\n",
        "**`Useful links`**\n",
        "- [len()](https://docs.python.org/3/library/functions.html#len)\n",
        "- [list comprehension w Bro Code](https://www.youtube.com/watch?v=fcLDzKH_5XM)"
      ],
      "metadata": {
        "id": "ZGy_VBO4DDyd"
      },
      "id": "ZGy_VBO4DDyd"
    },
    {
      "cell_type": "code",
      "source": [
        "#=>Enter answer\n"
      ],
      "metadata": {
        "id": "vxMduRg5Cj5u"
      },
      "id": "vxMduRg5Cj5u",
      "execution_count": null,
      "outputs": []
    },
    {
      "cell_type": "markdown",
      "source": [
        "#### **`Task.1 - Expected Outcome`**\n",
        "```\n",
        "note: organization of output can vary widely!\n",
        "\n",
        "['Alpha', 'Delta', 'Omicron', 'others', 'non_who']\n",
        "\n",
        "total US + other =  5\n",
        "\n",
        "['B.1.1.277', 'B.1.1.302', 'B.1.1.519', 'B.1.160', 'B.1.177', 'B.1.221',\n",
        " 'B.1.258', 'B.1.367', 'B.1.620', 'Beta', 'Epsilon', 'Eta', 'Gamma', 'Iota',\n",
        "  'Kappa', 'Lambda', 'Mu', 'S:677H.Robin1', 'S:677P.Pelican']\n",
        "\n",
        "total nonUS+other =  19\n",
        "\n",
        "total unique variants =  24\n",
        "```"
      ],
      "metadata": {
        "id": "jBOVMJ0zck9a"
      },
      "id": "jBOVMJ0zck9a"
    },
    {
      "cell_type": "markdown",
      "source": [
        "#### **`Task.1 solution`**"
      ],
      "metadata": {
        "id": "KQKF_R5Ufrid"
      },
      "id": "KQKF_R5Ufrid"
    },
    {
      "cell_type": "code",
      "source": [
        "#Task.1.solution - as a list\n",
        "import pandas as pd\n",
        "\n",
        "#1. Get unique variant items: US_and_other where variants == [US, on_who, others]\n",
        "mylist_US_and_other =[\"Alpha\", \"Delta\", \"Omicron\", \"others\", \"non_who\"]\n",
        "\n",
        "#2. Get unique variant items: nonUS_and_other where variants != [US, on_who, others]\n",
        "mylist_nonUS_and_other = []\n",
        "mylist_all_variants = df[\"variant\"].unique().tolist()\n",
        "\n",
        "#use of list comprehension method\n",
        "mylist_nonUS_and_other = ([x for x in mylist_all_variants \\\n",
        "          if x not in [\"Alpha\", \"Delta\", \"Omicron\", \"others\", \"non_who\"]])\n",
        "\n",
        "print(mylist_US_and_other, \"\\n total US + other = \",len(mylist_US_and_other),\"\\n\")\n",
        "print(mylist_nonUS_and_other,\"\\n total nonUS+other = \",len(mylist_nonUS_and_other))\n",
        "print(\"\\n total unique variants = \", len(mylist_US_and_other)+len(mylist_nonUS_and_other))\n",
        "\n",
        "#df_nonUS_and_other = pd.DataFrame ([x for x in mylist_all_variants if x not in [\"Alpha\", \"Delta\", \"Omicron\", \"others\", \"non_who\"]])\n",
        "\n",
        "''' #=> expected outcome\n",
        "['Alpha', 'Delta', 'Omicron', 'others', 'non_who']\n",
        " total US + other =  5\n",
        "['B.1.1.277', 'B.1.1.302', 'B.1.1.519', 'B.1.160', 'B.1.177', 'B.1.221',\n",
        "'B.1.258', 'B.1.367', 'B.1.620', 'Beta', 'Epsilon', 'Eta', 'Gamma',\n",
        "'Iota', 'Kappa', 'Lambda', 'Mu', 'S:677H.Robin1', 'S:677P.Pelican']\n",
        " total nonUS+other =  19\n",
        " total unique variants =  24 '''"
      ],
      "metadata": {
        "colab": {
          "base_uri": "https://localhost:8080/",
          "height": 212
        },
        "id": "onPyaE4Eez5s",
        "outputId": "cedc91b5-6c3a-49a0-92e0-25ae7490478b"
      },
      "id": "onPyaE4Eez5s",
      "execution_count": null,
      "outputs": [
        {
          "output_type": "stream",
          "name": "stdout",
          "text": [
            "['Alpha', 'Delta', 'Omicron', 'others', 'non_who'] \n",
            " total US + other =  5 \n",
            "\n",
            "['B.1.1.277', 'B.1.1.302', 'B.1.1.519', 'B.1.160', 'B.1.177', 'B.1.221', 'B.1.258', 'B.1.367', 'B.1.620', 'Beta', 'Epsilon', 'Eta', 'Gamma', 'Iota', 'Kappa', 'Lambda', 'Mu', 'S:677H.Robin1', 'S:677P.Pelican'] \n",
            " total nonUS+other =  19\n",
            "\n",
            " total unique variants =  24\n"
          ]
        },
        {
          "output_type": "execute_result",
          "data": {
            "text/plain": [
              "\" #=> expected outcome\\n['Alpha', 'Delta', 'Omicron', 'others', 'non_who'] \\n total US + other =  5 \\n['B.1.1.277', 'B.1.1.302', 'B.1.1.519', 'B.1.160', 'B.1.177', 'B.1.221', \\n'B.1.258', 'B.1.367', 'B.1.620', 'Beta', 'Epsilon', 'Eta', 'Gamma', \\n'Iota', 'Kappa', 'Lambda', 'Mu', 'S:677H.Robin1', 'S:677P.Pelican'] \\n total nonUS+other =  19\\n total unique variants =  24 \""
            ],
            "application/vnd.google.colaboratory.intrinsic+json": {
              "type": "string"
            }
          },
          "metadata": {},
          "execution_count": 15
        }
      ]
    },
    {
      "cell_type": "markdown",
      "source": [
        "### **`Task.2`** - Find the most processed variant"
      ],
      "metadata": {
        "id": "aB6-dtiH5OSq"
      },
      "id": "aB6-dtiH5OSq"
    },
    {
      "cell_type": "markdown",
      "source": [
        "**`Tasks`**\n",
        "1. Which variant of COVID-19 has the most sequences processed?\n",
        "2. Store and print the result in a string called **`variant_most_proc`**\n",
        "\n",
        "**`Useful links`**\n",
        "[pd.DataFrame.groupby](https://pandas.pydata.org/docs/reference/api/pandas.DataFrame.groupby.html#pandas-dataframe-groupby), [pd.DataFrame.aggregate](https://pandas.pydata.org/docs/reference/api/pandas.DataFrame.aggregate.html#pandas-dataframe-aggregate)"
      ],
      "metadata": {
        "id": "bRbxoQb9rbN9"
      },
      "id": "bRbxoQb9rbN9"
    },
    {
      "cell_type": "code",
      "source": [
        "#=>Enter Your Solution\n"
      ],
      "metadata": {
        "id": "JoFZ2N-WFDH1"
      },
      "id": "JoFZ2N-WFDH1",
      "execution_count": null,
      "outputs": []
    },
    {
      "cell_type": "markdown",
      "source": [
        "#### **`Task.2 - Expected Outcome`**\n",
        "```\n",
        "Delta\n",
        "```"
      ],
      "metadata": {
        "id": "5uAWiinsdBi2"
      },
      "id": "5uAWiinsdBi2"
    },
    {
      "cell_type": "markdown",
      "source": [
        "#### **`Task.2 - Solution`**"
      ],
      "metadata": {
        "id": "oXgL86LGdBjE"
      },
      "id": "oXgL86LGdBjE"
    },
    {
      "cell_type": "code",
      "source": [
        "#Task.2.solution\n",
        "variant_most_proc = \"\"\n",
        "df2 = df.groupby(\"variant\").aggregate({\"num_sequences\": \"sum\"})\n",
        "df2 = df2.sort_values(\"num_sequences\", ascending=False)\n",
        "variant_most_proc = df2.index[0]\n",
        "print(variant_most_proc)\n",
        "''' #=> expected outcome\n",
        "Delta '''"
      ],
      "metadata": {
        "id": "x_E8CNg3dBjE",
        "colab": {
          "base_uri": "https://localhost:8080/",
          "height": 53
        },
        "outputId": "fb85b730-f093-48fc-f054-fb76bd1ec88c"
      },
      "execution_count": null,
      "outputs": [
        {
          "output_type": "stream",
          "name": "stdout",
          "text": [
            "Delta\n"
          ]
        },
        {
          "output_type": "execute_result",
          "data": {
            "text/plain": [
              "' #=> expected outcome\\nDelta '"
            ],
            "application/vnd.google.colaboratory.intrinsic+json": {
              "type": "string"
            }
          },
          "metadata": {},
          "execution_count": 16
        }
      ],
      "id": "x_E8CNg3dBjE"
    },
    {
      "cell_type": "markdown",
      "id": "663db8ac",
      "metadata": {
        "id": "663db8ac"
      },
      "source": [
        "### **`Task.3`** - Find the best country at processing ALL variant sequences\n",
        "\n",
        "\n"
      ]
    },
    {
      "cell_type": "markdown",
      "source": [
        "**`Tasks`**\n",
        "1. Which country did the best processing **all** categories.\n",
        "2. Store the result in a string called **`best_proc_country`**\n",
        "3. The outcome is a single country.\n",
        "4. **consider** df.groupby(\"location\").aggregate({\"num_sequences\": \"sum\", \"num_sequences_total\": \"sum\"})\n",
        "\n",
        "**`Useful links`**\n",
        "[youtube: aggregate with groupby and .agg or .aggregate](https://www.youtube.com/watch?v=PNzlx3CjqAE)\n"
      ],
      "metadata": {
        "id": "ny95wr5_sQhK"
      },
      "id": "ny95wr5_sQhK"
    },
    {
      "cell_type": "code",
      "execution_count": null,
      "id": "75c31b41",
      "metadata": {
        "id": "75c31b41"
      },
      "outputs": [],
      "source": [
        "#=>Enter Your Solution\n"
      ]
    },
    {
      "cell_type": "markdown",
      "source": [
        "#### **`Task.3 - Expected Outcome`**\n",
        "```\n",
        "Total percent performed by country\n",
        "\n",
        "location                percent\n",
        "Cyprus                  8.19\n",
        "Hungary                 7.96\n",
        "Egypt                   7.77\n",
        "United Arab Emirates    7.58\n",
        "Uruguay                 7.26\n",
        "                        ...\n",
        "Seychelles              4.25\n",
        "Fiji                    4.23\n",
        "Slovakia                4.23\n",
        "Brunei                  4.22\n",
        "Vietnam                 4.18\n",
        "Name: perc_sequences, Length: 121, dtype: float64\n",
        "\n",
        "the best country is =>  Cyprus\n",
        "```"
      ],
      "metadata": {
        "id": "y0bRJhZLdKBu"
      },
      "id": "y0bRJhZLdKBu"
    },
    {
      "cell_type": "markdown",
      "source": [
        "#### **`Task.3 - Solution`**"
      ],
      "metadata": {
        "id": "oyCfsZyXdKB_"
      },
      "id": "oyCfsZyXdKB_"
    },
    {
      "cell_type": "code",
      "source": [
        "best_proc_country = \"\"\n",
        "df3 = df.groupby(\"location\").aggregate({\"num_sequences\": \"sum\", \"num_sequences_total\": \"sum\"})\n",
        "df3[\"perc_sequences\"] = round((df3[\"num_sequences\"] / df3[\"num_sequences_total\"]) * 100,2)\n",
        "df4 = df3[\"perc_sequences\"].sort_values(ascending=False)\n",
        "print(\"Total percent performed by country \\n \\n\",df4, \"\\n\")\n",
        "best_proc_country = df4.index[0]  #list is sorted so country in first position\n",
        "print(\"the best country is => \",best_proc_country)\n",
        "\n",
        "''' #=> expected outcome\n",
        "Total percent performed by country\n",
        "\n",
        " location\n",
        "Cyprus                  8.19\n",
        "Hungary                 7.96\n",
        "Egypt                   7.77\n",
        "United Arab Emirates    7.58\n",
        "Uruguay                 7.26\n",
        "                        ...\n",
        "Seychelles              4.25\n",
        "Fiji                    4.23\n",
        "Slovakia                4.23\n",
        "Brunei                  4.22\n",
        "Vietnam                 4.18\n",
        "Name: perc_sequences, Length: 121, dtype: float64\n",
        "\n",
        "the best country is =  Cyprus'''"
      ],
      "metadata": {
        "id": "LO8dZlLSdKB_",
        "colab": {
          "base_uri": "https://localhost:8080/",
          "height": 383
        },
        "outputId": "8b0481ef-b91e-4525-94a6-79e345a92ef1"
      },
      "execution_count": null,
      "outputs": [
        {
          "output_type": "stream",
          "name": "stdout",
          "text": [
            "Total percent performed by country \n",
            " \n",
            " location\n",
            "Cyprus                  8.19\n",
            "Hungary                 7.96\n",
            "Egypt                   7.77\n",
            "United Arab Emirates    7.58\n",
            "Uruguay                 7.26\n",
            "                        ... \n",
            "Seychelles              4.25\n",
            "Fiji                    4.23\n",
            "Slovakia                4.23\n",
            "Brunei                  4.22\n",
            "Vietnam                 4.18\n",
            "Name: perc_sequences, Length: 121, dtype: float64 \n",
            "\n",
            "the best country is =>  Cyprus\n"
          ]
        },
        {
          "output_type": "execute_result",
          "data": {
            "text/plain": [
              "' #=> expected outcome\\nTotal percent performed by country \\n \\n location\\nCyprus                  8.19\\nHungary                 7.96\\nEgypt                   7.77\\nUnited Arab Emirates    7.58\\nUruguay                 7.26\\n                        ... \\nSeychelles              4.25\\nFiji                    4.23\\nSlovakia                4.23\\nBrunei                  4.22\\nVietnam                 4.18\\nName: perc_sequences, Length: 121, dtype: float64 \\n\\nthe best country is =  Cyprus'"
            ],
            "application/vnd.google.colaboratory.intrinsic+json": {
              "type": "string"
            }
          },
          "metadata": {},
          "execution_count": 17
        }
      ],
      "id": "LO8dZlLSdKB_"
    },
    {
      "cell_type": "markdown",
      "id": "11d1d3a0",
      "metadata": {
        "id": "11d1d3a0"
      },
      "source": [
        "### **`Task.4a`** - Find the best country at processing specific variant sequences"
      ]
    },
    {
      "cell_type": "markdown",
      "source": [
        "**`Tasks`**\n",
        "1. Which country is best at processing sequences for Alpha, Delta, and Omicron variants?\n",
        "2. Store and print the result in a string called **`best_proc_country_ADO`**\n",
        "3. The final output is a single country.\n",
        "\n",
        "**`Useful links`**\n",
        "- ibid\n",
        "\n"
      ],
      "metadata": {
        "id": "Jxd-0IN00go_"
      },
      "id": "Jxd-0IN00go_"
    },
    {
      "cell_type": "code",
      "execution_count": null,
      "id": "fcafdd2e",
      "metadata": {
        "id": "fcafdd2e"
      },
      "outputs": [],
      "source": [
        "#=>Enter Your Solution\n"
      ]
    },
    {
      "cell_type": "markdown",
      "source": [
        "#### **`Task.4a - Expected Outcome`**\n",
        "```\n",
        "best_proc_country_ADO = Vietnam\n",
        "```"
      ],
      "metadata": {
        "id": "fvANdWH2kOqc"
      },
      "id": "fvANdWH2kOqc"
    },
    {
      "cell_type": "markdown",
      "source": [
        "#### **`Task.4a - Solution`**"
      ],
      "metadata": {
        "id": "NKymCxF456PE"
      },
      "id": "NKymCxF456PE"
    },
    {
      "cell_type": "code",
      "source": [
        "best_proc_country_ado = \"\"\n",
        "df5 = df.loc[df[\"variant\"].isin([\"Alpha\", \"Delta\", \"Omicron\"])]\n",
        "df5 = df5.groupby(\"location\").aggregate({\"num_sequences\": \"sum\", \"num_sequences_total\": \"sum\"})\n",
        "df5[\"perc_sequences\"] = (df5[\"num_sequences\"] / df5[\"num_sequences_total\"]) * 100\n",
        "df5 = df5[\"perc_sequences\"].sort_values(ascending=False)\n",
        "best_proc_country_ADO = df5.index[0]\n",
        "print(best_proc_country_ADO)\n",
        "''' #=> expected outcome is Vietnam '''"
      ],
      "metadata": {
        "colab": {
          "base_uri": "https://localhost:8080/",
          "height": 53
        },
        "id": "6Am8KR7p56ul",
        "outputId": "3767af7c-44e4-4051-c04b-8e47d99ac60b"
      },
      "id": "6Am8KR7p56ul",
      "execution_count": null,
      "outputs": [
        {
          "output_type": "stream",
          "name": "stdout",
          "text": [
            "Vietnam\n"
          ]
        },
        {
          "output_type": "execute_result",
          "data": {
            "text/plain": [
              "' #=> expected outcome is Vietnam '"
            ],
            "application/vnd.google.colaboratory.intrinsic+json": {
              "type": "string"
            }
          },
          "metadata": {},
          "execution_count": 19
        }
      ]
    },
    {
      "cell_type": "markdown",
      "id": "9ccb8782",
      "metadata": {
        "id": "9ccb8782"
      },
      "source": [
        "### **`Task.4b`** - Find the United States ranking for processing Alpha, Delta, and Omicron"
      ]
    },
    {
      "cell_type": "markdown",
      "source": [
        "**`Tasks`**\n",
        "Given the outcome in 4a\n",
        "1. Find the positional index value for the US ranking for processing sequences for Alpha, Delta, an Omicron variants.\n",
        "2. Store and print the ranking as an integer in a **us_ranking** variable.\n",
        "3. Ensure your ranking scale reflects a scale starting at 1.\n",
        "4. As a refresher, Python indexing starts at 0.\n",
        "\n",
        "**`Useful links`**\n",
        "- [enumerate](https://docs.python.org/3/library/functions.html#enumerate)"
      ],
      "metadata": {
        "id": "uS-CWHXDFnlB"
      },
      "id": "uS-CWHXDFnlB"
    },
    {
      "cell_type": "code",
      "execution_count": null,
      "id": "038e81b5",
      "metadata": {
        "id": "038e81b5"
      },
      "outputs": [],
      "source": [
        "#=>Enter Your Solution\n"
      ]
    },
    {
      "cell_type": "markdown",
      "source": [
        "#### **`Task.4b - Expected Outcome`**\n",
        "```\n",
        "United States ranking = 57\n",
        "```"
      ],
      "metadata": {
        "id": "G5SUmnTckQBM"
      },
      "id": "G5SUmnTckQBM"
    },
    {
      "cell_type": "markdown",
      "source": [
        "#### **`Task.4b.solution`**"
      ],
      "metadata": {
        "id": "njAcLcNo9W9F"
      },
      "id": "njAcLcNo9W9F"
    },
    {
      "cell_type": "code",
      "source": [
        "us_ranking = -1\n",
        "country_rankings = df5.index.tolist()\n",
        "us_ranking = country_rankings.index(\"United States\") + 1\n",
        "print(\"US ranking via .index method =\",us_ranking)\n",
        "\n",
        "#using enumerate\n",
        "for index, country in enumerate(country_rankings):\n",
        "  if country == \"United States\":\n",
        "    print(\"US ranking via enumerate = \", index+1)\n",
        "    break\n",
        "#''' #=> expected outcome '''\n",
        "#''' US ranking via .index method = 57 '''\n",
        "#''' US ranking via enumerate = 57 '''"
      ],
      "metadata": {
        "colab": {
          "base_uri": "https://localhost:8080/"
        },
        "id": "FqgQcHcC9da4",
        "outputId": "41d9b3bb-03b4-425c-a0aa-f1bf0ef7a4dd"
      },
      "id": "FqgQcHcC9da4",
      "execution_count": null,
      "outputs": [
        {
          "output_type": "stream",
          "name": "stdout",
          "text": [
            "US ranking via .index method = 57\n",
            "US ranking via enumerate =  57\n"
          ]
        }
      ]
    },
    {
      "cell_type": "markdown",
      "id": "283e46d3",
      "metadata": {
        "id": "283e46d3"
      },
      "source": [
        "### **`Task.5.<final.task>` - Write instructions for a jr. data scientist assignment**"
      ]
    },
    {
      "cell_type": "markdown",
      "source": [
        "**`Task =>`**\n",
        "- Write clear and precise directions that enable your  new junior\n",
        "- data analyst, aka \"Jr,\" to modify and fix code that you provide."
      ],
      "metadata": {
        "id": "qhqwnKBcvW7R"
      },
      "id": "qhqwnKBcvW7R"
    },
    {
      "cell_type": "markdown",
      "source": [
        "#### **`Grading requirements=>`**\n",
        "A clear and precise explanation of specific activities for production code your boss needs but you dont have time to fix."
      ],
      "metadata": {
        "id": "913dpFR0Fp1E"
      },
      "id": "913dpFR0Fp1E"
    },
    {
      "cell_type": "markdown",
      "source": [
        "Data science requires clear explanations of tasks, methodology, and effective communication with peers. To help the new junior analyst complete their first assignment, provide a concise and precise description including\n",
        "\n",
        "1. `Sample Outcome`\n",
        "Deliver a comprehensive report summarizing findings and insights from data analysis. Include, as needed, desired outcome format, data objects, and visualizations.\n",
        "\n",
        "2. `Python Code Explanation`\n",
        "Use plain language to describe specific Python code to achieve the desired outcome. Refer to pandas, Python, and other library documentation to incorporate particular language.\n",
        "\n",
        "3. `Consider Deprecated Functions`\n",
        "The provided code is outdated and broken. Encourage problem-solving skills and leverage previous experience with similar tasks. Provide relevant links for reverse engineering.\n",
        "\n",
        "**`Additional personnel considerations`**\n",
        "4. `Plain Language Explanation`\n",
        "Consider the junior analyst's background in C and provide clear and unambiguous instructions.\n",
        "\n",
        "5. `Documentation Reference`\n",
        "Emphasize where to consult pandas, Python, and other library documentation to discern code mechanics and clarify concepts.\n",
        "\n",
        "---------------"
      ],
      "metadata": {
        "id": "2mN_TFHdT1Vg"
      },
      "id": "2mN_TFHdT1Vg"
    },
    {
      "cell_type": "markdown",
      "source": [
        "`Your manager's original request => [memo substrate]`\n",
        "\n",
        "`\"hey! i need by lunch` the processed sequences per country on any date`\n",
        "because as CFO wants to crunch numbers this afternoon - thx Lambda\"\n",
        "\n",
        "1. Determine the percentage of processed sequences for the Alpha, Delta, and Omicron variants in the US.\n",
        "2. Store the result as a dictionary where keys are variant names and values are percentages.\n",
        "3. Save in variable = proc_seq_us\n",
        "\n",
        "`=> Other implied items based on same exercise for manager last year`\n",
        "- Determine each country's total processed sequences for Omicron on December 27, 2021 or any other date entered (date updated from 2020).\n",
        "- provide country name and # processed sequences\n",
        "- bidirectional sorting\n",
        "- store outcomes in tuple like mytuple(country_name, processed_sequen, )\n",
        "- variables totals like `total_omicron_2021`"
      ],
      "metadata": {
        "id": "TOdZMTe-Rcl_"
      },
      "id": "TOdZMTe-Rcl_"
    },
    {
      "cell_type": "code",
      "source": [
        "#=> Enter Your Solution; i.e. write memo here\n"
      ],
      "metadata": {
        "id": "sMFoLYaXlRGZ"
      },
      "id": "sMFoLYaXlRGZ",
      "execution_count": null,
      "outputs": []
    },
    {
      "cell_type": "markdown",
      "source": [
        "#### `5a - code you found from last year's excercise `\n",
        "`Useful links`\n",
        "-https://www.youtube.com/watch?v=lJDtzZsmF0g\n"
      ],
      "metadata": {
        "id": "uV6K5AkAfDET"
      },
      "id": "uV6K5AkAfDET"
    },
    {
      "cell_type": "code",
      "source": [
        "#=> I of III - broken code last year\n",
        "\n",
        "total_omicron_2021 = []\n",
        "#5.1\n",
        "df = df.set_index(\"location\")\n",
        "#5.2\n",
        "df = df.loc[df6[\"date\"] == \"2021-12-27\"]\n",
        "#5.3\n",
        "df = df6.loc[df6[\"variant\"] == \"Omicron\"]\n",
        "#5.3\n",
        "df = df6[\"num_sequences\"]\n",
        "#5.4\n",
        " = list(zip(df.index, df))\n",
        "#5.5\n",
        "df7 = pd.DataFrame(sorted(missing, key=lambda x: x[1], reverse=True))\n",
        "print(df7)"
      ],
      "metadata": {
        "id": "qUkhMZD8T40i"
      },
      "id": "qUkhMZD8T40i",
      "execution_count": null,
      "outputs": []
    },
    {
      "cell_type": "markdown",
      "source": [
        "##### **`5a - Expected Outcome`**\n"
      ],
      "metadata": {
        "id": "dzXyv7kGZlBP"
      },
      "id": "dzXyv7kGZlBP"
    },
    {
      "cell_type": "markdown",
      "source": [
        "```\n",
        "0\t                1\n",
        "0\tUnited Kingdom\t52456\n",
        "1\tUnited States\t  24681\n",
        "2\tDenmark\t        3331\n",
        "3\tGermany\t        1701\n",
        "4\tIsrael\t        1578\n",
        "...\t...\t...\n",
        "59\tVietnam\t      1\n",
        "60\tMoldova\t      0\n",
        "61\tMonaco\t      0\n",
        "62\tNepal\t        0\n",
        "63\tSouth Korea \t0\n",
        "64 rows × 2 columns\n",
        "```"
      ],
      "metadata": {
        "id": "g1qcVGxqavtv"
      },
      "id": "g1qcVGxqavtv"
    },
    {
      "cell_type": "markdown",
      "source": [
        "#### `5b - code you found from last year's excercise `"
      ],
      "metadata": {
        "id": "5G3szw10bNTr"
      },
      "id": "5G3szw10bNTr"
    },
    {
      "cell_type": "code",
      "execution_count": null,
      "id": "6cf6efa9",
      "metadata": {
        "id": "6cf6efa9"
      },
      "outputs": [],
      "source": [
        "#=> II of III - broken code last year\n",
        "\n",
        "proc_seq_us = {}\n",
        "df2 = df.groupby([\"location\", \"variant\"]).aggregate({\n",
        "    \"num_sequences\": \"sum\",\n",
        "    \"num_sequences_total\": \"sum\",\n",
        "})\n",
        "df2[\"perc_sequences\"] = (df2[\"num_sequences\"] / df2[\"num_sequences_total\"]) * 100\n",
        "df2 = df2.loc[(\"United States\", [\"Alpha\", \"Delta\", \"Omicron\"]), :].loc[\"United States\"]\n",
        "df2 = df2[\"perc_sequences\"]\n",
        "proc_seq_us = df2.to_dict()\n",
        "print(proc_seq_us)"
      ]
    },
    {
      "cell_type": "markdown",
      "source": [
        "##### **`5b - Expected Outcome`**\n"
      ],
      "metadata": {
        "id": "NfYB_LjbZ_zq"
      },
      "id": "NfYB_LjbZ_zq"
    },
    {
      "cell_type": "markdown",
      "source": [
        "```\n",
        "{'Alpha': 11.520951617373877, 'Delta': 63.76796208057254,\n",
        "                                                'Omicron': 1.370817855027461}\n",
        "```"
      ],
      "metadata": {
        "id": "_TI3iusnbUbO"
      },
      "id": "_TI3iusnbUbO"
    },
    {
      "cell_type": "markdown",
      "source": [
        "#### `5c - code you found from last year's excercise `"
      ],
      "metadata": {
        "id": "ySKYi-77bbXc"
      },
      "id": "ySKYi-77bbXc"
    },
    {
      "cell_type": "code",
      "source": [
        "#=> III of III - broken code last year\n",
        "\n",
        "total_omicron_2021 = []\n",
        "#5.1\n",
        "df6 = df.set_index(\"location\")\n",
        "#5.2\n",
        "df6 = df6.loc[df6[\"date\"] == \"2021-12-27\"]\n",
        "#5.3#\n",
        "df6 = df6.loc[df6[\"variant\"] == \"Omicron\"]\n",
        "#5.3\n",
        "df6 = df6[\"num_sequences\"]\n",
        "#5.4\n",
        "total_omicron_2021 = list(zip(df6.index, df6))\n",
        "#5.5\n",
        "df7 = pd.DataFrame(sorted(total_omicron_2021, key=lambda x: x[1], reverse=True))\n",
        "print(df7)\n",
        "total_omicron_2021 = sorted(total_omicron_2021, key=lambda x: x[1], reverse=True)\n",
        "print(total_omicron_2021)\n"
      ],
      "metadata": {
        "colab": {
          "base_uri": "https://localhost:8080/"
        },
        "id": "ilcLFMXTW9jG",
        "outputId": "2b827e05-e959-4580-861d-518facb7c1c3"
      },
      "id": "ilcLFMXTW9jG",
      "execution_count": null,
      "outputs": [
        {
          "output_type": "stream",
          "name": "stdout",
          "text": [
            "                 0      1\n",
            "0   United Kingdom  52456\n",
            "1    United States  24681\n",
            "2          Denmark   3331\n",
            "3          Germany   1701\n",
            "4           Israel   1578\n",
            "..             ...    ...\n",
            "59         Vietnam      1\n",
            "60         Moldova      0\n",
            "61          Monaco      0\n",
            "62           Nepal      0\n",
            "63     South Korea      0\n",
            "\n",
            "[64 rows x 2 columns]\n",
            "[('United Kingdom', 52456), ('United States', 24681), ('Denmark', 3331), ('Germany', 1701), ('Israel', 1578), ('Australia', 1319), ('Switzerland', 514), ('France', 509), ('Italy', 486), ('Belgium', 464), ('Spain', 461), ('Sweden', 434), ('Chile', 260), ('Netherlands', 254), ('Singapore', 249), ('Mexico', 240), ('Turkey', 202), ('India', 174), ('Brazil', 147), ('Botswana', 142), ('Indonesia', 128), ('Japan', 118), ('Portugal', 118), ('Argentina', 80), ('New Zealand', 63), ('South Africa', 61), ('Lithuania', 50), ('Czechia', 49), ('Georgia', 46), ('Russia', 45), ('Colombia', 37), ('Sri Lanka', 37), ('Hong Kong', 35), ('Malta', 34), ('Poland', 28), ('Ecuador', 26), ('Canada', 25), ('Jordan', 22), ('Malawi', 21), ('Cambodia', 18), ('Norway', 17), ('Morocco', 15), ('Senegal', 15), ('Costa Rica', 14), ('Pakistan', 11), ('Nigeria', 10), ('Peru', 10), ('Brunei', 8), ('Slovakia', 8), ('Trinidad and Tobago', 8), ('Maldives', 7), ('Zambia', 7), ('Thailand', 6), ('Malaysia', 5), ('Bangladesh', 4), ('Romania', 3), ('Iran', 1), ('Oman', 1), ('Ukraine', 1), ('Vietnam', 1), ('Moldova', 0), ('Monaco', 0), ('Nepal', 0), ('South Korea', 0)]\n"
          ]
        }
      ]
    },
    {
      "cell_type": "markdown",
      "source": [
        "##### **`5c - Expected Outcome`**\n"
      ],
      "metadata": {
        "id": "x3c3REubaSEx"
      },
      "id": "x3c3REubaSEx"
    },
    {
      "cell_type": "markdown",
      "source": [
        "```\n",
        "                 0      1\n",
        "0   United Kingdom  52456\n",
        "1    United States  24681\n",
        "2          Denmark   3331\n",
        "3          Germany   1701\n",
        "4           Israel   1578\n",
        "..             ...    ...\n",
        "59         Vietnam      1\n",
        "60         Moldova      0\n",
        "61          Monaco      0\n",
        "62           Nepal      0\n",
        "63     South Korea      0\n",
        "[64 rows x 2 columns]\n",
        "\n",
        "#[('United Kingdom', 52456), ('United States', 24681), ('Denmark', 3331),\n",
        " ('Germany', 1701), ('Israel', 1578), ('Australia', 1319), ('Switzerland', 514),\n",
        "  ('France', 509), ('Italy', 486), ('Belgium', 464), ('Spain', 461),\n",
        "  ('Sweden', 434), ('Chile', 260), ('Netherlands', 254), ('Singapore', 249),\n",
        "  ('Mexico', 240), ('Turkey', 202), ('India', 174), ('Brazil', 147),\n",
        "   ('Botswana', 142), ('Indonesia', 128), ('Japan', 118), ('Portugal', 118),\n",
        "    ('Argentina', 80), ('New Zealand', 63), ('South Africa', 61),\n",
        "    ('Lithuania', 50), ('Czechia', 49), ('Georgia', 46), ('Russia', 45),\n",
        "    ('Colombia', 37), ('Sri Lanka', 37), ('Hong Kong', 35), ('Malta', 34),\n",
        "     ('Poland', 28), ('Ecuador', 26), ('Canada', 25), ('Jordan', 22),\n",
        "     ('Malawi', 21), ('Cambodia', 18), ('Norway', 17), ('Morocco', 15),\n",
        "     ('Senegal', 15), ('Costa Rica', 14), ('Pakistan', 11), ('Nigeria', 10),\n",
        "      ('Peru', 10), ('Brunei', 8), ('Slovakia', 8), ('Trinidad and Tobago', 8),\n",
        "       ('Maldives', 7), ('Zambia', 7), ('Thailand', 6), ('Malaysia', 5),\n",
        "       ('Bangladesh', 4), ('Romania', 3), ('Iran', 1), ('Oman', 1),\n",
        "        ('Ukraine', 1), ('Vietnam', 1), ('Moldova', 0), ('Monaco', 0),\n",
        "        ('Nepal', 0), ('South Korea', 0)]\n",
        "```"
      ],
      "metadata": {
        "id": "2JNdnFwTap_f"
      },
      "id": "2JNdnFwTap_f"
    },
    {
      "cell_type": "markdown",
      "source": [
        "#### `Task.5 Answer/Solution`"
      ],
      "metadata": {
        "id": "QB_KhbotUukr"
      },
      "id": "QB_KhbotUukr"
    },
    {
      "cell_type": "code",
      "source": [
        "# => ANSWER.unbroken code\n",
        "\n",
        "#==========================>\n",
        "#=> I of III - solution code\n",
        "#===================================>\n",
        "### BEGIN SOLUTION\n",
        "total_omicron_2021 = []\n",
        "#5.1\n",
        "df6 = df.set_index(\"location\")\n",
        "#5.2\n",
        "df6 = df6.loc[df6[\"date\"] == \"2021-12-27\"]\n",
        "#5.3\n",
        "df6 = df6.loc[df6[\"variant\"] == \"Omicron\"]\n",
        "#5.3\n",
        "df6 = df6[\"num_sequences\"]\n",
        "#5.4\n",
        "total_omicron_2021 = list(zip(df6.index, df6))\n",
        "#5.5\n",
        "df7 = pd.DataFrame(sorted(total_omicron_2021, key=lambda x: x[1], reverse=True))\n",
        "print(df7)\n",
        "### END SOLUTION\n",
        "'''  [out]\n",
        "0\t                1\n",
        "0\tUnited Kingdom\t52456\n",
        "1\tUnited States\t  24681\n",
        "2\tDenmark\t        3331\n",
        "3\tGermany\t        1701\n",
        "4\tIsrael\t        1578\n",
        "...\t...\t...\n",
        "59\tVietnam\t      1\n",
        "60\tMoldova\t      0\n",
        "61\tMonaco\t      0\n",
        "62\tNepal\t        0\n",
        "63\tSouth Korea \t0\n",
        "64 rows × 2 columns  '''\n",
        "\n",
        "#===========================>\n",
        "#=> II of III - solution code\n",
        "#=========================================>\n",
        "\n",
        "proc_seq_us = {}\n",
        "### BEGIN SOLUTION\n",
        "df2 = df.groupby([\"location\", \"variant\"]).aggregate({\n",
        "    \"num_sequences\": \"sum\",\n",
        "    \"num_sequences_total\": \"sum\", })\n",
        "df2[\"perc_sequences\"] =\n",
        "                    (df2[\"num_sequences\"] / df2[\"num_sequences_total\"]) * 100\n",
        "df2 =\n",
        "df2.loc[(\"United States\", [\"Alpha\", \"Delta\", \"Omicron\"]), :].loc[\"United States\"]\n",
        "\n",
        "df2 = df2[\"perc_sequences\"]\n",
        "proc_seq_us = df2.to_dict()\n",
        "print(proc_seq_us)\n",
        "'''[out]\n",
        "{'Alpha': 11.520951617373877, 'Delta': 63.76796208057254,\n",
        "                                                  'Omicron': 1.370817855027461}\n",
        "### END SOLUTION '''\n",
        "\n",
        "#=============================>\n",
        "#=> III of III => solution code\n",
        "#=================================================>\n",
        "### BEGIN SOLUTION\n",
        "total_omicron_2021 = []\n",
        "#5.1\n",
        "df6 = df.set_index(\"location\")\n",
        "#5.2\n",
        "df6 = df6.loc[df6[\"date\"] == \"2021-12-27\"]\n",
        "#5.3\n",
        "df6 = df6.loc[df6[\"variant\"] == \"Omicron\"]\n",
        "#5.3\n",
        "df6 = df6[\"num_sequences\"]\n",
        "#5.4\n",
        "total_omicron_2021 = list(zip(df6.index, df6))\n",
        "#5.5\n",
        "df7 = pd.DataFrame(sorted(total_omicron_2021, key=lambda x: x[1], reverse=True))\n",
        "print(df7)\n",
        "total_omicron_2021 = sorted(total_omicron_2021, key=lambda x: x[1], reverse=True)\n",
        "print(total_omicron_2021)\n",
        "\"\"\"\n",
        "#[('United Kingdom', 52456), ('United States', 24681), ('Denmark', 3331),\n",
        " ('Germany', 1701), ('Israel', 1578), ('Australia', 1319), ('Switzerland', 514),\n",
        "  ('France', 509), ('Italy', 486), ('Belgium', 464), ('Spain', 461),\n",
        "  ('Sweden', 434), ('Chile', 260), ('Netherlands', 254), ('Singapore', 249),\n",
        "  ('Mexico', 240), ('Turkey', 202), ('India', 174), ('Brazil', 147),\n",
        "   ('Botswana', 142), ('Indonesia', 128), ('Japan', 118), ('Portugal', 118),\n",
        "    ('Argentina', 80), ('New Zealand', 63), ('South Africa', 61),\n",
        "    ('Lithuania', 50), ('Czechia', 49), ('Georgia', 46), ('Russia', 45),\n",
        "    ('Colombia', 37), ('Sri Lanka', 37), ('Hong Kong', 35), ('Malta', 34),\n",
        "     ('Poland', 28), ('Ecuador', 26), ('Canada', 25), ('Jordan', 22),\n",
        "     ('Malawi', 21), ('Cambodia', 18), ('Norway', 17), ('Morocco', 15),\n",
        "     ('Senegal', 15), ('Costa Rica', 14), ('Pakistan', 11), ('Nigeria', 10),\n",
        "      ('Peru', 10), ('Brunei', 8), ('Slovakia', 8), ('Trinidad and Tobago', 8),\n",
        "       ('Maldives', 7), ('Zambia', 7), ('Thailand', 6), ('Malaysia', 5),\n",
        "       ('Bangladesh', 4), ('Romania', 3), ('Iran', 1), ('Oman', 1),\n",
        "        ('Ukraine', 1), ('Vietnam', 1), ('Moldova', 0), ('Monaco', 0),\n",
        "        ('Nepal', 0), ('South Korea', 0)]   \"\"\"\n",
        "### END SOLUTION"
      ],
      "metadata": {
        "id": "vHJZ4IqGUY62"
      },
      "id": "vHJZ4IqGUY62",
      "execution_count": null,
      "outputs": []
    },
    {
      "cell_type": "markdown",
      "source": [
        "## `M.1. Wrap.up and Housekeeping`"
      ],
      "metadata": {
        "id": "kjA00fVqPjEm"
      },
      "id": "kjA00fVqPjEm"
    },
    {
      "cell_type": "code",
      "source": [
        "#from google.colab import drive\n",
        "#drive.flush_and_unmount()\n",
        "\n",
        "##=>Perform A,B,C when done with spark\n",
        "#A:\n",
        "#=> Close the SparkSession\n",
        "spark.stop()\n",
        "\n",
        "#B:\n",
        "#=> Disconnect and stop Spark in a Jupyter Notebook,\n",
        "#=> stops SparkContext and releases its resourcs\n",
        "sc.stop()\n",
        "\n",
        "#C:\n",
        "#=> Confirm Spark termination by checking the Spark UI\n",
        "#=> Access UI by visiting URL provided in Notebook output where Spark fireup"
      ],
      "metadata": {
        "id": "2DzgneXkPhuC"
      },
      "id": "2DzgneXkPhuC",
      "execution_count": null,
      "outputs": []
    },
    {
      "cell_type": "markdown",
      "source": [
        "# `<end.M1` ~ `M1.end>`\n",
        "-------------"
      ],
      "metadata": {
        "id": "QuEPQ9tfwvRH"
      },
      "id": "QuEPQ9tfwvRH"
    },
    {
      "cell_type": "markdown",
      "source": [
        "# **`M2 - Data preprocessing`** - Python libraries and Titanic dataset analysis\n",
        "\n"
      ],
      "metadata": {
        "id": "Hn4Iuwq2L36e"
      },
      "id": "Hn4Iuwq2L36e"
    },
    {
      "cell_type": "markdown",
      "source": [
        "## **`exercise.M.2` - Python Libraries**"
      ],
      "metadata": {
        "id": "CU3PQXM0GCkO"
      },
      "id": "CU3PQXM0GCkO"
    },
    {
      "cell_type": "markdown",
      "source": [
        "### **`Overview and Directions`**"
      ],
      "metadata": {
        "id": "ea7scL-NEmCR"
      },
      "id": "ea7scL-NEmCR"
    },
    {
      "cell_type": "markdown",
      "source": [
        "* Experience basic text mining `operations`.\n",
        "=> Read Shakespearen `corpus` into Python `data objects.`\n",
        "* Practice Python `iterators, conditionals, and functions.`\n",
        "* Use `Pandas DataFrames` for desciptive statistics and counts.\n",
        "* Use `MatplotLib` and `Seaborn` for visualization.\n",
        "* Perform tasks `without assistance from clever sources.`\n",
        "\n",
        "#### **`Desired outcomes`**\n",
        "- Interpret ondemand code and object `help()` like `help(os.listdir)`\n",
        "- Learn Python built-in object types https://docs.python.org/3/library/stdtypes.html\n",
        "- Transpose data `left to right`, `right to left`, `top to bottom`, `bottom to top`\n",
        "- Use Python functions regularly: https://docs.python.org/3/library/functions.html\n",
        "\n",
        "#### **`Learning Moment`** - data nesting\n",
        "![Matryoshkas](https://upload.wikimedia.org/wikipedia/commons/thumb/4/40/Matryoshka_transparent.png/220px-Matryoshka_transparent.png \"dolls\") ![Matryoshkas](https://upload.wikimedia.org/wikipedia/commons/thumb/4/41/Floral_matryoshka_set_2_smallest_doll_nested.JPG/220px-Floral_matryoshka_set_2_smallest_doll_nested.JPG)\n",
        "- Data pack and unpack is similar to nested Russian [Matryoshka dolls](https://en.wikipedia.org/wiki/Matryoshka_doll)\n",
        "\n",
        "`Why essential?` Data nesting to pack, unpack, and reference items facilitates\n",
        "- data transformations to suit analysis purpose w transformation and reporting.\n",
        "=> amongst tuple, list, dictionary, string, sets, and DataFrames + more\n",
        "\n",
        "`Goal.1:` use words to explain how data is [nested](https://en.wikipedia.org/wiki/Nesting_(computing)) in Python built-in data objects\n",
        "- `[`..mother.doll..`(`..child.1.doll..`)` `{`..child.2.doll..`}`..close.  child.1..`)`..close.mother`]`\n",
        "=> `Q:` What is ? ==>  [ ( {...} ) ]\n",
        "=> `Answer:` a `dictionary` is *nested* in a `tuple` that is *nested* in a `list`\n",
        "\n",
        "`Goal.2:` build proficiency with nesting mechanics, ie transformation\n",
        "- `How?` using iterators, conditionals, and functions\n",
        "=> to rearrange and parse datum items to facilitate inquiry.\n",
        "\n",
        "#### **`Resources`**\n",
        "`course.reference.library::`\n",
        "- [data.objects.iterators.functions.transformers](https://github.com/cosc-526/home.page/files/11682632/reference.library.data.containers.conditionals.iterators.functions.libraries.transformers.classes.pdf)\n",
        "`how.To`\n",
        "=> [nesting](https://en.wikipedia.org/wiki/Nesting_(computing))\n",
        "=> [data transformation](https://en.wikipedia.org/wiki/Data_transformation_(computing))"
      ],
      "metadata": {
        "id": "UuJMluyeEmCt"
      },
      "id": "UuJMluyeEmCt"
    },
    {
      "cell_type": "markdown",
      "metadata": {
        "id": "h6DHf8eXEmCu"
      },
      "source": [
        "### **`Task.0`**  - Answer Python core data objects"
      ],
      "id": "h6DHf8eXEmCu"
    },
    {
      "cell_type": "markdown",
      "source": [
        "=> Using resources provided, put answers with the questions marks (?) are\n",
        "```\n",
        "object.name  | character.code |   constructor.function\n",
        "-------------|----------------|--------------------------\n",
        "mytuple  =   |          ?     |=> mytuple =   ?  (object)\n",
        "mylist   =   |          ?     |=> mylist  =   ?  (object)\n",
        "mydict   =   |          ?     |=> mydict  =   ?  (object)\n",
        "myset    =   |          ?     |=> myset   =   ?  (object)\n",
        "mystring =   |          ?     |=> mystring=   ?  (object)\n",
        "```"
      ],
      "metadata": {
        "id": "ciBAppU0EmCu"
      },
      "id": "ciBAppU0EmCu"
    },
    {
      "cell_type": "code",
      "source": [
        "# Enter your answer\n",
        "\n",
        "object.name  | character.code |   constructor.function    |    outcome.example\n",
        "-------------|----------------|-------------------------- |--------------------------------\n",
        "mytuple  =   |                |=> mytuple =    (object)   | => ('string',(2+0j),[1,2,3])\n",
        "mylist   =   |                |=> mylist  =    (object)   | => ['bambam', \"a+b=c\", [1,2,3]]\n",
        "mydict   =   |                |=> mydict  =    (object)   | => {'customer':['john','doe'] }\n",
        "myset    =   |                |=> myset   =    (object)   | => ['b','o','o'] [out]{'b','o',}\n",
        "mystring =   |                |=> mystring=    (object)   | => str(myset <or mylist, etc>)"
      ],
      "metadata": {
        "id": "grwEiYPQEmCu"
      },
      "execution_count": null,
      "outputs": [],
      "id": "grwEiYPQEmCu"
    },
    {
      "cell_type": "markdown",
      "metadata": {
        "id": "TRzsydJjKB7b"
      },
      "source": [
        "### **`Task.1`** - Read data into pd.DataFrame"
      ],
      "id": "TRzsydJjKB7b"
    },
    {
      "cell_type": "markdown",
      "source": [
        "`Desired outcomes`\n",
        "- Understand URL data reads for csv and raw data\n",
        "- Read .xlsx, or .csv files into pandas DataFrames\n",
        "- Transform DataFrames into Python data objects like list and dictionary\n",
        "- Use iterators, conditionals, and functions to pack and unpack nested data\n",
        "\n",
        "**`Tasks`**\n",
        "1. Read data into pd.DataFrame\n",
        "https://github.com/cosc-526/home.page/blob/main/data.M2.exercises.shakespeare.xlsx\n",
        "2. Display DataFrame's information and header information.\n",
        "3. confirm 37 plays and 4 data fields: title, script, type, id\n",
        "\n",
        "**`Useful links`**\n",
        "- https://pandas.pydata.org/docs/reference/\n",
        "- https://pandas.pydata.org/docs/reference/api/pandas.read_excel.html\n",
        "- Investigate Github data file distinction between regular and raw URL views."
      ],
      "metadata": {
        "id": "N3Q8b0gzKB8G"
      },
      "id": "N3Q8b0gzKB8G"
    },
    {
      "cell_type": "code",
      "source": [
        "#=>Enter Answer\n",
        "\n",
        "#1 Read data into pd.DataFrame names=> df\n",
        "\n",
        "#2. Display DataFrame's information and header\n",
        "\n",
        "#3. confirm 37 plays and 4 data fields: title, script, type, id\n"
      ],
      "metadata": {
        "id": "pg6NEZbFx6sh"
      },
      "id": "pg6NEZbFx6sh",
      "execution_count": null,
      "outputs": []
    },
    {
      "cell_type": "markdown",
      "metadata": {
        "id": "hzZbyFWqKB8H"
      },
      "source": [
        "**`Task.1 Expected Ouput`** - use print() statements to duplicate!\n",
        "```\n",
        "#1 Read data into pd.DataFrame names=> df\n",
        "#2. Display DataFrame's information and header\n",
        "#3. confirm 37 plays and 4 data fields: title, script, type, id\n",
        "\n",
        "=>information\n",
        "              <class 'pandas.core.frame.DataFrame'>\n",
        "              RangeIndex: 37 entries, 0 to 36\n",
        "              Data columns (total 4 columns):\n",
        "              #   Column  Non-Null Count  Dtype\n",
        "              ---  ------  --------------  -----\n",
        "              0   title   37 non-null     object\n",
        "              1   script  37 non-null     object\n",
        "              2   type    37 non-null     object\n",
        "              3   ID      37 non-null     int64\n",
        "              dtypes: int64(1), object(3)\n",
        "              memory usage: 1.3+ KB\n",
        "              None\n",
        "                                    title  \\\n",
        "              0  Alls Well That Ends Well\n",
        "              1            As You Like It\n",
        "              2      The Comedy of Errors\n",
        "              3                 Cymbeline\n",
        "              4        Loves Labours Lost\n",
        "=>header\n",
        "                                              script    type  ID\n",
        "0  in delivering my son from me i bury a second h...  Comedy   0\n",
        "1  as i remember adam it was upon this fashion be...  Comedy   1\n",
        "2  proceed solinus to procure my fall and by the ...  Comedy   2\n",
        "3  you do not meet a man but frowns our bloods no...  Comedy   3\n",
        "4  let fame that all hunt after in their lives li...  Comedy   4\n",
        "\n",
        " => yes, 37 entries\n",
        "```"
      ],
      "id": "hzZbyFWqKB8H"
    },
    {
      "cell_type": "markdown",
      "metadata": {
        "id": "9lOOfApImn7g"
      },
      "source": [
        "### **`Task.2`**  - Data object manipulation"
      ],
      "id": "9lOOfApImn7g"
    },
    {
      "cell_type": "markdown",
      "source": [
        "`Desired outcomes`\n",
        "- Convert dataframes to dictionary and lists\n",
        "- Refresh on usefulness of list comprehension techniques\n",
        "- Unpack items into list objects\n",
        "\n",
        "**`Tasks`**\n",
        "1. Send dataframe fields titles and scripts to a list\n",
        "2. Split title words to find the min, max, and total words of all titles\n",
        "\n",
        "**`Useful links`**\n",
        "- https://pandas.pydata.org/docs/reference/\n",
        "- Pandas dictionary functions https://pandas.pydata.org/docs/reference/frame.html\n",
        "- [zip] - https://docs.python.org/3/library/functions.html#zip\n",
        "- [type] - https://docs.python.org/3/library/functions.html#type"
      ],
      "metadata": {
        "id": "lqT0YgAwmn77"
      },
      "id": "lqT0YgAwmn77"
    },
    {
      "cell_type": "code",
      "source": [
        "# Learning moment => google query less by learning Python help system\n",
        "help(zip)"
      ],
      "metadata": {
        "id": "7rXBZY_N3pit"
      },
      "id": "7rXBZY_N3pit",
      "execution_count": null,
      "outputs": []
    },
    {
      "cell_type": "code",
      "source": [
        "#2.1. Send dataframe fields titles and scripts to a list\n",
        "'''=> object names => mylist_titles; mylist_scripts'''\n",
        "\n",
        "#=>Enter Answer\n",
        "\n",
        "\n",
        "\n"
      ],
      "metadata": {
        "id": "Glpc6UVzmn78"
      },
      "execution_count": null,
      "outputs": [],
      "id": "Glpc6UVzmn78"
    },
    {
      "cell_type": "markdown",
      "metadata": {
        "id": "RphSDQVFmn78"
      },
      "source": [
        "**`Task.2.1 Expected Output`**\n",
        "```\n",
        "1. parse dataframe to get titles only\n",
        "['Alls Well That Ends Well', 'As You Like It', 'The Comedy of Errors', 'Cymbeline', 'Loves Labours Lost', 'Measure for Measure', 'The Merry Wives of Windsor', 'The Merchant of Venice', 'A Midsummer Nights Dream', 'Much Ado About Nothing', 'Pericles Prince of Tyre', 'Taming of the Shrew', 'The Tempest', 'Troilus and Cressida', 'Twelfth Night', 'Two Gentlemen of Verona', 'Winters Tale', 'Henry IV part 1', 'Henry IV part 2', 'Henry V', 'Henry VI part 1', 'Henry VI part 2', 'Henry VI part 3', 'Henry VIII', 'King John', 'Richard II', 'Richard III', 'Antony and Cleopatra', 'Coriolanus', 'Hamlet', 'Julius Caesar', 'King Lear', 'Macbeth', 'Othello', 'Romeo and Juliet', 'Timon of Athens', 'Titus Andronicus']\n",
        "lenght of scripts 37\n",
        "```"
      ],
      "id": "RphSDQVFmn78"
    },
    {
      "cell_type": "code",
      "source": [
        "#2.2 Split title words to find the min, max, and total words of all titles\n",
        "#=> starting code provided\n",
        "''' create a new list for title words\n",
        "=> mylist_title_words =[]\n",
        "Iteratte the mylist_titles and use this code to split  string into words\n",
        "mylist_title_words.append(str(i).split()) '''\n",
        "i = int\n",
        "help(str(i).split())\n",
        "#=> finally iterate and use conditional logic to populate variables\n",
        "min_title=int(); max_title=int(); total_title_words=int()\n",
        "\n",
        "#=>Enter Answer\n",
        "\n"
      ],
      "metadata": {
        "id": "9pd0wKKEHoLQ"
      },
      "id": "9pd0wKKEHoLQ",
      "execution_count": null,
      "outputs": []
    },
    {
      "cell_type": "markdown",
      "metadata": {
        "id": "Pf2asnMje0Di"
      },
      "source": [
        "**`Task.2.2 Expected Output`**\n",
        "```\n",
        "2. total title words\n",
        "min title lenght= 1\n",
        "max title length= 5\n",
        "total words= 107\n",
        "```"
      ],
      "id": "Pf2asnMje0Di"
    },
    {
      "cell_type": "markdown",
      "metadata": {
        "id": "ck_ydpMsOQW8"
      },
      "source": [
        "### **`Task.3`**  - Data Grouping and analysis"
      ],
      "id": "ck_ydpMsOQW8"
    },
    {
      "cell_type": "markdown",
      "source": [
        "**`Tasks`**\n",
        "The dataframe has 4 fields includuing:\n",
        "=> Index(['title', 'script', `type`, 'ID'], dtype='object')\n",
        "=> Type designates shakespeare playtype of comedy, tragedy, and history.\n",
        "- correct! there's also poetry but not in this corpus.\n",
        "1. Count the total words in the corpus provided displaying\n",
        "`comedy` - word count\n",
        "`history` - word count\n",
        "`tragedy` - word count\n",
        "=> Please use any method and means of doing so\n",
        "\n",
        "**`Useful links` & Learning moment**\n",
        "- perform github searches to find source code\n",
        "=> on google: `github + topic`, `git + topic`\n",
        "- [joris van den bossche](https://github.com/jorisvandenbossche) is a curious person\n",
        "- https://github.com/jorisvandenbossche/pandas-tutorial/blob/master/solved%20-%2004b%20-%20Advanced%20groupby%20operations.ipynb"
      ],
      "metadata": {
        "id": "lhZX6fTAOQXW"
      },
      "id": "lhZX6fTAOQXW"
    },
    {
      "cell_type": "code",
      "source": [
        "#=>Enter Answer\n",
        "\n",
        "#3. Create three variables and count total words by play type\n",
        "''' you can solve this however you like but wanted to provide some ideas\n",
        "A: consider df.groupy with lambda functions\n",
        "B: consider iterating df rows, splitting words, and counting\n",
        "=> As a refresher, iterators, conditionals, and functions help solve '''\n",
        "\n",
        "comedy_words=int(); history_words=int(); tragedy_words=int()\n",
        "\n",
        "#option.A - use of database functions combined with lambda\n",
        "total_words_by_type = df.groupby..?\n",
        "\n",
        "\n",
        "#option.B\n",
        "for index, row in df.iterrows():\n",
        "    script_words =\n",
        "    word_count =\n",
        "    script_type =\n",
        "\n",
        "    if script_type not in word_counts_by_type:\n",
        "        word_counts_by_type[script_type] = word_count\n",
        "    else:\n"
      ],
      "metadata": {
        "id": "lwMtEXCLOQXW"
      },
      "execution_count": null,
      "outputs": [],
      "id": "lwMtEXCLOQXW"
    },
    {
      "cell_type": "markdown",
      "source": [
        "**`Task.3 Expected Output`**\n",
        "```\n",
        "via lambda method\n",
        "\n",
        " type\n",
        "Comedy     110343\n",
        "History     63049\n",
        "Tragedy     63854\n",
        "Name: script, dtype: int64\n",
        "\n",
        "via row iteration method\n",
        "\n",
        " Comedy     110343\n",
        "History     63049\n",
        "Tragedy     63854\n",
        "dtype: int64\n",
        "```"
      ],
      "metadata": {
        "id": "fDbCjWP6e7lY"
      },
      "id": "fDbCjWP6e7lY"
    },
    {
      "cell_type": "markdown",
      "metadata": {
        "id": "UNMwvqLPOY_g"
      },
      "source": [
        "### **`Task.4`**  - Predict Play Types"
      ],
      "id": "UNMwvqLPOY_g"
    },
    {
      "cell_type": "markdown",
      "source": [
        "`Task Overview`\n",
        "Working with large code blocks can be overwhelming, especially in data mining.\n",
        "Increase your patience and creativity vs. intimidation!\n",
        "Use the stages to organize thinking, prepare analysis, machine learning, and results analysis.\n",
        "=> Stage 1: Data Preparation\n",
        "==> Stage 2: Feature Extraction\n",
        "===> Stage 3: Machine Learning\n",
        "===> Stage 4: Model Evaluation\n",
        "====> Stage 5: Visualization\n",
        "\n",
        "`Helpful tips`\n",
        "- Many new intuitive plots from Plotly are available to expedite your capabilities.\n",
        "- Use practice and perseverance to increase your competency with code structures.\n",
        "- Try changing fonts, adjusting screen size, and working in other applications\n",
        "=> Colab, Spyder, and PyCharm\n",
        "- The data mining stages provided are debated, and other approaches are valid.\n",
        "- Use them to organize your thinking and arrange your future coursework.\n",
        "\n",
        "`Stage 1: Data Preparation`\n",
        "- Extract raw or curated information into Python data objects.\n",
        "- Exclude a specified number of plays from training randomly.\n",
        "- Separate the features (script) and labels (type) from the dataset.\n",
        "\n",
        "`Stage 2: Feature Extraction`\n",
        "- Perform feature extraction.\n",
        "- For text mining, TF-IDF vectorization is a common practice.\n",
        "\n",
        "`Stage 3: Machine Learning`\n",
        "- Week 3 starts skilling in which type of algorithm to select based on data features.\n",
        "- Train a Random Forest classifier to help predict its play type.\n",
        "- Print actual test data play types compared to their predicted play types.\n",
        "- Calculate the prediction accuracy of the excluded plays.\n",
        "\n",
        "`Stage 4: Model Evaluation`\n",
        "- Assess the accuracy of the trained model using various evaluation techniques.\n",
        "=> cross-validation, confusion matrix, precision, recall, and F1 score.\n",
        "\n",
        "`Stage 5: Visualization`\n",
        "- Apply PCA (Principal Component Analysis) to the script features.\n",
        "- Create a 3D scatter w Plotly Express to visualize the transformed features x play types.\n",
        "- Custom 'x marks the spot' markers indicate correct and incorrect predicted play types.\n",
        "- Learn how the code operates to build your data mining code language.\n",
        "=> `As a refresher, you don't need prior experience with this code!`\n",
        "\n",
        "**`Tasks`**\n",
        "0. Read course [reference.library.Mashup](https://github.com/cosc-526/home.page/blob/069c9488de24d712c642e0f014d37759fc99185d/reference.library.Mashup.data.mine.pdf) section\n",
        "=> Section I. Data preprocessing and supervised, unsupervised algorithm purpose\n",
        "1. Run code and enter 1-5 plays to exclude from training and use in testing.\n",
        "=> outcome graph engineered for your learning experience w 1-5 test cases.\n",
        "=> Any excluded item is a play the trained model attempts to classify accurately.\n",
        "2. Analyze code and explain what each section is doing.\n",
        "3. Analyze the outcome graph and explain what it provides.\n",
        "4. Why were random forest algorithms assigned?\n",
        "3. Specify areas where you would benefit from additional professor discussion."
      ],
      "metadata": {
        "id": "Ciet2kxiOY_s"
      },
      "id": "Ciet2kxiOY_s"
    },
    {
      "cell_type": "code",
      "source": [
        "!pip show plotly   #visualization library used in course\n",
        "#Name: plotly\n",
        "#Version: 5.13.1\n",
        "#Home-page: https://plotly.com/python/\n",
        "\n",
        "#!pip install plotly  #as a refresher run on terminal if python ur machine"
      ],
      "metadata": {
        "colab": {
          "base_uri": "https://localhost:8080/"
        },
        "id": "HI58oz_fEeST",
        "outputId": "32c5d4be-be3b-486b-943f-de8d36f4d936"
      },
      "id": "HI58oz_fEeST",
      "execution_count": null,
      "outputs": [
        {
          "output_type": "stream",
          "name": "stdout",
          "text": [
            "Name: plotly\n",
            "Version: 5.13.1\n",
            "Summary: An open-source, interactive data visualization library for Python\n",
            "Home-page: https://plotly.com/python/\n",
            "Author: Chris P\n",
            "Author-email: chris@plot.ly\n",
            "License: MIT\n",
            "Location: /usr/local/lib/python3.10/dist-packages\n",
            "Requires: tenacity\n",
            "Required-by: cufflinks, datascience\n"
          ]
        }
      ]
    },
    {
      "cell_type": "code",
      "source": [
        "import random\n",
        "import requests\n",
        "from sklearn.feature_extraction.text import TfidfVectorizer\n",
        "from sklearn.ensemble import RandomForestClassifier\n",
        "from sklearn.metrics import accuracy_score\n",
        "import plotly.express as px\n",
        "import pandas as pd\n",
        "from sklearn.decomposition import PCA\n",
        "import plotly.graph_objects as go\n",
        "\n",
        "# User inputs 1-5 plays for algorithm to guess play type\n",
        "#=>example randomizes play selection for learning\n",
        "num_plays_exclude = int(input(\"Enter 1-5 plays to predict play type: \"))\n",
        "\n",
        "# Randomly select test play quantity\n",
        "df = pd.read_excel(requests.get( \\\n",
        "    \"https://github.com/cosc-526/home.page/raw/main/data.M2.exercises.shakespeare.xlsx\").content)\n",
        "excluded_indices = random.sample(range(len(df)), num_plays_exclude)\n",
        "\n",
        "# Prepare the dataset where features='script' and labels=<play>'type'\n",
        "script = df['script']\n",
        "play_type = df['type']\n",
        "\n",
        "# Remove excluded test dataset plays from dataset\n",
        "script = script.drop(excluded_indices)\n",
        "play_type = play_type.drop(excluded_indices)\n",
        "\n",
        "\n",
        "'''==> Stage 2: Feature Extraction ==> Stage 2: Feature Extraction =>Stage 2'''\n",
        "\n",
        "# Perform feature extraction on the script data\n",
        "vectorizer = TfidfVectorizer()\n",
        "script_features = vectorizer.fit_transform(script)\n",
        "\n",
        "\n",
        "'''==> Stage 3: Machine Learning ==> Stage 3: Machine Learning ==> Stage 3:'''\n",
        "\n",
        "# Train a Random Forest classifier using the dataset\n",
        "rf = RandomForestClassifier()\n",
        "rf.fit(script_features, play_type)\n",
        "\n",
        "# Print the details of the excluded plays and their predicted play types\n",
        "print(\"Excluded Plays (Test Data):\")\n",
        "excluded_plays = []  # Store excluded play details\n",
        "for case_num, index in enumerate(excluded_indices, 1):\n",
        "    play = df.iloc[index]\n",
        "    title = play['title']\n",
        "    play_type_actual = play['type']\n",
        "\n",
        "    # Predict the play type of the excluded play\n",
        "    test_features = vectorizer.transform([play['script']])\n",
        "    predicted_play_type = rf.predict(test_features)[0]\n",
        "\n",
        "    # Print the case number, play details, and the predicted play type\n",
        "    print(\"Case:\", case_num)\n",
        "    print(\"Title:\", title)\n",
        "    print(\"Type:\", play_type_actual)\n",
        "    print(\"Predicted Type:\", predicted_play_type)\n",
        "    print()\n",
        "\n",
        "    excluded_plays.append({\n",
        "        'Index': index,\n",
        "        'Title': title,\n",
        "        'Type': play_type_actual,\n",
        "        'Predicted Type': predicted_play_type\n",
        "    })\n",
        "\n",
        "# Get the actual play type of the excluded plays\n",
        "actual_play_type = df.iloc[excluded_indices]['type']\n",
        "\n",
        "# Predict the play type of the excluded plays\n",
        "test_features = vectorizer.transform(df.iloc[excluded_indices]['script'])\n",
        "predicted_play_type = rf.predict(test_features)\n",
        "\n",
        "\n",
        "'''==> Stage 4: Model Evaluation ==> Stage 4: Model Evaluation Stage 4:'''\n",
        "\n",
        "# Calculate and print the accuracy on the excluded plays\n",
        "test_accuracy = accuracy_score(actual_play_type, predicted_play_type)\n",
        "print(\"Test Accuracy:\", test_accuracy)\n",
        "\n",
        "# Create a DataFrame with the play type and predicted play type\n",
        "results_df = pd.DataFrame({'Type': actual_play_type, \\\n",
        "                           'Predicted Type': predicted_play_type})\n",
        "\n",
        "\n",
        "'''==> Stage 5: Visualization ==> Stage 5: Visualization ==> Stage 5: '''\n",
        "\n",
        "# Apply PCA to the script features\n",
        "pca = PCA(n_components=3)\n",
        "script_features_pca = pca.fit_transform(script_features.toarray())\n",
        "\n",
        "# Create a DataFrame with the PCA-transformed features and play type\n",
        "pca_df = pd.DataFrame(script_features_pca, columns=['PC1', 'PC2', 'PC3'])\n",
        "pca_df['Type'] = play_type.tolist()\n",
        "\n",
        "# Create a scatter plot using Plotly Express\n",
        "fig = px.scatter_3d(pca_df, x='PC1', y='PC2', z='PC3', color='Type')\n",
        "\n",
        "# Add layout\n",
        "fig.update_layout(\n",
        "    title=\"3D Principal Component Analysis\",\n",
        "    scene=dict(\n",
        "        xaxis=dict(title=\"Principal Component 1\"),\n",
        "        yaxis=dict(title=\"Principal Component 2\"),\n",
        "        zaxis=dict(title=\"Principal Component 3\")\n",
        "    ),\n",
        "    showlegend=True\n",
        ")\n",
        "\n",
        "# Update the marker style for the predicted data points\n",
        "for play in excluded_plays:\n",
        "    predicted_type = play['Predicted Type']\n",
        "    marker_color = 'black'\n",
        "    if predicted_type == 'comedy':\n",
        "        marker_color = 'black'\n",
        "    elif predicted_type == 'tragedy':\n",
        "        marker_color = 'blue'\n",
        "    elif predicted_type == 'history':\n",
        "        marker_color = 'purple'\n",
        "    index = play['Index']\n",
        "    if index < len(pca_df):\n",
        "        fig.add_trace(\n",
        "            go.Scatter3d(\n",
        "                x=[pca_df.iloc[index]['PC1']],\n",
        "                y=[pca_df.iloc[index]['PC2']],\n",
        "                z=[pca_df.iloc[index]['PC3']],\n",
        "                mode='markers',\n",
        "                marker=dict(\n",
        "                    size=10,\n",
        "                    #symbol='x',\n",
        "                    color=marker_color,\n",
        "                    line=dict(color='black', width=1)\n",
        "                ),\n",
        "                name=f\"Predicted Type: {predicted_type}\"\n",
        "            )\n",
        "        )\n",
        "    else:\n",
        "        print(f\"Invalid index: {index}\")\n",
        "\n",
        "# Display the plot\n",
        "fig.show()\n"
      ],
      "metadata": {
        "colab": {
          "base_uri": "https://localhost:8080/",
          "height": 785
        },
        "id": "4Z-YlZ8Iu0wo",
        "outputId": "1befda40-de0e-45d4-9f77-adf061fc9fcb"
      },
      "id": "4Z-YlZ8Iu0wo",
      "execution_count": null,
      "outputs": [
        {
          "output_type": "stream",
          "name": "stdout",
          "text": [
            "Enter 1-5 plays to predict play type: 2\n",
            "Excluded Plays (Test Data):\n",
            "Case: 1\n",
            "Title: Julius Caesar\n",
            "Type: Tragedy\n",
            "Predicted Type: Tragedy\n",
            "\n",
            "Case: 2\n",
            "Title: Timon of Athens\n",
            "Type: Tragedy\n",
            "Predicted Type: Comedy\n",
            "\n",
            "Test Accuracy: 0.5\n",
            "Invalid index: 35\n"
          ]
        },
        {
          "output_type": "display_data",
          "data": {
            "text/html": [
              "<html>\n",
              "<head><meta charset=\"utf-8\" /></head>\n",
              "<body>\n",
              "    <div>            <script src=\"https://cdnjs.cloudflare.com/ajax/libs/mathjax/2.7.5/MathJax.js?config=TeX-AMS-MML_SVG\"></script><script type=\"text/javascript\">if (window.MathJax && window.MathJax.Hub && window.MathJax.Hub.Config) {window.MathJax.Hub.Config({SVG: {font: \"STIX-Web\"}});}</script>                <script type=\"text/javascript\">window.PlotlyConfig = {MathJaxConfig: 'local'};</script>\n",
              "        <script src=\"https://cdn.plot.ly/plotly-2.18.2.min.js\"></script>                <div id=\"fe8d4ad7-ac0d-4dce-9f6b-0433e92e1c5c\" class=\"plotly-graph-div\" style=\"height:525px; width:100%;\"></div>            <script type=\"text/javascript\">                                    window.PLOTLYENV=window.PLOTLYENV || {};                                    if (document.getElementById(\"fe8d4ad7-ac0d-4dce-9f6b-0433e92e1c5c\")) {                    Plotly.newPlot(                        \"fe8d4ad7-ac0d-4dce-9f6b-0433e92e1c5c\",                        [{\"hovertemplate\":\"Type=Comedy<br>PC1=%{x}<br>PC2=%{y}<br>PC3=%{z}<extra></extra>\",\"legendgroup\":\"Comedy\",\"marker\":{\"color\":\"#636efa\",\"symbol\":\"circle\"},\"mode\":\"markers\",\"name\":\"Comedy\",\"scene\":\"scene\",\"showlegend\":true,\"x\":[-0.14344672276797196,-0.16199515561367275,-0.11931913253638472,-0.049801330700331305,-0.006242126354890351,-0.1400437068791782,-0.27349559527632644,-0.02017628869738582,-0.054881486147967055,-0.20484297936253945,0.009071687534917517,-0.17336588693138333,0.01599869425888501,-0.12423184830142857,-0.08790269138048515,-0.2254046759518956,-0.07832044223348604],\"y\":[-0.004507685413221856,-0.08549040823150823,-0.16930335341976313,0.009728348789454912,0.041291139846810376,0.17528364017977477,0.19593597819001335,0.057468516457206034,-0.08283351902499997,-0.05584793435929728,-0.015111422217734392,0.017618484735659835,0.010476331827585597,0.03302514562516932,-0.04051853764331576,-0.23070978878404136,-0.028125232628067705],\"z\":[-0.05081463409981372,0.010308588932443522,0.21865957252280155,0.004351373670346189,-0.05058136270424821,-0.026927816661007856,0.05468657376916932,-0.013360114078672524,-0.042311107430353614,-0.048530179860034196,-0.047455027339226005,-0.06490571458616705,0.036779688650722446,-0.03104494955198994,-0.01418247206954098,-0.13979311485825652,-0.014500353375077357],\"type\":\"scatter3d\"},{\"hovertemplate\":\"Type=History<br>PC1=%{x}<br>PC2=%{y}<br>PC3=%{z}<extra></extra>\",\"legendgroup\":\"History\",\"marker\":{\"color\":\"#EF553B\",\"symbol\":\"circle\"},\"mode\":\"markers\",\"name\":\"History\",\"scene\":\"scene\",\"showlegend\":true,\"x\":[0.12994184491359329,0.06423916051403412,0.3012707121991193,0.23367722182194192,0.17895749830089577,0.250489730274868,0.08761501762469,0.15615034196775907,0.2086083900415385,0.04813427135621441],\"y\":[-0.016230175364640453,0.11634027730423246,0.18024604947347397,-0.01566970426536868,-0.11340055476323861,-0.10105499610817166,0.11254564144706966,-0.04675938645874334,-0.09804842336323939,-0.04427664205941326],\"z\":[0.04391820885630353,0.04159620302626834,-0.012094259700721772,-0.043111257579490504,-0.028394663257852223,-0.06042231209918962,-0.008490117988768612,-0.024125205491051526,-0.02570857410042853,-0.06489311072255591],\"type\":\"scatter3d\"},{\"hovertemplate\":\"Type=Tragedy<br>PC1=%{x}<br>PC2=%{y}<br>PC3=%{z}<extra></extra>\",\"legendgroup\":\"Tragedy\",\"marker\":{\"color\":\"#00cc96\",\"symbol\":\"circle\"},\"mode\":\"markers\",\"name\":\"Tragedy\",\"scene\":\"scene\",\"showlegend\":true,\"x\":[0.015142957754241978,-0.060042504953991806,0.07888646484482495,-0.01281704634692163,0.18769192274282587,-0.07986452136645146,-0.06678728004117072,0.11710550569351322],\"y\":[-0.12836350438112215,0.27703122069703073,0.09771270117837143,0.0629268108912471,0.11491075341521904,0.01774609436460637,-0.04591405980535962,-0.19812180613168004],\"z\":[0.4535076725940323,0.04373129938314734,-0.027704854851743763,0.0277218625358424,0.06533527947353635,-0.05222802736015004,-0.0165850669911648,-0.09243202665710834],\"type\":\"scatter3d\"},{\"marker\":{\"color\":\"black\",\"line\":{\"color\":\"black\",\"width\":1},\"size\":10},\"mode\":\"markers\",\"name\":\"Predicted Type: Tragedy\",\"x\":[-0.01281704634692163],\"y\":[0.0629268108912471],\"z\":[0.0277218625358424],\"type\":\"scatter3d\"}],                        {\"template\":{\"data\":{\"histogram2dcontour\":[{\"type\":\"histogram2dcontour\",\"colorbar\":{\"outlinewidth\":0,\"ticks\":\"\"},\"colorscale\":[[0.0,\"#0d0887\"],[0.1111111111111111,\"#46039f\"],[0.2222222222222222,\"#7201a8\"],[0.3333333333333333,\"#9c179e\"],[0.4444444444444444,\"#bd3786\"],[0.5555555555555556,\"#d8576b\"],[0.6666666666666666,\"#ed7953\"],[0.7777777777777778,\"#fb9f3a\"],[0.8888888888888888,\"#fdca26\"],[1.0,\"#f0f921\"]]}],\"choropleth\":[{\"type\":\"choropleth\",\"colorbar\":{\"outlinewidth\":0,\"ticks\":\"\"}}],\"histogram2d\":[{\"type\":\"histogram2d\",\"colorbar\":{\"outlinewidth\":0,\"ticks\":\"\"},\"colorscale\":[[0.0,\"#0d0887\"],[0.1111111111111111,\"#46039f\"],[0.2222222222222222,\"#7201a8\"],[0.3333333333333333,\"#9c179e\"],[0.4444444444444444,\"#bd3786\"],[0.5555555555555556,\"#d8576b\"],[0.6666666666666666,\"#ed7953\"],[0.7777777777777778,\"#fb9f3a\"],[0.8888888888888888,\"#fdca26\"],[1.0,\"#f0f921\"]]}],\"heatmap\":[{\"type\":\"heatmap\",\"colorbar\":{\"outlinewidth\":0,\"ticks\":\"\"},\"colorscale\":[[0.0,\"#0d0887\"],[0.1111111111111111,\"#46039f\"],[0.2222222222222222,\"#7201a8\"],[0.3333333333333333,\"#9c179e\"],[0.4444444444444444,\"#bd3786\"],[0.5555555555555556,\"#d8576b\"],[0.6666666666666666,\"#ed7953\"],[0.7777777777777778,\"#fb9f3a\"],[0.8888888888888888,\"#fdca26\"],[1.0,\"#f0f921\"]]}],\"heatmapgl\":[{\"type\":\"heatmapgl\",\"colorbar\":{\"outlinewidth\":0,\"ticks\":\"\"},\"colorscale\":[[0.0,\"#0d0887\"],[0.1111111111111111,\"#46039f\"],[0.2222222222222222,\"#7201a8\"],[0.3333333333333333,\"#9c179e\"],[0.4444444444444444,\"#bd3786\"],[0.5555555555555556,\"#d8576b\"],[0.6666666666666666,\"#ed7953\"],[0.7777777777777778,\"#fb9f3a\"],[0.8888888888888888,\"#fdca26\"],[1.0,\"#f0f921\"]]}],\"contourcarpet\":[{\"type\":\"contourcarpet\",\"colorbar\":{\"outlinewidth\":0,\"ticks\":\"\"}}],\"contour\":[{\"type\":\"contour\",\"colorbar\":{\"outlinewidth\":0,\"ticks\":\"\"},\"colorscale\":[[0.0,\"#0d0887\"],[0.1111111111111111,\"#46039f\"],[0.2222222222222222,\"#7201a8\"],[0.3333333333333333,\"#9c179e\"],[0.4444444444444444,\"#bd3786\"],[0.5555555555555556,\"#d8576b\"],[0.6666666666666666,\"#ed7953\"],[0.7777777777777778,\"#fb9f3a\"],[0.8888888888888888,\"#fdca26\"],[1.0,\"#f0f921\"]]}],\"surface\":[{\"type\":\"surface\",\"colorbar\":{\"outlinewidth\":0,\"ticks\":\"\"},\"colorscale\":[[0.0,\"#0d0887\"],[0.1111111111111111,\"#46039f\"],[0.2222222222222222,\"#7201a8\"],[0.3333333333333333,\"#9c179e\"],[0.4444444444444444,\"#bd3786\"],[0.5555555555555556,\"#d8576b\"],[0.6666666666666666,\"#ed7953\"],[0.7777777777777778,\"#fb9f3a\"],[0.8888888888888888,\"#fdca26\"],[1.0,\"#f0f921\"]]}],\"mesh3d\":[{\"type\":\"mesh3d\",\"colorbar\":{\"outlinewidth\":0,\"ticks\":\"\"}}],\"scatter\":[{\"fillpattern\":{\"fillmode\":\"overlay\",\"size\":10,\"solidity\":0.2},\"type\":\"scatter\"}],\"parcoords\":[{\"type\":\"parcoords\",\"line\":{\"colorbar\":{\"outlinewidth\":0,\"ticks\":\"\"}}}],\"scatterpolargl\":[{\"type\":\"scatterpolargl\",\"marker\":{\"colorbar\":{\"outlinewidth\":0,\"ticks\":\"\"}}}],\"bar\":[{\"error_x\":{\"color\":\"#2a3f5f\"},\"error_y\":{\"color\":\"#2a3f5f\"},\"marker\":{\"line\":{\"color\":\"#E5ECF6\",\"width\":0.5},\"pattern\":{\"fillmode\":\"overlay\",\"size\":10,\"solidity\":0.2}},\"type\":\"bar\"}],\"scattergeo\":[{\"type\":\"scattergeo\",\"marker\":{\"colorbar\":{\"outlinewidth\":0,\"ticks\":\"\"}}}],\"scatterpolar\":[{\"type\":\"scatterpolar\",\"marker\":{\"colorbar\":{\"outlinewidth\":0,\"ticks\":\"\"}}}],\"histogram\":[{\"marker\":{\"pattern\":{\"fillmode\":\"overlay\",\"size\":10,\"solidity\":0.2}},\"type\":\"histogram\"}],\"scattergl\":[{\"type\":\"scattergl\",\"marker\":{\"colorbar\":{\"outlinewidth\":0,\"ticks\":\"\"}}}],\"scatter3d\":[{\"type\":\"scatter3d\",\"line\":{\"colorbar\":{\"outlinewidth\":0,\"ticks\":\"\"}},\"marker\":{\"colorbar\":{\"outlinewidth\":0,\"ticks\":\"\"}}}],\"scattermapbox\":[{\"type\":\"scattermapbox\",\"marker\":{\"colorbar\":{\"outlinewidth\":0,\"ticks\":\"\"}}}],\"scatterternary\":[{\"type\":\"scatterternary\",\"marker\":{\"colorbar\":{\"outlinewidth\":0,\"ticks\":\"\"}}}],\"scattercarpet\":[{\"type\":\"scattercarpet\",\"marker\":{\"colorbar\":{\"outlinewidth\":0,\"ticks\":\"\"}}}],\"carpet\":[{\"aaxis\":{\"endlinecolor\":\"#2a3f5f\",\"gridcolor\":\"white\",\"linecolor\":\"white\",\"minorgridcolor\":\"white\",\"startlinecolor\":\"#2a3f5f\"},\"baxis\":{\"endlinecolor\":\"#2a3f5f\",\"gridcolor\":\"white\",\"linecolor\":\"white\",\"minorgridcolor\":\"white\",\"startlinecolor\":\"#2a3f5f\"},\"type\":\"carpet\"}],\"table\":[{\"cells\":{\"fill\":{\"color\":\"#EBF0F8\"},\"line\":{\"color\":\"white\"}},\"header\":{\"fill\":{\"color\":\"#C8D4E3\"},\"line\":{\"color\":\"white\"}},\"type\":\"table\"}],\"barpolar\":[{\"marker\":{\"line\":{\"color\":\"#E5ECF6\",\"width\":0.5},\"pattern\":{\"fillmode\":\"overlay\",\"size\":10,\"solidity\":0.2}},\"type\":\"barpolar\"}],\"pie\":[{\"automargin\":true,\"type\":\"pie\"}]},\"layout\":{\"autotypenumbers\":\"strict\",\"colorway\":[\"#636efa\",\"#EF553B\",\"#00cc96\",\"#ab63fa\",\"#FFA15A\",\"#19d3f3\",\"#FF6692\",\"#B6E880\",\"#FF97FF\",\"#FECB52\"],\"font\":{\"color\":\"#2a3f5f\"},\"hovermode\":\"closest\",\"hoverlabel\":{\"align\":\"left\"},\"paper_bgcolor\":\"white\",\"plot_bgcolor\":\"#E5ECF6\",\"polar\":{\"bgcolor\":\"#E5ECF6\",\"angularaxis\":{\"gridcolor\":\"white\",\"linecolor\":\"white\",\"ticks\":\"\"},\"radialaxis\":{\"gridcolor\":\"white\",\"linecolor\":\"white\",\"ticks\":\"\"}},\"ternary\":{\"bgcolor\":\"#E5ECF6\",\"aaxis\":{\"gridcolor\":\"white\",\"linecolor\":\"white\",\"ticks\":\"\"},\"baxis\":{\"gridcolor\":\"white\",\"linecolor\":\"white\",\"ticks\":\"\"},\"caxis\":{\"gridcolor\":\"white\",\"linecolor\":\"white\",\"ticks\":\"\"}},\"coloraxis\":{\"colorbar\":{\"outlinewidth\":0,\"ticks\":\"\"}},\"colorscale\":{\"sequential\":[[0.0,\"#0d0887\"],[0.1111111111111111,\"#46039f\"],[0.2222222222222222,\"#7201a8\"],[0.3333333333333333,\"#9c179e\"],[0.4444444444444444,\"#bd3786\"],[0.5555555555555556,\"#d8576b\"],[0.6666666666666666,\"#ed7953\"],[0.7777777777777778,\"#fb9f3a\"],[0.8888888888888888,\"#fdca26\"],[1.0,\"#f0f921\"]],\"sequentialminus\":[[0.0,\"#0d0887\"],[0.1111111111111111,\"#46039f\"],[0.2222222222222222,\"#7201a8\"],[0.3333333333333333,\"#9c179e\"],[0.4444444444444444,\"#bd3786\"],[0.5555555555555556,\"#d8576b\"],[0.6666666666666666,\"#ed7953\"],[0.7777777777777778,\"#fb9f3a\"],[0.8888888888888888,\"#fdca26\"],[1.0,\"#f0f921\"]],\"diverging\":[[0,\"#8e0152\"],[0.1,\"#c51b7d\"],[0.2,\"#de77ae\"],[0.3,\"#f1b6da\"],[0.4,\"#fde0ef\"],[0.5,\"#f7f7f7\"],[0.6,\"#e6f5d0\"],[0.7,\"#b8e186\"],[0.8,\"#7fbc41\"],[0.9,\"#4d9221\"],[1,\"#276419\"]]},\"xaxis\":{\"gridcolor\":\"white\",\"linecolor\":\"white\",\"ticks\":\"\",\"title\":{\"standoff\":15},\"zerolinecolor\":\"white\",\"automargin\":true,\"zerolinewidth\":2},\"yaxis\":{\"gridcolor\":\"white\",\"linecolor\":\"white\",\"ticks\":\"\",\"title\":{\"standoff\":15},\"zerolinecolor\":\"white\",\"automargin\":true,\"zerolinewidth\":2},\"scene\":{\"xaxis\":{\"backgroundcolor\":\"#E5ECF6\",\"gridcolor\":\"white\",\"linecolor\":\"white\",\"showbackground\":true,\"ticks\":\"\",\"zerolinecolor\":\"white\",\"gridwidth\":2},\"yaxis\":{\"backgroundcolor\":\"#E5ECF6\",\"gridcolor\":\"white\",\"linecolor\":\"white\",\"showbackground\":true,\"ticks\":\"\",\"zerolinecolor\":\"white\",\"gridwidth\":2},\"zaxis\":{\"backgroundcolor\":\"#E5ECF6\",\"gridcolor\":\"white\",\"linecolor\":\"white\",\"showbackground\":true,\"ticks\":\"\",\"zerolinecolor\":\"white\",\"gridwidth\":2}},\"shapedefaults\":{\"line\":{\"color\":\"#2a3f5f\"}},\"annotationdefaults\":{\"arrowcolor\":\"#2a3f5f\",\"arrowhead\":0,\"arrowwidth\":1},\"geo\":{\"bgcolor\":\"white\",\"landcolor\":\"#E5ECF6\",\"subunitcolor\":\"white\",\"showland\":true,\"showlakes\":true,\"lakecolor\":\"white\"},\"title\":{\"x\":0.05},\"mapbox\":{\"style\":\"light\"}}},\"scene\":{\"domain\":{\"x\":[0.0,1.0],\"y\":[0.0,1.0]},\"xaxis\":{\"title\":{\"text\":\"Principal Component 1\"}},\"yaxis\":{\"title\":{\"text\":\"Principal Component 2\"}},\"zaxis\":{\"title\":{\"text\":\"Principal Component 3\"}}},\"legend\":{\"title\":{\"text\":\"Type\"},\"tracegroupgap\":0},\"margin\":{\"t\":60},\"title\":{\"text\":\"3D Principal Component Analysis\"},\"showlegend\":true},                        {\"responsive\": true}                    ).then(function(){\n",
              "                            \n",
              "var gd = document.getElementById('fe8d4ad7-ac0d-4dce-9f6b-0433e92e1c5c');\n",
              "var x = new MutationObserver(function (mutations, observer) {{\n",
              "        var display = window.getComputedStyle(gd).display;\n",
              "        if (!display || display === 'none') {{\n",
              "            console.log([gd, 'removed!']);\n",
              "            Plotly.purge(gd);\n",
              "            observer.disconnect();\n",
              "        }}\n",
              "}});\n",
              "\n",
              "// Listen for the removal of the full notebook cells\n",
              "var notebookContainer = gd.closest('#notebook-container');\n",
              "if (notebookContainer) {{\n",
              "    x.observe(notebookContainer, {childList: true});\n",
              "}}\n",
              "\n",
              "// Listen for the clearing of the current output cell\n",
              "var outputEl = gd.closest('.output');\n",
              "if (outputEl) {{\n",
              "    x.observe(outputEl, {childList: true});\n",
              "}}\n",
              "\n",
              "                        })                };                            </script>        </div>\n",
              "</body>\n",
              "</html>"
            ]
          },
          "metadata": {}
        }
      ]
    },
    {
      "cell_type": "code",
      "source": [
        "#Enter Answers 1 of 2\n",
        "\n",
        "#1. Run code and enter 1-5 plays to exclude from training and use in testing.\n",
        "#=> outcome graph engineered for your learning experience w 1-5 test cases.\n",
        "#=> An excluded item is a random play the trained model attempts to classify accurately.\n",
        "'''no other answer data needed'''\n",
        "\n",
        "#=>2. Analyze code and explain what each section is doing.\n",
        "'''==> Stage 1: Data Preparation  '''\n",
        "#\n",
        "'''==> Stage 2: Feature Extraction'''\n",
        "\n",
        "'''==> Stage 3: Machine Learning  '''\n",
        "\n",
        "'''==> Stage 4: Model Evaluation  '''\n",
        "\n",
        "'''==> Stage 5: Visualization     '''\n"
      ],
      "metadata": {
        "id": "VeFga179LHay"
      },
      "id": "VeFga179LHay",
      "execution_count": null,
      "outputs": []
    },
    {
      "cell_type": "code",
      "source": [
        "#Enter Answers 1 of 2\n",
        "\n",
        "#=>2. Analyze code and explain what each section is doing.\n",
        "\n",
        "#=>3. Analyze the outcome graph and explain what it provides.\n",
        "\n",
        "#=>4. Why were random forest algorithms assigned?\n",
        "\n",
        "#=>3. Specify areas where you would benefit from additional professor discussion.\n",
        "\n"
      ],
      "metadata": {
        "id": "9MJ7_wZLSN4I"
      },
      "id": "9MJ7_wZLSN4I",
      "execution_count": null,
      "outputs": []
    },
    {
      "cell_type": "markdown",
      "source": [
        "**`Task.4 expected outcome`**\n",
        "- illustrates 2 random plays excluded from training data\n",
        "- both were correctly predicted as comedy plays\n",
        "- while there is some overlap with tragedy plays, the predicted black dots\n",
        "are clearly clustered in the hyperplane area of similar comedy plays\n",
        "```\n",
        "Enter the number of plays to exclude from training: 2\n",
        "Excluded Plays (Test Data):\n",
        "Case: 1\n",
        "Title: Cymbeline\n",
        "Type: Comedy\n",
        "Predicted Type: Comedy\n",
        "Case: 2\n",
        "Title: Measure for Measure\n",
        "Type: Comedy\n",
        "Predicted Type: Comedy\n",
        "Test Accuracy: 1.0\n",
        "```\n",
        "![dfd](https://raw.githubusercontent.com/cosc-526/home.page/main/g.M.2.3d.pca.JPG)"
      ],
      "metadata": {
        "id": "eSUbURonJgRy"
      },
      "id": "eSUbURonJgRy"
    },
    {
      "cell_type": "markdown",
      "metadata": {
        "id": "64Lv80jSgfet"
      },
      "source": [
        "## **`assignment.M.2`** - Titanic"
      ],
      "id": "64Lv80jSgfet"
    },
    {
      "cell_type": "markdown",
      "source": [
        "### **`Overview and Directions`**\n"
      ],
      "metadata": {
        "id": "XUoNyI0_gfe2"
      },
      "id": "XUoNyI0_gfe2"
    },
    {
      "cell_type": "markdown",
      "source": [
        "**`Overview`**\n",
        "- The Titanic dataset builds confidence with machine learning essentials.\n",
        "- Read the dataset's history and features in the course [reference.library.  Mashup](https://github.com/cosc-526/home.page/blob/069c9488de24d712c642e0f014d37759fc99185d/reference.library.Mashup.data.mine.pdf).\n",
        "- Follow the analysis stages and tasks to end with predicted survival outcomes.\n",
        "\n",
        "**`Data`**\n",
        "- on course github you're provided 2 data sets for a total three files\n",
        "- `A:`__ RAW - uncurated passenger data for analysis stages 1 and 2\n",
        "- `B:`__ train/test - curated kaggle passenger data stages 3 to 5\n",
        "\n",
        "**`Additional Resources`**\n",
        "https://davidburn.github.io/notebooks/titanic/Titanic/\n"
      ],
      "metadata": {
        "id": "jZ2bdM0bgfe3"
      },
      "id": "jZ2bdM0bgfe3"
    },
    {
      "cell_type": "markdown",
      "source": [
        "### **`Stage 1: Data Preparation`**\n",
        "The Titanic dataset has been around for a while, so\n",
        "- `Q:` Should you trust how others curated it?\n",
        "=> Why is the passenger split at 891 for training? Is that the best?\n",
        "=> Are you confident in the preparation and curation?\n",
        "\n",
        "- `A:` `It depends!`\n",
        "- Read a datasets data dictionary and discern who did the work\n",
        "=> For instance, was a statistician involved?\n",
        "\n",
        "Have all authentic questions and lines of inquiry been considered?\n",
        "- The Titanic raw data set has uncurated `passengers name`\n",
        "=> `Q:` Curious? Has anyone on Kaggle predicted survival based on the # of characters in a name?\n",
        "=> `A:` Probably not! Attempt to observe and question all available data.\n",
        "=> Learning: `discern nuances; know what's strange; and perform relentless discovery`\n",
        "```\n",
        "Windelov, Mr. Einar\n",
        "Braund, Mr. Owen Harris\n",
        "```"
      ],
      "metadata": {
        "id": "qPP2ThyCgfe3"
      },
      "id": "qPP2ThyCgfe3"
    },
    {
      "cell_type": "markdown",
      "source": [
        "#### **`Stage 1: Data Preparation`**"
      ],
      "metadata": {
        "id": "YP2yWftAyErC"
      },
      "id": "YP2yWftAyErC"
    },
    {
      "cell_type": "markdown",
      "source": [
        "`Tasks.Stage.1`\n",
        "1.1 - import three datasets into dataframe names provided; drop cabin/ticket.\n",
        "1.2 - identify missing values in a table.\n",
        "1.3 - identify outliers in a table and.or graphic for age variable\n",
        "=> use interquartile range\n",
        "- - q1 = df_train['age'].quantile(0.25)\n",
        "- - q3 = df_train['age'].quantile(0.75)\n",
        "- - iqr = q3 - q1\n",
        "1.4 - would you use mean substitution  for missing values?\n",
        "=> compare age outliers to age without outliers\n",
        "=> solution provides a box and whiskers but use whatever you like\n",
        "==> plt.boxplot(combined_data, labels=['All Data', 'Outliers'], vert=False)\n",
        "\n",
        "`Useful Resources`\n",
        "- [pd.DataFrame.dropna](https://pandas.pydata.org/docs/reference/api/pandas.DataFrame.dropna.html#pandas-dataframe-dropna)"
      ],
      "metadata": {
        "id": "P0Vlb0dasRMb"
      },
      "id": "P0Vlb0dasRMb"
    },
    {
      "cell_type": "code",
      "source": [
        "#Enter answer\n",
        "\n",
        "#=>1.1 - import three datasets into dataframe names provided; drop cabin/ticket\n",
        "\n",
        "\n",
        "#=>1.2 - identify missing values in a table.\n",
        "\n",
        "\n",
        "#=>1.3 - identify outliers in a table and.or graphic for age variable\n",
        "#=>=> use interquartile range\n",
        "#=> q1 = df_train['age'].quantile(0.25); q3 = df_train['age'].quantile(0.75)\n",
        "#=>iqr = q3 - q1\n",
        "\n",
        "\n",
        "#=>1.4 - would you use mean substitution  for missing values?\n",
        "#=> compare age outliers to age without outliers\n",
        "#=> solution provides a box and whiskers but use whatever you like\n",
        "#==> plt.boxplot(combined_data, labels=['All Data', 'Outliers'], vert=False)\n",
        "\n"
      ],
      "metadata": {
        "id": "PDPk70qNtmZO"
      },
      "id": "PDPk70qNtmZO",
      "execution_count": null,
      "outputs": []
    },
    {
      "cell_type": "markdown",
      "source": [
        "#### **`Task.1.expected.outcome`**"
      ],
      "metadata": {
        "id": "ufUecavzrL_7"
      },
      "id": "ufUecavzrL_7"
    },
    {
      "cell_type": "markdown",
      "source": [
        "```\n",
        "==> 1.2 - Identify missing values in a table\n",
        "passengerId      0\n",
        "survived             0\n",
        "pclass                 0\n",
        "sex                      0\n",
        "age                     177\n",
        "sibsp                   0\n",
        "parch                  0\n",
        "fare                     0\n",
        "embarked           2\n",
        "dtype: int64\n",
        "\n",
        "----------------------------------------\n",
        "==> 1.3 identify outliers in a table and.or graphic for age variable\n",
        "===> use interquartile range\n",
        "----------------------------------------\n",
        "\n",
        "     passengerId  survived  pclass   sex   age  sibsp  parch     fare embarked\n",
        "33            34         0       2  male  66.0      0      0  10.5000        S\n",
        "54            55         0       1  male  65.0      0      1  61.9792        C\n",
        "96            97         0       1  male  71.0      0      0  34.6542        C\n",
        "116          117         0       3  male  70.5      0      0   7.7500        Q\n",
        "280          281         0       3  male  65.0      0      0   7.7500        Q\n",
        "456          457         0       1  male  65.0      0      0  26.5500        S\n",
        "493          494         0       1  male  71.0      0      0  49.5042        C\n",
        "630          631         1       1  male  80.0      0      0  30.0000        S\n",
        "672          673         0       2  male  70.0      0      0  10.5000        S\n",
        "745          746         0       1  male  70.0      1      1  71.0000        S\n",
        "851          852         0       3  male  74.0      0      0   7.7750        S\n",
        "----------------------------------------\n",
        "```\n",
        "-----------------------\n",
        "`=> LEARNING MOMENT`\n",
        "`Visual includes new normalized age value performed in Task.2`\n",
        "- image shows how outliers introduce age [bias](https://en.wikipedia.org/wiki/Bias_(statistics) given most people around age 30\n",
        "- this doesn't indicate you should or shouldn't exclude the values but\n",
        "illustrates why its important to methodically inspect the data\n",
        "- [bias](https://en.wikipedia.org/wiki/Bias_(statistics)) is a deep topic out of scope for this class but!\n",
        "- READ chapter 2 of \"[ntroduction to data Mining](https://github.com/FaizSaeed/Data-Science-Course/blob/master/Book/  Introduction%20to%20Data%20Mining_Pang%20Ning%20Tan.pdf) by Tan, Steinbach, and Kumar.\n",
        "\n",
        "`=> LEARNING MOMENT - Quality algorithm textbooks`\n",
        "- It's a quality data mining textbook worth adding to your library.\n",
        "- 1st edition available online\n",
        "https://github.com/FaizSaeed/Data-Science-Course/blob/master/Book/Introduction%20to%20Data%20Mining_Pang%20Ning%20Tan.pdf\n",
        "- - [Amazon. Intro Data Mining, Tan et al., 2nd edition](https://www.amazon.com/Introduction-Mining-Whats-Computer-Science/dp/0133128903/ref=sr_1_1?crid=OD7G8A5XUC7J&keywords=introduction+to+data+mining+pang-ning+tan&qid=1686791507&sprefix=tan+introduction+to+data%2Caps%2C105&sr=8-1&ufe=app_do%3Aamzn1.fos.f5122f16-c3e8-4386-bf32-63e904010ad0)\n",
        "- consider a deep inspection of [Deep Learning](https://www.amazon.com/Deep-Learning-Adaptive-Computation-Machine/dp/0262035618/ref=sr_1_1?crid=26YVHY27EZ1W2&keywords=deep+learning+goodfellow&qid=1686791588&sprefix=deep+learnign+goodfellow%2Caps%2C93&sr=8-1&ufe=app_do%3Aamzn1.fos.006c50ae-5d4c-4777-9bc0-4513d670b6bc) by Ian Goodfellow, Bengio, and Courville\n",
        "- books are expensive and www.abebooks.com provides an excellent location service\n",
        "\n"
      ],
      "metadata": {
        "id": "sTPlxHN-p4F1"
      },
      "id": "sTPlxHN-p4F1"
    },
    {
      "cell_type": "markdown",
      "source": [
        "#### **`Stage 2: Feature Extraction`**\n",
        "- `Feature Scaling:` Scale numerical features to ensure similar ranges\n",
        "=> techniques like z-score normalization scaling or standardization.\n",
        "- `Feature Selection:` what features contribute most to the target variable?\n",
        "=> techniques like remove redundant features to improve performance and reduce overfitting.\n",
        "\n",
        "`Tasks.Stage.2`\n",
        "=> your response variable is `survival`\n",
        "2.1 - read and bookmark scikitlearn [6.3 Preprocessing data](https://scikit-learn.org/stable/modules/preprocessing.html)\n",
        "2.2 - perform `one-hot encoding` of categorical variable `sex`; display df header\n",
        "2.3.1 - perform `standarscaler` for a new age variable in df_train\n",
        "2.3.2 - create a boxplot comparing new normalized data\n",
        "\n",
        "Given the resourcs provided thus far,\n",
        "2.4 - `Q:` Would you perform supervised or unsupervised machine learning?\n",
        "2.5 - `Q:` What algorithms would you choose to run?\n",
        "\n",
        "`Useful resources`\n",
        "- [sklearn.preprocessing.OneHotEncoder](https://scikit-learn.org/stable/modules/generated/sklearn.preprocessing.OneHotEncoder.html#sklearn-preprocessing-onehotencoder)\n",
        "- [sklearn.preprocessing.standardscaler](https://scikit-learn.org/stable/modules/generated/sklearn.preprocessing.StandardScaler.html#sklearn-preprocessing-standardscaler)\n",
        "- [pd.DataFrame.loc](https://pandas.pydata.org/docs/reference/api/pandas.DataFrame.loc.html)"
      ],
      "metadata": {
        "id": "4e0SdAdOmk-j"
      },
      "id": "4e0SdAdOmk-j"
    },
    {
      "cell_type": "code",
      "source": [
        "#Enter Answer\n",
        "\n",
        "# `Tasks.Stage.2`\n",
        "\n",
        "#2.1 - read and bookmark scikitlearn 6.3 Preprocessing data\n",
        "#2.2 - perform `one-hot encoding` of categorical variable `sex`; display df header\n"
      ],
      "metadata": {
        "id": "iiwTS3nUqycr"
      },
      "execution_count": null,
      "outputs": [],
      "id": "iiwTS3nUqycr"
    },
    {
      "cell_type": "markdown",
      "source": [
        "##### **`Tasks.Stage.2.2.Expected.Outcome`**"
      ],
      "metadata": {
        "id": "L9XLRRtRn7_Q"
      },
      "id": "L9XLRRtRn7_Q"
    },
    {
      "cell_type": "markdown",
      "source": [
        "\n",
        "```\n",
        "#=> 2.2 one hot encoding of sex variable alongside,\n",
        "#=> 2.3.1 standard scaler of new age.value\n",
        "note: adding and printing variables to df_train is fine!\n",
        "   scaled_new_age  sex_female  sex_male\n",
        "0            -0.1           1         0\n",
        "1            -2.0           0         1\n",
        "2            -1.9           1         0\n",
        "3             0.0           0         1\n",
        "4            -0.3           1         0\n",
        "```\n",
        "`Graphs readily assist assessing outcome   shape and scale`\n",
        "![image.png](data:image/png;base64,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)\n"
      ],
      "metadata": {
        "id": "bA3OwAqsqddq"
      },
      "id": "bA3OwAqsqddq"
    },
    {
      "cell_type": "code",
      "source": [
        "#Enter Answer =>\n",
        "#=> some starting code provided\n",
        "\n",
        "# `Tasks.Stage.2`\n",
        "\n",
        "#2.3.1 - perform `standarscaler` for a new age variable in df_train\n",
        "df_raw.loc[:, 'scaled_new_age'] ?\n",
        "\n",
        "#2.3.2 - create a boxplot comparing new normalized data\n",
        "\n",
        "#==> strangely, a corgi provdied assistance 🧑‍🚀\n",
        "# combine age data and scaled age data\n",
        "combined_data = [age_data, ?\n",
        "\n",
        "# Plot all data and normalized values in the same graph\n",
        "plt.figure(figsize=(8, 5))\n",
        "plt.boxplot(combined_data, labels=['All Data', 'Normalized Values'], vert=False)\n",
        "plt.xlabel('Age')\n",
        "plt.title('Age Distribution with Normalized Values')\n",
        "plt.show()\n",
        "\n",
        "# Given the resourcs provided thus far,\n",
        "# 2.4 - `Q:` Would you perform supervised or unsupervised machine learning?\n",
        "\n",
        "# 2.5 - `Q:` What algorithms would you choose to run?\n",
        "\n",
        "# bonus:\n",
        "#what type of regression is used when respone variable Y is binary like Yn?\n"
      ],
      "metadata": {
        "id": "cMPonCpsrPwN"
      },
      "execution_count": null,
      "outputs": [],
      "id": "cMPonCpsrPwN"
    },
    {
      "cell_type": "markdown",
      "source": [
        "**`Tasks.Stage.2.3.2.Expected Outcome`**\n",
        "standard.scaler.header\n",
        " 0   -0.06\n",
        "1   -2.01\n",
        "2   -1.94\n",
        "3    0.01\n",
        "4   -0.34\n",
        "Name: scaled_new_age, dtype: float64\n",
        "![image.png](data:image/png;base64,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)\n",
        "\n",
        "![beetie](https://user-images.githubusercontent.com/59778456/245971707-67a834c1-2d90-4e22-baf1-ec3eac7f73ba.JPG)"
      ],
      "metadata": {
        "id": "iqFUa9jRuNax"
      },
      "id": "iqFUa9jRuNax"
    },
    {
      "cell_type": "markdown",
      "source": [
        "#### **`Stage 3: Machine Learning + Stage 4: Model Evaluation`**\n",
        "- `Imputation` - means modify unrepaired data, drop it, or dig deeper...\n",
        "- `Data Split` Split the preprocessed dataset into train\\test to assess algorithmic effectiveness.\n",
        "- `Train` using the preprocessed training data.\n",
        "\n",
        "**`Stage.3.items`**\n",
        "3.1 - `logistic regression` on a train \\ test of the raw data with\n",
        "- features = ['sex', 'age', 'fare', 'pclass']\n",
        "- X = df_train[features]\n",
        "- y = df_train['survived']\n",
        "\n",
        "**`Stage.4.items`**\n",
        "4.1 - Assess accuracy\n",
        "4.2 - Assess Cross validation\n",
        "\n",
        "**`Stage.5.items`**\n",
        "5.1 - Assess confusion matrix\n",
        "\n",
        "**`Tasks`**\n",
        "- one word != answer. Strive for\n",
        "==> simple, active, declaritive sentences expressing the complex transformations performed\n",
        "=> [chomsky via kharbouch and karam. V.Conclusion, p6](http://web.mit.edu/6.441/spring06/projects/1/aak@mit.edu.1.pdf)\n",
        "- Task.3.on.Stage.3 - write a description confirming sequence of machine learning activities\n",
        "- Task.4.on.Stage.4 - write a description confirming understanding of evaluation activities\n",
        "- Task.5.on.Stage.5 - write a description confirming understanding of visualization activities"
      ],
      "metadata": {
        "id": "L022R8D6nqZb"
      },
      "id": "L022R8D6nqZb"
    },
    {
      "cell_type": "code",
      "source": [
        "#Enter Answer\n",
        "\n",
        "#=> Stage.3 - write a description confirming sequence of machine learning activities\n",
        "\n",
        "#=> Task.4 - write a description confirming understanding of evaluation activities\n",
        "\n",
        "#=> Task.5 - write a description confirming understanding of visualization activities\n"
      ],
      "metadata": {
        "id": "qYU6Z5wx5U_O"
      },
      "id": "qYU6Z5wx5U_O",
      "execution_count": null,
      "outputs": []
    },
    {
      "cell_type": "code",
      "source": [
        "import pandas as pd\n",
        "from sklearn.linear_model import LogisticRegression\n",
        "from sklearn.model_selection import train_test_split\n",
        "from sklearn.impute import SimpleImputer\n",
        "from sklearn.metrics import accuracy_score\n",
        "from sklearn.metrics import confusion_matrix\n",
        "\n",
        "'''Stage.3.Tasks'''\n",
        "#=>3.1 perform a logistic regression train \\ test on the raw data with\n",
        "#=>- features = ['sex', 'age', 'fare', 'pclass']\n",
        "#=>- X = df_train[features]\n",
        "#=>- y = df_train['survived']\n",
        "\n",
        "# Load the Titanic dataset\n",
        "url_train = \"https://raw.githubusercontent.com/cosc-526/home.page/main/data.M.2.titanic_train.csv\"\n",
        "df_train = pd.read_csv(url_train)\n",
        "\n",
        "features = ['sex', 'age', 'fare', 'pclass'] # Select features\n",
        "X = df_train[features]                      # Prepare features\n",
        "y = df_train['survived']\n",
        "\n",
        "X_encoded = pd.get_dummies(X, drop_first=True) # one-hot encoding on categorical\n",
        "\n",
        "# Handle missing values\n",
        "imputer = SimpleImputer(strategy='mean')  ## imputing with the mean\n",
        "X_imputed = pd.DataFrame(imputer.fit_transform(X_encoded), columns=X_encoded.columns)\n",
        "\n",
        "# Split train/test\n",
        "X_train, X_test, y_train, y_test = train_test_split(X_imputed, y, test_size=0.2, random_state=42)\n",
        "X_imputed = pd.DataFrame(imputer.fit_transform(X_encoded), columns=X_encoded.columns)\n",
        "\n",
        "# Create and train the logistic regression model\n",
        "model = LogisticRegression()\n",
        "model.fit(X_train, y_train)\n",
        "\n",
        "# Make predictions on the test set\n",
        "y_pred = model.predict(X_test)\n",
        "\n",
        "'''\n",
        "'**`Stage.4.Tasks\n",
        "#=> 4.1 assess accuracy'''\n",
        "\n",
        "accuracy = accuracy_score(y_test, y_pred)\n",
        "print(\"Accuracy:\", round(accuracy,0))\n",
        "\n",
        "#=> 4.2 access Cross validation\n",
        "confusion = confusion_matrix(y_test, y_pred)\n",
        "print(\"Confusion Matrix:\")\n",
        "print(confusion)\n"
      ],
      "metadata": {
        "colab": {
          "base_uri": "https://localhost:8080/"
        },
        "id": "x4kqzoxu1j3I",
        "outputId": "92e0fa47-87a4-45ec-c3f5-1824c67881af"
      },
      "id": "x4kqzoxu1j3I",
      "execution_count": null,
      "outputs": [
        {
          "output_type": "stream",
          "name": "stdout",
          "text": [
            "Accuracy: 1.0\n",
            "Confusion Matrix:\n",
            "[[89 16]\n",
            " [20 54]]\n"
          ]
        }
      ]
    },
    {
      "cell_type": "markdown",
      "source": [
        "**`Stage 5: Visualization`**"
      ],
      "metadata": {
        "id": "palnfXw0T_Lq"
      },
      "id": "palnfXw0T_Lq"
    },
    {
      "cell_type": "code",
      "source": [
        "import numpy as np\n",
        "import matplotlib.pyplot as plt\n",
        "\n",
        "# Define the confusion matrix\n",
        "confusion_matrix = np.array([[89, 16], [20, 54]])\n",
        "\n",
        "# Define the class labels\n",
        "classes = ['Not Survived', 'Survived']\n",
        "\n",
        "# Plot the confusion matrix\n",
        "plt.imshow(confusion_matrix, interpolation='nearest', cmap=plt.cm.Blues)\n",
        "plt.title('Confusion Matrix')\n",
        "plt.colorbar()\n",
        "tick_marks = np.arange(len(classes))\n",
        "plt.xticks(tick_marks, classes)\n",
        "plt.yticks(tick_marks, classes)\n",
        "\n",
        "# Label the matrix cells\n",
        "thresh = confusion_matrix.max() / 2.\n",
        "for i, j in np.ndindex(confusion_matrix.shape):\n",
        "    plt.text(j, i, format(confusion_matrix[i, j], 'd'),\n",
        "             horizontalalignment=\"center\",\n",
        "             color=\"white\" if confusion_matrix[i, j] > thresh else \"black\")\n",
        "\n",
        "# Add axis labels\n",
        "plt.xlabel('Predicted label')\n",
        "plt.ylabel('True label')\n",
        "plt.tight_layout()\n",
        "\n",
        "# Show the plot\n",
        "plt.show()\n"
      ],
      "metadata": {
        "colab": {
          "base_uri": "https://localhost:8080/",
          "height": 487
        },
        "id": "fpgXuyKy6SFT",
        "outputId": "ea18fb2c-2336-4c5b-9b61-c89cd722c7a6"
      },
      "id": "fpgXuyKy6SFT",
      "execution_count": null,
      "outputs": [
        {
          "output_type": "display_data",
          "data": {
            "text/plain": [
              "<Figure size 640x480 with 2 Axes>"
            ],
            "image/png": "[encoded data removed]"
          },
          "metadata": {}
        }
      ]
    },
    {
      "cell_type": "markdown",
      "source": [
        "## `M.2 Misc extra graphs`"
      ],
      "metadata": {
        "id": "B4iMYu456dQq"
      },
      "id": "B4iMYu456dQq"
    },
    {
      "cell_type": "code",
      "source": [
        "import seaborn as sns\n",
        "import matplotlib.pyplot as plt\n",
        "\n",
        "plt.figure(figsize=(12, 8))\n",
        "ax = sns.swarmplot(x='survived', y='age', data=df_train)\n",
        "ax.set_title('Survival by Age')\n",
        "ax.set_xticklabels(['Died', 'Survived'])\n",
        "ax.set_xlabel('')\n",
        "plt.show()"
      ],
      "metadata": {
        "id": "bpIQfWhbOu5s",
        "colab": {
          "base_uri": "https://localhost:8080/",
          "height": 768
        },
        "outputId": "c47a400c-cf54-4740-f49b-15016c05ad03"
      },
      "id": "bpIQfWhbOu5s",
      "execution_count": null,
      "outputs": [
        {
          "output_type": "stream",
          "name": "stderr",
          "text": [
            "<ipython-input-133-5a89ba6bd5cd>:7: UserWarning:\n",
            "\n",
            "FixedFormatter should only be used together with FixedLocator\n",
            "\n"
          ]
        },
        {
          "output_type": "display_data",
          "data": {
            "text/plain": [
              "<Figure size 1200x800 with 1 Axes>"
            ],
            "image/png": "[encoded data removed]"
          },
          "metadata": {}
        }
      ]
    },
    {
      "cell_type": "markdown",
      "source": [
        "## `M.2. Wrap.up and Housekeeping`"
      ],
      "metadata": {
        "id": "zZWbT6PBsxv7"
      },
      "id": "zZWbT6PBsxv7"
    },
    {
      "cell_type": "code",
      "source": [
        "#from google.colab import drive\n",
        "drive.flush_and_unmount()\n",
        "\n",
        "##=>Perform A,B,C when done with spark\n",
        "#A:\n",
        "#=> Close the SparkSession\n",
        "spark.stop()\n",
        "\n",
        "#B:\n",
        "#=> Disconnect and stop Spark in a Jupyter Notebook,\n",
        "#=> stops SparkContext and releases its resourcs\n",
        "sc.stop()\n",
        "\n",
        "#C:\n",
        "#=> Confirm Spark termination by checking the Spark UI\n",
        "#=> Access UI by visiting URL provided in Notebook output where Spark fireup"
      ],
      "metadata": {
        "id": "Y9inCY6BsxwM"
      },
      "execution_count": null,
      "outputs": [],
      "id": "Y9inCY6BsxwM"
    },
    {
      "cell_type": "markdown",
      "source": [
        "# `<end.M2` ~ `M2.end>`\n",
        "--------------"
      ],
      "metadata": {
        "id": "kxjO_-MWynbZ"
      },
      "id": "kxjO_-MWynbZ"
    }
  ],
  "metadata": {
    "kernelspec": {
      "display_name": "Python 3",
      "language": "python",
      "name": "python3"
    },
    "language_info": {
      "codemirror_mode": {
        "name": "ipython",
        "version": 3
      },
      "file_extension": ".py",
      "mimetype": "text/x-python",
      "name": "python",
      "nbconvert_exporter": "python",
      "pygments_lexer": "ipython3",
      "version": "3.8.8"
    },
    "colab": {
      "provenance": [],
      "collapsed_sections": [
        "el9sjRdm9gjv",
        "R34rZNc2oE7T",
        "5yljl9o-_JkC",
        "MqZm_iFTPI7f",
        "JfIew_dgmpCQ",
        "kRoOscDyqoCO",
        "jBOVMJ0zck9a",
        "9ccb8782",
        "913dpFR0Fp1E",
        "dzXyv7kGZlBP",
        "5G3szw10bNTr",
        "kjA00fVqPjEm",
        "B4iMYu456dQq"
      ]
    }
  },
  "nbformat": 4,
  "nbformat_minor": 5
}