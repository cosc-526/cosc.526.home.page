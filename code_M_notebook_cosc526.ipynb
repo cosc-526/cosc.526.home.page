{
  "cells": [
    {
      "cell_type": "markdown",
      "source": [
        "# M1"
      ],
      "metadata": {
        "id": "V_Z6BaBrLzFr"
      },
      "id": "V_Z6BaBrLzFr"
    },
    {
      "cell_type": "markdown",
      "id": "5f09fcd7",
      "metadata": {
        "id": "5f09fcd7"
      },
      "source": [
        "## M1.exercise: Assess your Python Programming Skills"
      ]
    },
    {
      "cell_type": "markdown",
      "source": [
        "This simple set of assignments will help you to assess your Python programming skills. Try to solve the individual problems without searching for a solution online but basing your coding exclusively on your skills. Please keep in mind that the assignment during this course may be more challenging than this one.\n",
        "\n",
        "\n",
        "## Dataset Information\n",
        "\n",
        "The dataset for this problem comes from [this Kaggle page](https://www.kaggle.com/yamqwe/omicron-covid19-variant-daily-cases?select=covid-variants.csv). A copy of the file is also in the same directory as this Jupyter notebook.\n",
        "\n",
        "This dataset contains data about the processing of COVID-19 sequences by different countries over time. It comes as a Comma-Separated Value (CSV) file. This file contains the following 6 columns:\n",
        "\n",
        "1. `location`: the country for which the information is provided\n",
        "2. `date`: the date of the data entry\n",
        "3. `variant`: the COVID-19 variant for the data entry\n",
        "4. `num_sequences`: the number of sequences **processed** (for the country, variant, and date)\n",
        "5. `num_sequences_total`: the number of sequences **available** (for the country, variant, and date)\n",
        "6. `perc_sequences`: the percentage of available number of sequences that were processed (*Note: this value is out of 100*)\n",
        "\n",
        "Each row in the dataset represents the processing of *one* variant by *one* country on *one* day.\n"
      ],
      "metadata": {
        "id": "L9116iIaLZS8"
      },
      "id": "L9116iIaLZS8"
    },
    {
      "cell_type": "code",
      "execution_count": null,
      "id": "c0ba54e2",
      "metadata": {
        "id": "c0ba54e2"
      },
      "outputs": [],
      "source": [
        "## Import any package you may need here below "
      ]
    },
    {
      "cell_type": "code",
      "execution_count": null,
      "id": "f30c8202",
      "metadata": {
        "id": "f30c8202"
      },
      "outputs": [],
      "source": [
        "## Add here anything else you may need"
      ]
    },
    {
      "cell_type": "markdown",
      "id": "760c5a8f",
      "metadata": {
        "id": "760c5a8f"
      },
      "source": [
        "## 1. Find Uncommon Variants\n",
        "\n",
        "The 3 main variants of COVID-19 that we've experienced in the US are:\n",
        "\n",
        "1. Alpha\n",
        "2. Delta\n",
        "3. Omicron\n",
        "\n",
        "However, there are many other variants recognized by the WHO. \n",
        "\n",
        "Determine which other variants are included in this dataset.\n",
        "\n",
        "Sort the variant names alphanumerically and store them in a Python list.\n",
        "\n",
        "*Note: the \"variants\" column of the dataset contains 2 \"catch-all\" categories called \"**non_who**\" and \"**others**\". Do **NOT** include these categories in the list."
      ]
    },
    {
      "cell_type": "code",
      "execution_count": null,
      "id": "c4f869b7",
      "metadata": {
        "id": "c4f869b7"
      },
      "outputs": [],
      "source": [
        "## Write here your code\n"
      ]
    },
    {
      "cell_type": "markdown",
      "id": "5cbdeb65",
      "metadata": {
        "id": "5cbdeb65"
      },
      "source": [
        "## 2. Find the Most Processed Variant\n",
        "\n",
        "Determine which variant of COVID-19 has the most sequences processed.\n"
      ]
    },
    {
      "cell_type": "code",
      "execution_count": null,
      "id": "e9efb902",
      "metadata": {
        "id": "e9efb902"
      },
      "outputs": [],
      "source": [
        "## Write here your code\n"
      ]
    },
    {
      "cell_type": "markdown",
      "id": "663db8ac",
      "metadata": {
        "id": "663db8ac"
      },
      "source": [
        "## 3. Find Best Country at Processing All Sequences\n",
        "\n",
        "Determine which country did the best at processing sequences across **all** variants (including \"catch all\" categories).\n",
        "\n",
        "The output should be the name of a single country.\n"
      ]
    },
    {
      "cell_type": "code",
      "execution_count": null,
      "id": "75c31b41",
      "metadata": {
        "id": "75c31b41"
      },
      "outputs": [],
      "source": [
        "## Write here your code\n"
      ]
    },
    {
      "cell_type": "markdown",
      "id": "11d1d3a0",
      "metadata": {
        "id": "11d1d3a0"
      },
      "source": [
        "## 4a. Find Best Country at Processing Specific Sequences\n",
        "\n",
        "Determine which country did the best at processing sequences across the Alpha, Delta, and Omicron variants.\n",
        "\n",
        "The output should be the name of a single country.\n"
      ]
    },
    {
      "cell_type": "code",
      "execution_count": null,
      "id": "fcafdd2e",
      "metadata": {
        "id": "fcafdd2e"
      },
      "outputs": [],
      "source": [
        "## Write here your code\n"
      ]
    },
    {
      "cell_type": "markdown",
      "id": "9ccb8782",
      "metadata": {
        "id": "9ccb8782"
      },
      "source": [
        "## 4b. Find the Ranking of the US at Processing Specific Sequences\n",
        "\n",
        "Determine the ranking of the US at processing sequences across the Alpha, Delta, and Omicron variants.\n",
        "\n",
        "Store the ranking as an integer.\n",
        "\n",
        "*Note: the best country has a ranking of 1, but indexing in Python starts at 0.*\n",
        "\n",
        "*Note: in Jupyter, variables from already executed code cells are available in other code cells. This means you shouldn't have to copy and paste code from problem 4a.*"
      ]
    },
    {
      "cell_type": "code",
      "execution_count": null,
      "id": "038e81b5",
      "metadata": {
        "id": "038e81b5"
      },
      "outputs": [],
      "source": [
        "## Write here your code\n"
      ]
    },
    {
      "cell_type": "markdown",
      "id": "283e46d3",
      "metadata": {
        "id": "283e46d3"
      },
      "source": [
        "## 5. Find the Number of Processed Sequences Per Country on Date\n",
        "\n",
        "Determine each country's total number of processed sequences for the Omicron variant on December 27, 2021.\n",
        "\n",
        "Sort the output from the highest number of processed sequences to the smallest number of processed sequences.\n",
        "\n",
        "Store the result as a list of tuples, with each tuple containing the country name first and the number of processed sequences second.\n"
      ]
    },
    {
      "cell_type": "code",
      "execution_count": null,
      "id": "6cf6efa9",
      "metadata": {
        "id": "6cf6efa9"
      },
      "outputs": [],
      "source": [
        "## Write here your code\n"
      ]
    },
    {
      "cell_type": "markdown",
      "id": "c2e3afa3",
      "metadata": {
        "id": "c2e3afa3"
      },
      "source": [
        "## 6. Find Percentage of Sequences Processed in the US\n",
        "\n",
        "Determine the percentage of processed sequences for the Alpha, Delta, and Omicron variants in the US.\n",
        "\n",
        "Store the result as a dictionary where keys are variant names and values are percentages.\n"
      ]
    },
    {
      "cell_type": "code",
      "execution_count": null,
      "id": "53126a9c",
      "metadata": {
        "id": "53126a9c"
      },
      "outputs": [],
      "source": [
        "## Write here your code\n"
      ]
    },
    {
      "cell_type": "markdown",
      "id": "07cc884c",
      "metadata": {
        "id": "07cc884c"
      },
      "source": [
        "Report below the challenges you faced in solving this assignment:"
      ]
    },
    {
      "cell_type": "markdown",
      "id": "6a1d808d",
      "metadata": {
        "id": "6a1d808d"
      },
      "source": [
        "Write here your answer"
      ]
    },
    {
      "cell_type": "code",
      "execution_count": null,
      "id": "7b3be80e",
      "metadata": {
        "id": "7b3be80e"
      },
      "outputs": [],
      "source": []
    },
    {
      "cell_type": "markdown",
      "source": [
        "# M2"
      ],
      "metadata": {
        "id": "Hn4Iuwq2L36e"
      },
      "id": "Hn4Iuwq2L36e"
    },
    {
      "cell_type": "markdown",
      "source": [
        "descrition here\n",
        "\n",
        "## steps"
      ],
      "metadata": {
        "id": "WbHFVZrvL7Ca"
      },
      "id": "WbHFVZrvL7Ca"
    }
  ],
  "metadata": {
    "kernelspec": {
      "display_name": "Python 3",
      "language": "python",
      "name": "python3"
    },
    "language_info": {
      "codemirror_mode": {
        "name": "ipython",
        "version": 3
      },
      "file_extension": ".py",
      "mimetype": "text/x-python",
      "name": "python",
      "nbconvert_exporter": "python",
      "pygments_lexer": "ipython3",
      "version": "3.8.8"
    },
    "colab": {
      "provenance": []
    }
  },
  "nbformat": 4,
  "nbformat_minor": 5
}