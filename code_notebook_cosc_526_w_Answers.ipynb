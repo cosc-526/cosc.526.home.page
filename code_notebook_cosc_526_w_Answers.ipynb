{
  "cells": [
    {
      "cell_type": "markdown",
      "source": [
        "# **`M1 - Module 1`**"
      ],
      "metadata": {
        "id": "V_Z6BaBrLzFr"
      },
      "id": "V_Z6BaBrLzFr"
    },
    {
      "cell_type": "markdown",
      "id": "5f09fcd7",
      "metadata": {
        "id": "5f09fcd7"
      },
      "source": [
        "## **M1.8. Python Exercise**"
      ]
    },
    {
      "cell_type": "markdown",
      "source": [
        "1.   Import and manipulate a .csv file  \n",
        "2.   Assess your Python Programming Skills  \n",
        "\n",
        "*  Other assignments are more challenging. Use this one to assess your skills.\n",
        "*  Attempt to solve the problems without searching for online assistance.\n",
        "*  Prepare resource questions for the class discussion to help source additional tools."
      ],
      "metadata": {
        "id": "nxkO9IDmZsmK"
      },
      "id": "nxkO9IDmZsmK"
    },
    {
      "cell_type": "markdown",
      "source": [
        "### 1.8.0 **Import** data from Github URL, .csv. or kaggle api"
      ],
      "metadata": {
        "id": "RNiLo5Rm9SM2"
      },
      "id": "RNiLo5Rm9SM2"
    },
    {
      "cell_type": "code",
      "execution_count": null,
      "id": "c0ba54e2",
      "metadata": {
        "id": "c0ba54e2"
      },
      "outputs": [],
      "source": [
        "#in notebook and colab use !pip freeze to check for specific library\n",
        "#!pip freeze | grep <library_name> command, where <library_name>\n",
        "!pip freeze | grep pandas\n",
        "!pip freeze | grep numpy\n",
        "!pip freeze | grep matplotlib\n",
        "\n",
        "#use the following if \n",
        "#!pip install kaggle"
      ]
    },
    {
      "cell_type": "code",
      "source": [
        "#=> Read Data\n",
        "#=> from a url into pandas or once loaded in notebook\n",
        "import pandas as pd\n",
        "\n",
        "url = \"https://raw.githubusercontent.com/cosc-526/cosc.526.home.page/main/d.M.1.10.assignment.covid.data.variants.csv\"\n",
        "df = pd.read_csv(url)\n",
        "print(\"==> ready! <==\")"
      ],
      "metadata": {
        "id": "8XCKzy-Pfbuw"
      },
      "id": "8XCKzy-Pfbuw",
      "execution_count": null,
      "outputs": []
    },
    {
      "cell_type": "code",
      "source": [
        "#Optional, kaggle direct; need an account and an API!\n",
        "\n",
        "#!mkdir ~/.kaggle\n",
        "!cp /content/kaggle.json ~/.kaggle/   #need to use your kaggle api key\n",
        "'chmod 600 /root/.kaggle/kaggle.json'\n",
        "kaggle.api.authenticate()\n",
        "print(\"==> ready!<==\")"
      ],
      "metadata": {
        "colab": {
          "base_uri": "https://localhost:8080/"
        },
        "id": "RDR43QX93Kb3",
        "outputId": "eda98d7f-c93b-487f-c923-2cfadc945637"
      },
      "id": "RDR43QX93Kb3",
      "execution_count": 17,
      "outputs": [
        {
          "output_type": "stream",
          "name": "stdout",
          "text": [
            "==>api validated<==\n"
          ]
        }
      ]
    },
    {
      "cell_type": "markdown",
      "source": [
        "### 1.8.1. **Inspect**"
      ],
      "metadata": {
        "id": "25Y8fRk8Zfcd"
      },
      "id": "25Y8fRk8Zfcd"
    },
    {
      "cell_type": "code",
      "source": [
        "## Enter solution here"
      ],
      "metadata": {
        "id": "J6JeWBO2Cw78"
      },
      "id": "J6JeWBO2Cw78",
      "execution_count": null,
      "outputs": []
    },
    {
      "cell_type": "markdown",
      "source": [
        "#### **`1.8.0 Solution`**  "
      ],
      "metadata": {
        "id": "4z6COkzkC2KU"
      },
      "id": "4z6COkzkC2KU"
    },
    {
      "cell_type": "code",
      "source": [
        "import kaggle\n",
        "import pandas as pd\n",
        "\n",
        "!kaggle datasets download -d gpreda/covid19-variants\n",
        "\n",
        "# Load the downloaded CSV file into a pandas DataFrame\n",
        "df = pd.read_csv('covid19-variants.zip')\n",
        "\n",
        "# Display the first few rows of the DataFrame\n",
        "print(df.head())\n",
        "print(\"==> descriptive statistics <==\")\n",
        "print(round(df.describe()),1)"
      ],
      "metadata": {
        "colab": {
          "base_uri": "https://localhost:8080/"
        },
        "id": "S9ouy2J0z92o",
        "outputId": "b36b05ab-472b-4f36-ae10-38e1e4205bf0"
      },
      "id": "S9ouy2J0z92o",
      "execution_count": 25,
      "outputs": [
        {
          "output_type": "stream",
          "name": "stdout",
          "text": [
            "covid19-variants.zip: Skipping, found more recently modified local copy (use --force to force download)\n",
            "  location        date    variant  num_sequences  perc_sequences  \\\n",
            "0   Angola  2020-07-06      Alpha              0             0.0   \n",
            "1   Angola  2020-07-06  B.1.1.277              0             0.0   \n",
            "2   Angola  2020-07-06  B.1.1.302              0             0.0   \n",
            "3   Angola  2020-07-06  B.1.1.519              0             0.0   \n",
            "4   Angola  2020-07-06    B.1.160              0             0.0   \n",
            "\n",
            "   num_sequences_total  \n",
            "0                    3  \n",
            "1                    3  \n",
            "2                    3  \n",
            "3                    3  \n",
            "4                    3  \n",
            "==> descriptive statistics <==\n",
            "       num_sequences  perc_sequences  num_sequences_total\n",
            "count       100416.0        100416.0             100416.0\n",
            "mean            72.0             6.0               1510.0\n",
            "std           1669.0            22.0               8445.0\n",
            "min              0.0            -0.0                  1.0\n",
            "25%              0.0             0.0                 12.0\n",
            "50%              0.0             0.0                 59.0\n",
            "75%              0.0             0.0                394.0\n",
            "max         142280.0           100.0             146170.0 1\n"
          ]
        }
      ]
    },
    {
      "cell_type": "markdown",
      "source": [
        "* The covid dataset is from a [this Kaggle page](https://www.kaggle.com/yamqwe/omicron-covid19-variant-daily-cases?select=covid-variants.csv) and a copy is also in the class repository.  \n",
        "* It contains data about the processing of COVID-19 sequences by different countries over time.  \n",
        "* It is comma-separated value (.csv) file with the following six columns.  \n",
        "\n",
        "**=> Dataset Fields <=**  \n",
        "1. `location`: the country for which the information is provided  \n",
        "2. `date`: the date of the data entry  \n",
        "3. `variant`: the COVID-19 variant for the data entry  \n",
        "4. `num_sequences`: the number of sequences **processed** (for the country, variant, and date)  \n",
        "5. `num_sequences_total`: the number of sequences **available** (for the country, variant, and date)  \n",
        "6. `perc_sequences`: the percentage of available number of sequences that were processed (*Note: this value is out of 100*)  \n",
        "\n",
        "note: each dataset row represents the processing of *one* variant by *one* country on *one* day.  \n"
      ],
      "metadata": {
        "id": "L9116iIaLZS8"
      },
      "id": "L9116iIaLZS8"
    },
    {
      "cell_type": "markdown",
      "id": "760c5a8f",
      "metadata": {
        "id": "760c5a8f"
      },
      "source": [
        "### 1.8.1. Find Uncommon Variants  "
      ]
    },
    {
      "cell_type": "markdown",
      "source": [
        "The 3 main variants of COVID-19 that we've experienced in the US are:  \n",
        "\n",
        "*  `Alpha`  \n",
        "*  `Delta`  \n",
        "*  `Omicron`  \n",
        "\n",
        "**Tasks**\n",
        "1. What other variants are recognized by the World Health Organization (WHO) in this dataset?  \n",
        "\n",
        "2. Sort the variant names alphanumerically and store in a list.  \n",
        "\n",
        "**Note:** exclude in output `on_who` and `others` from `variant`  "
      ],
      "metadata": {
        "id": "ZGy_VBO4DDyd"
      },
      "id": "ZGy_VBO4DDyd"
    },
    {
      "cell_type": "code",
      "source": [
        "# Enter solution here"
      ],
      "metadata": {
        "id": "vxMduRg5Cj5u"
      },
      "id": "vxMduRg5Cj5u",
      "execution_count": null,
      "outputs": []
    },
    {
      "cell_type": "markdown",
      "source": [
        "#### **`1.8.1 Solution`**  \n",
        "*  pandas function df.select_dtypes() gets a list of column names but excludes data types we don't need; int64, float64\n",
        "\n",
        "* **`didn't think to use data types?`** here they are: \n",
        "https://pandas.pydata.org/docs/reference/arrays.html\n",
        "\n",
        "* Use for loop to iterate through each non-numeric column name and call pd.crosstab() to create a frequency distribution for each column.\n",
        "\n",
        "* Note that pd.crosstab() can also take multiple column names as arguments, allowing you to create cross-tabulations for multiple categorical variables at once"
      ],
      "metadata": {
        "id": "KQKF_R5Ufrid"
      },
      "id": "KQKF_R5Ufrid"
    },
    {
      "cell_type": "code",
      "source": [
        "import pandas as pd\n",
        "\n",
        "# Create a list of columns without integer or decimal numbers\n",
        "mylist_No_Numbers = df.select_dtypes(exclude=['int64', 'float64']).columns.tolist()\n",
        "\n",
        "#remove the date variable for a cleaner view\n",
        "mylist_No_Numbers.remove('date')\n",
        "print(\"list category names are: \",mylist_No_Numbers)\n",
        "print(\"------------------------------------------\")\n",
        "# Loop through each non-numeric column and display a crosstab of data\n",
        "print(\"My summary of all categories \")\n",
        "for col in mylist_No_Numbers:\n",
        "    print(pd.crosstab(index=df[col], columns='count'))"
      ],
      "metadata": {
        "colab": {
          "base_uri": "https://localhost:8080/"
        },
        "id": "Jv4_m-XQfcOR",
        "outputId": "38267f85-d70a-4f36-9008-36d2f064950f"
      },
      "id": "Jv4_m-XQfcOR",
      "execution_count": 28,
      "outputs": [
        {
          "output_type": "stream",
          "name": "stdout",
          "text": [
            "list category names are:  ['location', 'variant']\n",
            "------------------------------------------\n",
            "My summary of all categories \n",
            "col_0          count\n",
            "location            \n",
            "Angola           672\n",
            "Argentina       1056\n",
            "Aruba            600\n",
            "Australia       1056\n",
            "Austria         1032\n",
            "...              ...\n",
            "United States   1080\n",
            "Uruguay          576\n",
            "Vietnam          504\n",
            "Zambia           816\n",
            "Zimbabwe         672\n",
            "\n",
            "[121 rows x 1 columns]\n",
            "col_0           count\n",
            "variant              \n",
            "Alpha            4184\n",
            "B.1.1.277        4184\n",
            "B.1.1.302        4184\n",
            "B.1.1.519        4184\n",
            "B.1.160          4184\n",
            "B.1.177          4184\n",
            "B.1.221          4184\n",
            "B.1.258          4184\n",
            "B.1.367          4184\n",
            "B.1.620          4184\n",
            "Beta             4184\n",
            "Delta            4184\n",
            "Epsilon          4184\n",
            "Eta              4184\n",
            "Gamma            4184\n",
            "Iota             4184\n",
            "Kappa            4184\n",
            "Lambda           4184\n",
            "Mu               4184\n",
            "Omicron          4184\n",
            "S:677H.Robin1    4184\n",
            "S:677P.Pelican   4184\n",
            "non_who          4184\n",
            "others           4184\n"
          ]
        }
      ]
    },
    {
      "cell_type": "code",
      "source": [
        "# filter out catch all categories\n",
        "unwanted_categories = ['non_who','others']\n",
        "mylist_filtered = [category for category in df['variant'] if category not in unwanted_categories]\n",
        "mylist_filtered.sort()\n",
        "print(pd.crosstab(index=mylist_filtered, columns='count'))\n",
        "print(\"total.categories=\",len(pd.crosstab(index=mylist_filtered,columns='count')))\n"
      ],
      "metadata": {
        "colab": {
          "base_uri": "https://localhost:8080/"
        },
        "id": "7vnPwy2EkCuQ",
        "outputId": "b3d15797-f8e1-4a24-d592-99a51dd030e6"
      },
      "id": "7vnPwy2EkCuQ",
      "execution_count": null,
      "outputs": [
        {
          "output_type": "stream",
          "name": "stdout",
          "text": [
            "col_0           count\n",
            "row_0                \n",
            "Alpha            4184\n",
            "B.1.1.277        4184\n",
            "B.1.1.302        4184\n",
            "B.1.1.519        4184\n",
            "B.1.160          4184\n",
            "B.1.177          4184\n",
            "B.1.221          4184\n",
            "B.1.258          4184\n",
            "B.1.367          4184\n",
            "B.1.620          4184\n",
            "Beta             4184\n",
            "Delta            4184\n",
            "Epsilon          4184\n",
            "Eta              4184\n",
            "Gamma            4184\n",
            "Iota             4184\n",
            "Kappa            4184\n",
            "Lambda           4184\n",
            "Mu               4184\n",
            "Omicron          4184\n",
            "S:677H.Robin1    4184\n",
            "S:677P.Pelican   4184\n",
            "total.categories= 22\n"
          ]
        }
      ]
    },
    {
      "cell_type": "code",
      "execution_count": null,
      "id": "c4f869b7",
      "metadata": {
        "id": "c4f869b7",
        "colab": {
          "base_uri": "https://localhost:8080/"
        },
        "outputId": "d3b42597-b64d-4b1a-e181-8bd7c3032b77"
      },
      "outputs": [
        {
          "output_type": "stream",
          "name": "stdout",
          "text": [
            "       num_sequences  perc_sequences  num_sequences_total\n",
            "count       100416.0        100416.0             100416.0\n",
            "mean            72.0             6.0               1510.0\n",
            "std           1669.0            22.0               8445.0\n",
            "min              0.0            -0.0                  1.0\n",
            "25%              0.0             0.0                 12.0\n",
            "50%              0.0             0.0                 59.0\n",
            "75%              0.0             0.0                394.0\n",
            "max         142280.0           100.0             146170.0 1\n",
            "   variant  count\n",
            "0    Alpha   4184\n",
            "1     Beta   4184\n",
            "2    Delta   4184\n",
            "3    Gamma   4184\n",
            "4   Lambda   4184\n",
            "5  Omicron   4184\n"
          ]
        }
      ],
      "source": [
        "print(round(df.describe()),1)\n",
        "# Filter out the \"others\" and \"non_who\" variant categories\n",
        "df = df[df.variant.isin(['Alpha', 'Beta', 'Delta', 'Gamma', 'Lambda', 'Omicron'])]\n",
        "\n",
        "# Group the data by the \"variant\" variable and count the occurrences\n",
        "variant_counts = df.groupby('variant').size().reset_index(name='count')\n",
        "\n",
        "# Print the resulting table\n",
        "print(variant_counts)"
      ]
    },
    {
      "cell_type": "markdown",
      "id": "5cbdeb65",
      "metadata": {
        "id": "5cbdeb65"
      },
      "source": [
        "### 1.8.2. Find the Most Processed Variant\n",
        "\n",
        "Determine which variant of COVID-19 has the most sequences processed.\n"
      ]
    },
    {
      "cell_type": "code",
      "execution_count": null,
      "id": "e9efb902",
      "metadata": {
        "id": "e9efb902"
      },
      "outputs": [],
      "source": [
        "## Write here your code\n"
      ]
    },
    {
      "cell_type": "markdown",
      "id": "663db8ac",
      "metadata": {
        "id": "663db8ac"
      },
      "source": [
        "### 1.8.3. Find Best Country at Processing All Sequences\n",
        "\n",
        "Determine which country did the best at processing sequences across **all** variants (including \"catch all\" categories).\n",
        "\n",
        "The output should be the name of a single country.\n"
      ]
    },
    {
      "cell_type": "code",
      "execution_count": null,
      "id": "75c31b41",
      "metadata": {
        "id": "75c31b41"
      },
      "outputs": [],
      "source": [
        "## Write here your code\n"
      ]
    },
    {
      "cell_type": "markdown",
      "id": "11d1d3a0",
      "metadata": {
        "id": "11d1d3a0"
      },
      "source": [
        "### 1.8.4a. Find Best Country at Processing Specific Sequences\n",
        "\n",
        "Determine which country did the best at processing sequences across the Alpha, Delta, and Omicron variants.\n",
        "\n",
        "The output should be the name of a single country.\n"
      ]
    },
    {
      "cell_type": "code",
      "execution_count": null,
      "id": "fcafdd2e",
      "metadata": {
        "id": "fcafdd2e"
      },
      "outputs": [],
      "source": [
        "## Write here your code\n"
      ]
    },
    {
      "cell_type": "markdown",
      "id": "9ccb8782",
      "metadata": {
        "id": "9ccb8782"
      },
      "source": [
        "### 1.8.4b. Find the Ranking of the US at Processing Specific Sequences\n",
        "\n",
        "Determine the ranking of the US at processing sequences across the Alpha, Delta, and Omicron variants.\n",
        "\n",
        "Store the ranking as an integer.\n",
        "\n",
        "*Note: the best country has a ranking of 1, but indexing in Python starts at 0.*\n",
        "\n",
        "*Note: in Jupyter, variables from already executed code cells are available in other code cells. This means you shouldn't have to copy and paste code from problem 4a.*"
      ]
    },
    {
      "cell_type": "code",
      "execution_count": null,
      "id": "038e81b5",
      "metadata": {
        "id": "038e81b5"
      },
      "outputs": [],
      "source": [
        "## Write here your code\n"
      ]
    },
    {
      "cell_type": "markdown",
      "id": "283e46d3",
      "metadata": {
        "id": "283e46d3"
      },
      "source": [
        "### 1.8.5. Find the Number of Processed Sequences Per Country on Date\n",
        "\n",
        "Determine each country's total number of processed sequences for the Omicron variant on December 27, 2021.\n",
        "\n",
        "Sort the output from the highest number of processed sequences to the smallest number of processed sequences.\n",
        "\n",
        "Store the result as a list of tuples, with each tuple containing the country name first and the number of processed sequences second.\n"
      ]
    },
    {
      "cell_type": "code",
      "execution_count": null,
      "id": "6cf6efa9",
      "metadata": {
        "id": "6cf6efa9"
      },
      "outputs": [],
      "source": [
        "## Write here your code\n"
      ]
    },
    {
      "cell_type": "markdown",
      "id": "c2e3afa3",
      "metadata": {
        "id": "c2e3afa3"
      },
      "source": [
        "### 1.8.6. Find Percentage of Sequences Processed in the US\n",
        "\n",
        "Determine the percentage of processed sequences for the Alpha, Delta, and Omicron variants in the US.\n",
        "\n",
        "Store the result as a dictionary where keys are variant names and values are percentages.\n"
      ]
    },
    {
      "cell_type": "code",
      "execution_count": null,
      "id": "53126a9c",
      "metadata": {
        "id": "53126a9c"
      },
      "outputs": [],
      "source": [
        "## Write here your code\n"
      ]
    },
    {
      "cell_type": "markdown",
      "id": "07cc884c",
      "metadata": {
        "id": "07cc884c"
      },
      "source": [
        "### 1.8.7. Report any assignment challenges"
      ]
    },
    {
      "cell_type": "code",
      "execution_count": null,
      "id": "7b3be80e",
      "metadata": {
        "id": "7b3be80e"
      },
      "outputs": [],
      "source": [
        "# Write here your answer"
      ]
    },
    {
      "cell_type": "markdown",
      "source": [
        "## **M.1 Assignment.1**"
      ],
      "metadata": {
        "id": "D9iM0eEJDnLT"
      },
      "id": "D9iM0eEJDnLT"
    },
    {
      "cell_type": "markdown",
      "source": [],
      "metadata": {
        "id": "1hBLc5niDur-"
      },
      "id": "1hBLc5niDur-"
    },
    {
      "cell_type": "markdown",
      "source": [
        "# **`M2 - Module 2`**"
      ],
      "metadata": {
        "id": "Hn4Iuwq2L36e"
      },
      "id": "Hn4Iuwq2L36e"
    },
    {
      "cell_type": "markdown",
      "source": [
        "descrition here\n",
        "\n",
        "## steps"
      ],
      "metadata": {
        "id": "WbHFVZrvL7Ca"
      },
      "id": "WbHFVZrvL7Ca"
    }
  ],
  "metadata": {
    "kernelspec": {
      "display_name": "Python 3",
      "language": "python",
      "name": "python3"
    },
    "language_info": {
      "codemirror_mode": {
        "name": "ipython",
        "version": 3
      },
      "file_extension": ".py",
      "mimetype": "text/x-python",
      "name": "python",
      "nbconvert_exporter": "python",
      "pygments_lexer": "ipython3",
      "version": "3.8.8"
    },
    "colab": {
      "provenance": [],
      "collapsed_sections": [
        "5f09fcd7",
        "RNiLo5Rm9SM2",
        "25Y8fRk8Zfcd",
        "4z6COkzkC2KU",
        "KQKF_R5Ufrid",
        "11d1d3a0",
        "D9iM0eEJDnLT",
        "Hn4Iuwq2L36e"
      ]
    }
  },
  "nbformat": 4,
  "nbformat_minor": 5
}