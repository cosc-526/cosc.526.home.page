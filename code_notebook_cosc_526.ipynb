{
  "cells": [
    {
      "cell_type": "markdown",
      "source": [
        "# M1 - Module 1"
      ],
      "metadata": {
        "id": "V_Z6BaBrLzFr"
      },
      "id": "V_Z6BaBrLzFr"
    },
    {
      "cell_type": "markdown",
      "id": "5f09fcd7",
      "metadata": {
        "id": "5f09fcd7"
      },
      "source": [
        "## M1.8. Python Exercise "
      ]
    },
    {
      "cell_type": "markdown",
      "source": [
        "1.   Import and manipulate a .csv file  \n",
        "2.   Assess your Python Programming Skills  \n",
        "\n",
        "*  Other assignments are more challenging. Use this one to assess your skills.\n",
        "*  Attempt to solve the problems without searching for online assistance.\n",
        "*  Prepare resource questions for the class discussion to help source additional tools."
      ],
      "metadata": {
        "id": "nxkO9IDmZsmK"
      },
      "id": "nxkO9IDmZsmK"
    },
    {
      "cell_type": "markdown",
      "source": [
        "### 1.8.1. Setup"
      ],
      "metadata": {
        "id": "25Y8fRk8Zfcd"
      },
      "id": "25Y8fRk8Zfcd"
    },
    {
      "cell_type": "markdown",
      "source": [
        "* The covid dataset is from a [this Kaggle page](https://www.kaggle.com/yamqwe/omicron-covid19-variant-daily-cases?select=covid-variants.csv) and a copy is also in the class repository.  \n",
        "* It contains data about the processing of COVID-19 sequences by different countries over time.  \n",
        "* It is comma-separated value (.csv) file with the following six columns.  \n",
        "\n",
        "**=>Dataset Fields**  \n",
        "1. `location`: the country for which the information is provided  \n",
        "2. `date`: the date of the data entry  \n",
        "3. `variant`: the COVID-19 variant for the data entry  \n",
        "4. `num_sequences`: the number of sequences **processed** (for the country, variant, and date)  \n",
        "5. `num_sequences_total`: the number of sequences **available** (for the country, variant, and date)  \n",
        "6. `perc_sequences`: the percentage of available number of sequences that were processed (*Note: this value is out of 100*)  \n",
        "\n",
        "note: each dataset row represents the processing of *one* variant by *one* country on *one* day.  \n"
      ],
      "metadata": {
        "id": "L9116iIaLZS8"
      },
      "id": "L9116iIaLZS8"
    },
    {
      "cell_type": "code",
      "execution_count": 18,
      "id": "c0ba54e2",
      "metadata": {
        "id": "c0ba54e2",
        "colab": {
          "base_uri": "https://localhost:8080/"
        },
        "outputId": "28ad9b4c-ecfe-45f5-923b-968f776d08eb"
      },
      "outputs": [
        {
          "output_type": "stream",
          "name": "stdout",
          "text": [
            "pandas==1.5.3\n",
            "pandas-datareader==0.10.0\n",
            "pandas-gbq==0.17.9\n",
            "sklearn-pandas==2.2.0\n",
            "numpy==1.22.4\n",
            "matplotlib==3.7.1\n",
            "matplotlib-inline==0.1.6\n",
            "matplotlib-venn==0.11.9\n"
          ]
        }
      ],
      "source": [
        "## What packages are needed?\n",
        "\n",
        "#in notebook and colab use !pip freeze to check for specific library\n",
        "#!pip freeze | grep <library_name> command, where <library_name>\n",
        "!pip freeze | grep pandas\n",
        "!pip freeze | grep numpy\n",
        "!pip freeze | grep matplotlib\n"
      ]
    },
    {
      "cell_type": "markdown",
      "id": "760c5a8f",
      "metadata": {
        "id": "760c5a8f"
      },
      "source": [
        "## 1.8.1. Find Uncommon Variants\n",
        "\n",
        "The 3 main variants of COVID-19 that we've experienced in the US are:\n",
        "\n",
        "1. Alpha\n",
        "2. Delta\n",
        "3. Omicron\n",
        "\n",
        "What other variants are recognized by the World Health Organization (WHO) in this dataset?\n",
        "\n",
        "Sort the variant names alphanumerically and store them in a Python list.\n",
        "\n",
        "*Note: the \"variants\" column of the dataset contains 2 \"catch-all\" categories called \"**non_who**\" and \"**others**\". Do **NOT** include these categories in the list."
      ]
    },
    {
      "cell_type": "code",
      "source": [
        "## Write here your code\n",
        "#=> read the data into pandas or similar\n",
        "import pandas as pd\n",
        "\n",
        "url = 'https://www.kaggle.com/datasets/yamqwe/omicron-covid19-variant-daily-cases?select=covid-variants.csv'\n",
        "url = \"https://raw.githubusercontent.com/cosc-526/cosc.526.home.page/main/d.M.1.10.assignment.covid.data.variants.csv\"\n",
        "df = pd.read_csv(url)\n",
        "print(\"==>done<==\")"
      ],
      "metadata": {
        "colab": {
          "base_uri": "https://localhost:8080/"
        },
        "id": "8XCKzy-Pfbuw",
        "outputId": "b2d7e0c8-c1fd-486e-e76b-ac8bad179993"
      },
      "id": "8XCKzy-Pfbuw",
      "execution_count": 15,
      "outputs": [
        {
          "output_type": "stream",
          "name": "stdout",
          "text": [
            "===>done\n"
          ]
        }
      ]
    },
    {
      "cell_type": "markdown",
      "source": [
        "In this code, select_dtypes() is used to get a list of column names that have non-numeric data types (excluding int64 and float64). The for loop then iterates through each non-numeric column name and calls pd.crosstab() to create a frequency distribution for that column. The resulting cross-tabulations are printed to the console.\n",
        "\n",
        "Note that pd.crosstab() can also take multiple column names as arguments, allowing you to create cross-tabulations for multiple categorical variables at once"
      ],
      "metadata": {
        "id": "KQKF_R5Ufrid"
      },
      "id": "KQKF_R5Ufrid"
    },
    {
      "cell_type": "code",
      "source": [
        "import pandas as pd\n",
        "\n",
        "# Create a list of columns without integer or decimal numbers\n",
        "mylist_noNumbers = df.select_dtypes(exclude=['int64', 'float64']).columns.tolist()\n",
        "\n",
        "#remove the date variable for a cleaner view\n",
        "mylist_noNumbers.remove('date')\n",
        "\n",
        "# Loop through each non-numeric column and display a crosstab of data\n",
        "for col in mylist_noNumbers:\n",
        "    print(pd.crosstab(index=df[col], columns='count'))"
      ],
      "metadata": {
        "colab": {
          "base_uri": "https://localhost:8080/"
        },
        "id": "Jv4_m-XQfcOR",
        "outputId": "0a9ea3af-95f9-4236-82a8-40b3a70f47fc"
      },
      "id": "Jv4_m-XQfcOR",
      "execution_count": 24,
      "outputs": [
        {
          "output_type": "stream",
          "name": "stdout",
          "text": [
            "col_0          count\n",
            "location            \n",
            "Angola           672\n",
            "Argentina       1056\n",
            "Aruba            600\n",
            "Australia       1056\n",
            "Austria         1032\n",
            "...              ...\n",
            "United States   1080\n",
            "Uruguay          576\n",
            "Vietnam          504\n",
            "Zambia           816\n",
            "Zimbabwe         672\n",
            "\n",
            "[121 rows x 1 columns]\n",
            "col_0           count\n",
            "variant              \n",
            "Alpha            4184\n",
            "B.1.1.277        4184\n",
            "B.1.1.302        4184\n",
            "B.1.1.519        4184\n",
            "B.1.160          4184\n",
            "B.1.177          4184\n",
            "B.1.221          4184\n",
            "B.1.258          4184\n",
            "B.1.367          4184\n",
            "B.1.620          4184\n",
            "Beta             4184\n",
            "Delta            4184\n",
            "Epsilon          4184\n",
            "Eta              4184\n",
            "Gamma            4184\n",
            "Iota             4184\n",
            "Kappa            4184\n",
            "Lambda           4184\n",
            "Mu               4184\n",
            "Omicron          4184\n",
            "S:677H.Robin1    4184\n",
            "S:677P.Pelican   4184\n",
            "non_who          4184\n",
            "others           4184\n"
          ]
        }
      ]
    },
    {
      "cell_type": "code",
      "source": [
        "mylist_noNumbers"
      ],
      "metadata": {
        "colab": {
          "base_uri": "https://localhost:8080/"
        },
        "id": "2-GHG49gmd3W",
        "outputId": "7de157c5-0e5e-4c84-9074-4f1b078f1716"
      },
      "id": "2-GHG49gmd3W",
      "execution_count": 26,
      "outputs": [
        {
          "output_type": "execute_result",
          "data": {
            "text/plain": [
              "['location', 'variant']"
            ]
          },
          "metadata": {},
          "execution_count": 26
        }
      ]
    },
    {
      "cell_type": "code",
      "source": [
        "# filter out catch all categories\n",
        "unwanted_categories = ['non_who','others']\n",
        "mylist_filtered = [category for category in df['variant'] if category not in unwanted_categories]\n",
        "mylist_filtered.sort()\n",
        "print(pd.crosstab(index=mylist_filtered, columns='count'))\n",
        "print(\"total.categories=\",len(pd.crosstab(index=mylist_filtered,columns='count')))\n"
      ],
      "metadata": {
        "colab": {
          "base_uri": "https://localhost:8080/"
        },
        "id": "7vnPwy2EkCuQ",
        "outputId": "b3d15797-f8e1-4a24-d592-99a51dd030e6"
      },
      "id": "7vnPwy2EkCuQ",
      "execution_count": 36,
      "outputs": [
        {
          "output_type": "stream",
          "name": "stdout",
          "text": [
            "col_0           count\n",
            "row_0                \n",
            "Alpha            4184\n",
            "B.1.1.277        4184\n",
            "B.1.1.302        4184\n",
            "B.1.1.519        4184\n",
            "B.1.160          4184\n",
            "B.1.177          4184\n",
            "B.1.221          4184\n",
            "B.1.258          4184\n",
            "B.1.367          4184\n",
            "B.1.620          4184\n",
            "Beta             4184\n",
            "Delta            4184\n",
            "Epsilon          4184\n",
            "Eta              4184\n",
            "Gamma            4184\n",
            "Iota             4184\n",
            "Kappa            4184\n",
            "Lambda           4184\n",
            "Mu               4184\n",
            "Omicron          4184\n",
            "S:677H.Robin1    4184\n",
            "S:677P.Pelican   4184\n",
            "total.categories= 22\n"
          ]
        }
      ]
    },
    {
      "cell_type": "code",
      "execution_count": 6,
      "id": "c4f869b7",
      "metadata": {
        "id": "c4f869b7",
        "colab": {
          "base_uri": "https://localhost:8080/"
        },
        "outputId": "d3b42597-b64d-4b1a-e181-8bd7c3032b77"
      },
      "outputs": [
        {
          "output_type": "stream",
          "name": "stdout",
          "text": [
            "       num_sequences  perc_sequences  num_sequences_total\n",
            "count       100416.0        100416.0             100416.0\n",
            "mean            72.0             6.0               1510.0\n",
            "std           1669.0            22.0               8445.0\n",
            "min              0.0            -0.0                  1.0\n",
            "25%              0.0             0.0                 12.0\n",
            "50%              0.0             0.0                 59.0\n",
            "75%              0.0             0.0                394.0\n",
            "max         142280.0           100.0             146170.0 1\n",
            "   variant  count\n",
            "0    Alpha   4184\n",
            "1     Beta   4184\n",
            "2    Delta   4184\n",
            "3    Gamma   4184\n",
            "4   Lambda   4184\n",
            "5  Omicron   4184\n"
          ]
        }
      ],
      "source": [
        "print(round(df.describe()),1)\n",
        "# Filter out the \"others\" and \"non_who\" variant categories\n",
        "df = df[df.variant.isin(['Alpha', 'Beta', 'Delta', 'Gamma', 'Lambda', 'Omicron'])]\n",
        "\n",
        "# Group the data by the \"variant\" variable and count the occurrences\n",
        "variant_counts = df.groupby('variant').size().reset_index(name='count')\n",
        "\n",
        "# Print the resulting table\n",
        "print(variant_counts)"
      ]
    },
    {
      "cell_type": "markdown",
      "id": "5cbdeb65",
      "metadata": {
        "id": "5cbdeb65"
      },
      "source": [
        "## 1.8.2. Find the Most Processed Variant\n",
        "\n",
        "Determine which variant of COVID-19 has the most sequences processed.\n"
      ]
    },
    {
      "cell_type": "code",
      "execution_count": null,
      "id": "e9efb902",
      "metadata": {
        "id": "e9efb902"
      },
      "outputs": [],
      "source": [
        "## Write here your code\n"
      ]
    },
    {
      "cell_type": "markdown",
      "id": "663db8ac",
      "metadata": {
        "id": "663db8ac"
      },
      "source": [
        "## 1.8.3. Find Best Country at Processing All Sequences\n",
        "\n",
        "Determine which country did the best at processing sequences across **all** variants (including \"catch all\" categories).\n",
        "\n",
        "The output should be the name of a single country.\n"
      ]
    },
    {
      "cell_type": "code",
      "execution_count": null,
      "id": "75c31b41",
      "metadata": {
        "id": "75c31b41"
      },
      "outputs": [],
      "source": [
        "## Write here your code\n"
      ]
    },
    {
      "cell_type": "markdown",
      "id": "11d1d3a0",
      "metadata": {
        "id": "11d1d3a0"
      },
      "source": [
        "## 1.8.4a. Find Best Country at Processing Specific Sequences\n",
        "\n",
        "Determine which country did the best at processing sequences across the Alpha, Delta, and Omicron variants.\n",
        "\n",
        "The output should be the name of a single country.\n"
      ]
    },
    {
      "cell_type": "code",
      "execution_count": null,
      "id": "fcafdd2e",
      "metadata": {
        "id": "fcafdd2e"
      },
      "outputs": [],
      "source": [
        "## Write here your code\n"
      ]
    },
    {
      "cell_type": "markdown",
      "id": "9ccb8782",
      "metadata": {
        "id": "9ccb8782"
      },
      "source": [
        "## 1.8.4b. Find the Ranking of the US at Processing Specific Sequences\n",
        "\n",
        "Determine the ranking of the US at processing sequences across the Alpha, Delta, and Omicron variants.\n",
        "\n",
        "Store the ranking as an integer.\n",
        "\n",
        "*Note: the best country has a ranking of 1, but indexing in Python starts at 0.*\n",
        "\n",
        "*Note: in Jupyter, variables from already executed code cells are available in other code cells. This means you shouldn't have to copy and paste code from problem 4a.*"
      ]
    },
    {
      "cell_type": "code",
      "execution_count": null,
      "id": "038e81b5",
      "metadata": {
        "id": "038e81b5"
      },
      "outputs": [],
      "source": [
        "## Write here your code\n"
      ]
    },
    {
      "cell_type": "markdown",
      "id": "283e46d3",
      "metadata": {
        "id": "283e46d3"
      },
      "source": [
        "## 1.8.5. Find the Number of Processed Sequences Per Country on Date\n",
        "\n",
        "Determine each country's total number of processed sequences for the Omicron variant on December 27, 2021.\n",
        "\n",
        "Sort the output from the highest number of processed sequences to the smallest number of processed sequences.\n",
        "\n",
        "Store the result as a list of tuples, with each tuple containing the country name first and the number of processed sequences second.\n"
      ]
    },
    {
      "cell_type": "code",
      "execution_count": null,
      "id": "6cf6efa9",
      "metadata": {
        "id": "6cf6efa9"
      },
      "outputs": [],
      "source": [
        "## Write here your code\n"
      ]
    },
    {
      "cell_type": "markdown",
      "id": "c2e3afa3",
      "metadata": {
        "id": "c2e3afa3"
      },
      "source": [
        "## 1.8.6. Find Percentage of Sequences Processed in the US\n",
        "\n",
        "Determine the percentage of processed sequences for the Alpha, Delta, and Omicron variants in the US.\n",
        "\n",
        "Store the result as a dictionary where keys are variant names and values are percentages.\n"
      ]
    },
    {
      "cell_type": "code",
      "execution_count": null,
      "id": "53126a9c",
      "metadata": {
        "id": "53126a9c"
      },
      "outputs": [],
      "source": [
        "## Write here your code\n"
      ]
    },
    {
      "cell_type": "markdown",
      "id": "07cc884c",
      "metadata": {
        "id": "07cc884c"
      },
      "source": [
        "## 1.8.7. Report any assignment challenges"
      ]
    },
    {
      "cell_type": "code",
      "execution_count": null,
      "id": "7b3be80e",
      "metadata": {
        "id": "7b3be80e"
      },
      "outputs": [],
      "source": [
        "# Write here your answer"
      ]
    },
    {
      "cell_type": "markdown",
      "source": [
        "# M2 - Module 2"
      ],
      "metadata": {
        "id": "Hn4Iuwq2L36e"
      },
      "id": "Hn4Iuwq2L36e"
    },
    {
      "cell_type": "markdown",
      "source": [
        "descrition here\n",
        "\n",
        "## steps"
      ],
      "metadata": {
        "id": "WbHFVZrvL7Ca"
      },
      "id": "WbHFVZrvL7Ca"
    }
  ],
  "metadata": {
    "kernelspec": {
      "display_name": "Python 3",
      "language": "python",
      "name": "python3"
    },
    "language_info": {
      "codemirror_mode": {
        "name": "ipython",
        "version": 3
      },
      "file_extension": ".py",
      "mimetype": "text/x-python",
      "name": "python",
      "nbconvert_exporter": "python",
      "pygments_lexer": "ipython3",
      "version": "3.8.8"
    },
    "colab": {
      "provenance": [],
      "collapsed_sections": [
        "5cbdeb65"
      ]
    }
  },
  "nbformat": 4,
  "nbformat_minor": 5
}